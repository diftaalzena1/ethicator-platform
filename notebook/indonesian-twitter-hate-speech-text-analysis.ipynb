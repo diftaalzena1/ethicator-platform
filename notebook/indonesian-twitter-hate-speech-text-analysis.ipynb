{
 "cells": [
  {
   "cell_type": "markdown",
   "id": "153d7f8f",
   "metadata": {
    "papermill": {
     "duration": 0.024718,
     "end_time": "2023-12-13T21:32:47.865184",
     "exception": false,
     "start_time": "2023-12-13T21:32:47.840466",
     "status": "completed"
    },
    "tags": []
   },
   "source": [
    "## Import Library"
   ]
  },
  {
   "cell_type": "code",
   "execution_count": 1,
   "id": "7654fc05",
   "metadata": {
    "execution": {
     "iopub.execute_input": "2023-12-13T21:32:47.916523Z",
     "iopub.status.busy": "2023-12-13T21:32:47.916117Z",
     "iopub.status.idle": "2023-12-13T21:33:00.749527Z",
     "shell.execute_reply": "2023-12-13T21:33:00.748351Z"
    },
    "papermill": {
     "duration": 12.861973,
     "end_time": "2023-12-13T21:33:00.751980",
     "exception": false,
     "start_time": "2023-12-13T21:32:47.890007",
     "status": "completed"
    },
    "tags": []
   },
   "outputs": [
    {
     "name": "stdout",
     "output_type": "stream",
     "text": [
      "Collecting PySastrawi\n",
      "  Obtaining dependency information for PySastrawi from https://files.pythonhosted.org/packages/61/84/b0a5454a040f81e81e6a95a5d5635f20ad43cc0c288f8b4966b339084962/PySastrawi-1.2.0-py2.py3-none-any.whl.metadata\n",
      "  Downloading PySastrawi-1.2.0-py2.py3-none-any.whl.metadata (892 bytes)\n",
      "Downloading PySastrawi-1.2.0-py2.py3-none-any.whl (210 kB)\n",
      "   ---------------------------------------- 0.0/210.6 kB ? eta -:--:--\n",
      "   ----- --------------------------------- 30.7/210.6 kB 660.6 kB/s eta 0:00:01\n",
      "   --------------------- ------------------ 112.6/210.6 kB 1.3 MB/s eta 0:00:01\n",
      "   ---------------------------------------- 210.6/210.6 kB 1.8 MB/s eta 0:00:00\n",
      "Installing collected packages: PySastrawi\n",
      "Successfully installed PySastrawi-1.2.0\n"
     ]
    }
   ],
   "source": [
    "!pip install PySastrawi"
   ]
  },
  {
   "cell_type": "code",
   "execution_count": 3,
   "id": "8d80cadc",
   "metadata": {
    "execution": {
     "iopub.execute_input": "2023-12-13T21:33:00.806917Z",
     "iopub.status.busy": "2023-12-13T21:33:00.805731Z",
     "iopub.status.idle": "2023-12-13T21:33:03.059820Z",
     "shell.execute_reply": "2023-12-13T21:33:03.058806Z"
    },
    "papermill": {
     "duration": 2.284841,
     "end_time": "2023-12-13T21:33:03.062351",
     "exception": false,
     "start_time": "2023-12-13T21:33:00.777510",
     "status": "completed"
    },
    "tags": []
   },
   "outputs": [],
   "source": [
    "import numpy as np\n",
    "import pandas as pd\n",
    "import matplotlib.pyplot as plt\n",
    "import seaborn as sns\n",
    "from collections import Counter, OrderedDict\n",
    "\n",
    "import matplotlib.pyplot as plt\n",
    "import seaborn as sns\n",
    "\n",
    "from sklearn.feature_extraction.text import TfidfVectorizer\n",
    "\n",
    "from sklearn.model_selection import train_test_split\n",
    "from sklearn.metrics import f1_score, classification_report\n",
    "\n",
    "from sklearn.neighbors import KNeighborsClassifier\n",
    "from sklearn.linear_model import LogisticRegression\n",
    "from sklearn.svm import SVC\n",
    "from sklearn.naive_bayes import ComplementNB, BernoulliNB\n",
    "from sklearn.tree import DecisionTreeClassifier\n",
    "from sklearn.ensemble import RandomForestClassifier\n",
    "\n",
    "import warnings\n",
    "warnings.filterwarnings(\"ignore\")"
   ]
  },
  {
   "cell_type": "markdown",
   "id": "0283dab8",
   "metadata": {
    "papermill": {
     "duration": 0.067332,
     "end_time": "2023-12-13T21:33:03.155592",
     "exception": false,
     "start_time": "2023-12-13T21:33:03.088260",
     "status": "completed"
    },
    "tags": []
   },
   "source": [
    "## Load Data"
   ]
  },
  {
   "cell_type": "code",
   "execution_count": 4,
   "id": "3b0fdcbd",
   "metadata": {
    "execution": {
     "iopub.execute_input": "2023-12-13T21:33:03.209207Z",
     "iopub.status.busy": "2023-12-13T21:33:03.208667Z",
     "iopub.status.idle": "2023-12-13T21:33:03.329723Z",
     "shell.execute_reply": "2023-12-13T21:33:03.328737Z"
    },
    "papermill": {
     "duration": 0.150659,
     "end_time": "2023-12-13T21:33:03.332048",
     "exception": false,
     "start_time": "2023-12-13T21:33:03.181389",
     "status": "completed"
    },
    "tags": []
   },
   "outputs": [],
   "source": [
    "import pandas as pd\n",
    "\n",
    "data = pd.read_csv(r'C:\\LOMBA\\AI GUARDIAN 2.0\\data\\data.csv', encoding='latin-1')\n",
    "\n",
    "alay_dict = pd.read_csv(r'C:\\LOMBA\\AI GUARDIAN 2.0\\data\\new_kamusalay.csv', encoding='latin-1', header=None)\n",
    "\n",
    "id_stopword_dict = pd.read_csv(r'C:\\LOMBA\\AI GUARDIAN 2.0\\data\\stopwordbahasa.csv', header=None)\n",
    "id_stopword_dict = id_stopword_dict.rename(columns={0: 'stopword'})\n",
    "\n",
    "abusive_dict = pd.read_csv(r'C:\\LOMBA\\AI GUARDIAN 2.0\\data\\abusive.csv', encoding='latin-1')\n",
    "abusive_dict = abusive_dict['ABUSIVE'].str.lower().tolist()"
   ]
  },
  {
   "cell_type": "markdown",
   "id": "b74af02d",
   "metadata": {
    "papermill": {
     "duration": 0.025059,
     "end_time": "2023-12-13T21:33:03.383147",
     "exception": false,
     "start_time": "2023-12-13T21:33:03.358088",
     "status": "completed"
    },
    "tags": []
   },
   "source": [
    "## Data Shape"
   ]
  },
  {
   "cell_type": "code",
   "execution_count": 5,
   "id": "5691b95b",
   "metadata": {
    "execution": {
     "iopub.execute_input": "2023-12-13T21:33:03.435003Z",
     "iopub.status.busy": "2023-12-13T21:33:03.434608Z",
     "iopub.status.idle": "2023-12-13T21:33:03.451752Z",
     "shell.execute_reply": "2023-12-13T21:33:03.450842Z"
    },
    "papermill": {
     "duration": 0.045609,
     "end_time": "2023-12-13T21:33:03.453885",
     "exception": false,
     "start_time": "2023-12-13T21:33:03.408276",
     "status": "completed"
    },
    "tags": []
   },
   "outputs": [
    {
     "name": "stdout",
     "output_type": "stream",
     "text": [
      "Shape:  (13169, 13)\n"
     ]
    },
    {
     "data": {
      "application/vnd.microsoft.datawrangler.viewer.v0+json": {
       "columns": [
        {
         "name": "index",
         "rawType": "int64",
         "type": "integer"
        },
        {
         "name": "Tweet",
         "rawType": "object",
         "type": "string"
        },
        {
         "name": "HS",
         "rawType": "int64",
         "type": "integer"
        },
        {
         "name": "Abusive",
         "rawType": "int64",
         "type": "integer"
        },
        {
         "name": "HS_Individual",
         "rawType": "int64",
         "type": "integer"
        },
        {
         "name": "HS_Group",
         "rawType": "int64",
         "type": "integer"
        },
        {
         "name": "HS_Religion",
         "rawType": "int64",
         "type": "integer"
        },
        {
         "name": "HS_Race",
         "rawType": "int64",
         "type": "integer"
        },
        {
         "name": "HS_Physical",
         "rawType": "int64",
         "type": "integer"
        },
        {
         "name": "HS_Gender",
         "rawType": "int64",
         "type": "integer"
        },
        {
         "name": "HS_Other",
         "rawType": "int64",
         "type": "integer"
        },
        {
         "name": "HS_Weak",
         "rawType": "int64",
         "type": "integer"
        },
        {
         "name": "HS_Moderate",
         "rawType": "int64",
         "type": "integer"
        },
        {
         "name": "HS_Strong",
         "rawType": "int64",
         "type": "integer"
        }
       ],
       "ref": "6f7c0076-a5b9-4f4b-84c1-edd75bb153a3",
       "rows": [
        [
         "0",
         "- disaat semua cowok berusaha melacak perhatian gue. loe lantas remehkan perhatian yg gue kasih khusus ke elo. basic elo cowok bego ! ! !'",
         "1",
         "1",
         "1",
         "0",
         "0",
         "0",
         "0",
         "0",
         "1",
         "1",
         "0",
         "0"
        ],
        [
         "1",
         "RT USER: USER siapa yang telat ngasih tau elu?edan sarap gue bergaul dengan cigax jifla calis sama siapa noh licew juga'",
         "0",
         "1",
         "0",
         "0",
         "0",
         "0",
         "0",
         "0",
         "0",
         "0",
         "0",
         "0"
        ],
        [
         "2",
         "41. Kadang aku berfikir, kenapa aku tetap percaya pada Tuhan padahal aku selalu jatuh berkali-kali. Kadang aku merasa Tuhan itu ninggalkan aku sendirian. Ketika orangtuaku berencana berpisah, ketika kakakku lebih memilih jadi Kristen. Ketika aku anak ter",
         "0",
         "0",
         "0",
         "0",
         "0",
         "0",
         "0",
         "0",
         "0",
         "0",
         "0",
         "0"
        ],
        [
         "3",
         "USER USER AKU ITU AKU\\n\\nKU TAU MATAMU SIPIT TAPI DILIAT DARI MANA ITU AKU'",
         "0",
         "0",
         "0",
         "0",
         "0",
         "0",
         "0",
         "0",
         "0",
         "0",
         "0",
         "0"
        ],
        [
         "4",
         "USER USER Kaum cebong kapir udah keliatan dongoknya dari awal tambah dongok lagi hahahah'",
         "1",
         "1",
         "0",
         "1",
         "1",
         "0",
         "0",
         "0",
         "0",
         "0",
         "1",
         "0"
        ]
       ],
       "shape": {
        "columns": 13,
        "rows": 5
       }
      },
      "text/html": [
       "<div>\n",
       "<style scoped>\n",
       "    .dataframe tbody tr th:only-of-type {\n",
       "        vertical-align: middle;\n",
       "    }\n",
       "\n",
       "    .dataframe tbody tr th {\n",
       "        vertical-align: top;\n",
       "    }\n",
       "\n",
       "    .dataframe thead th {\n",
       "        text-align: right;\n",
       "    }\n",
       "</style>\n",
       "<table border=\"1\" class=\"dataframe\">\n",
       "  <thead>\n",
       "    <tr style=\"text-align: right;\">\n",
       "      <th></th>\n",
       "      <th>Tweet</th>\n",
       "      <th>HS</th>\n",
       "      <th>Abusive</th>\n",
       "      <th>HS_Individual</th>\n",
       "      <th>HS_Group</th>\n",
       "      <th>HS_Religion</th>\n",
       "      <th>HS_Race</th>\n",
       "      <th>HS_Physical</th>\n",
       "      <th>HS_Gender</th>\n",
       "      <th>HS_Other</th>\n",
       "      <th>HS_Weak</th>\n",
       "      <th>HS_Moderate</th>\n",
       "      <th>HS_Strong</th>\n",
       "    </tr>\n",
       "  </thead>\n",
       "  <tbody>\n",
       "    <tr>\n",
       "      <th>0</th>\n",
       "      <td>- disaat semua cowok berusaha melacak perhatia...</td>\n",
       "      <td>1</td>\n",
       "      <td>1</td>\n",
       "      <td>1</td>\n",
       "      <td>0</td>\n",
       "      <td>0</td>\n",
       "      <td>0</td>\n",
       "      <td>0</td>\n",
       "      <td>0</td>\n",
       "      <td>1</td>\n",
       "      <td>1</td>\n",
       "      <td>0</td>\n",
       "      <td>0</td>\n",
       "    </tr>\n",
       "    <tr>\n",
       "      <th>1</th>\n",
       "      <td>RT USER: USER siapa yang telat ngasih tau elu?...</td>\n",
       "      <td>0</td>\n",
       "      <td>1</td>\n",
       "      <td>0</td>\n",
       "      <td>0</td>\n",
       "      <td>0</td>\n",
       "      <td>0</td>\n",
       "      <td>0</td>\n",
       "      <td>0</td>\n",
       "      <td>0</td>\n",
       "      <td>0</td>\n",
       "      <td>0</td>\n",
       "      <td>0</td>\n",
       "    </tr>\n",
       "    <tr>\n",
       "      <th>2</th>\n",
       "      <td>41. Kadang aku berfikir, kenapa aku tetap perc...</td>\n",
       "      <td>0</td>\n",
       "      <td>0</td>\n",
       "      <td>0</td>\n",
       "      <td>0</td>\n",
       "      <td>0</td>\n",
       "      <td>0</td>\n",
       "      <td>0</td>\n",
       "      <td>0</td>\n",
       "      <td>0</td>\n",
       "      <td>0</td>\n",
       "      <td>0</td>\n",
       "      <td>0</td>\n",
       "    </tr>\n",
       "    <tr>\n",
       "      <th>3</th>\n",
       "      <td>USER USER AKU ITU AKU\\n\\nKU TAU MATAMU SIPIT T...</td>\n",
       "      <td>0</td>\n",
       "      <td>0</td>\n",
       "      <td>0</td>\n",
       "      <td>0</td>\n",
       "      <td>0</td>\n",
       "      <td>0</td>\n",
       "      <td>0</td>\n",
       "      <td>0</td>\n",
       "      <td>0</td>\n",
       "      <td>0</td>\n",
       "      <td>0</td>\n",
       "      <td>0</td>\n",
       "    </tr>\n",
       "    <tr>\n",
       "      <th>4</th>\n",
       "      <td>USER USER Kaum cebong kapir udah keliatan dong...</td>\n",
       "      <td>1</td>\n",
       "      <td>1</td>\n",
       "      <td>0</td>\n",
       "      <td>1</td>\n",
       "      <td>1</td>\n",
       "      <td>0</td>\n",
       "      <td>0</td>\n",
       "      <td>0</td>\n",
       "      <td>0</td>\n",
       "      <td>0</td>\n",
       "      <td>1</td>\n",
       "      <td>0</td>\n",
       "    </tr>\n",
       "  </tbody>\n",
       "</table>\n",
       "</div>"
      ],
      "text/plain": [
       "                                               Tweet  HS  Abusive  \\\n",
       "0  - disaat semua cowok berusaha melacak perhatia...   1        1   \n",
       "1  RT USER: USER siapa yang telat ngasih tau elu?...   0        1   \n",
       "2  41. Kadang aku berfikir, kenapa aku tetap perc...   0        0   \n",
       "3  USER USER AKU ITU AKU\\n\\nKU TAU MATAMU SIPIT T...   0        0   \n",
       "4  USER USER Kaum cebong kapir udah keliatan dong...   1        1   \n",
       "\n",
       "   HS_Individual  HS_Group  HS_Religion  HS_Race  HS_Physical  HS_Gender  \\\n",
       "0              1         0            0        0            0          0   \n",
       "1              0         0            0        0            0          0   \n",
       "2              0         0            0        0            0          0   \n",
       "3              0         0            0        0            0          0   \n",
       "4              0         1            1        0            0          0   \n",
       "\n",
       "   HS_Other  HS_Weak  HS_Moderate  HS_Strong  \n",
       "0         1        1            0          0  \n",
       "1         0        0            0          0  \n",
       "2         0        0            0          0  \n",
       "3         0        0            0          0  \n",
       "4         0        0            1          0  "
      ]
     },
     "execution_count": 5,
     "metadata": {},
     "output_type": "execute_result"
    }
   ],
   "source": [
    "print(\"Shape: \", data.shape)\n",
    "data.head(5)"
   ]
  },
  {
   "cell_type": "code",
   "execution_count": 6,
   "id": "73997a14",
   "metadata": {
    "execution": {
     "iopub.execute_input": "2023-12-13T21:33:03.508559Z",
     "iopub.status.busy": "2023-12-13T21:33:03.507654Z",
     "iopub.status.idle": "2023-12-13T21:33:03.520574Z",
     "shell.execute_reply": "2023-12-13T21:33:03.519718Z"
    },
    "papermill": {
     "duration": 0.042262,
     "end_time": "2023-12-13T21:33:03.522520",
     "exception": false,
     "start_time": "2023-12-13T21:33:03.480258",
     "status": "completed"
    },
    "tags": []
   },
   "outputs": [
    {
     "data": {
      "application/vnd.microsoft.datawrangler.viewer.v0+json": {
       "columns": [
        {
         "name": "HS",
         "rawType": "int64",
         "type": "integer"
        },
        {
         "name": "count",
         "rawType": "int64",
         "type": "integer"
        }
       ],
       "ref": "eb91108a-f252-42c5-9b0a-ca18a26b687e",
       "rows": [
        [
         "0",
         "7608"
        ],
        [
         "1",
         "5561"
        ]
       ],
       "shape": {
        "columns": 1,
        "rows": 2
       }
      },
      "text/plain": [
       "HS\n",
       "0    7608\n",
       "1    5561\n",
       "Name: count, dtype: int64"
      ]
     },
     "execution_count": 6,
     "metadata": {},
     "output_type": "execute_result"
    }
   ],
   "source": [
    "data.HS.value_counts()"
   ]
  },
  {
   "cell_type": "code",
   "execution_count": 7,
   "id": "c5b1e4ff",
   "metadata": {
    "execution": {
     "iopub.execute_input": "2023-12-13T21:33:03.577037Z",
     "iopub.status.busy": "2023-12-13T21:33:03.576363Z",
     "iopub.status.idle": "2023-12-13T21:33:03.583586Z",
     "shell.execute_reply": "2023-12-13T21:33:03.582665Z"
    },
    "papermill": {
     "duration": 0.0368,
     "end_time": "2023-12-13T21:33:03.585618",
     "exception": false,
     "start_time": "2023-12-13T21:33:03.548818",
     "status": "completed"
    },
    "tags": []
   },
   "outputs": [
    {
     "data": {
      "application/vnd.microsoft.datawrangler.viewer.v0+json": {
       "columns": [
        {
         "name": "Abusive",
         "rawType": "int64",
         "type": "integer"
        },
        {
         "name": "count",
         "rawType": "int64",
         "type": "integer"
        }
       ],
       "ref": "daccd831-6add-40e3-9b62-772e7da0733f",
       "rows": [
        [
         "0",
         "8126"
        ],
        [
         "1",
         "5043"
        ]
       ],
       "shape": {
        "columns": 1,
        "rows": 2
       }
      },
      "text/plain": [
       "Abusive\n",
       "0    8126\n",
       "1    5043\n",
       "Name: count, dtype: int64"
      ]
     },
     "execution_count": 7,
     "metadata": {},
     "output_type": "execute_result"
    }
   ],
   "source": [
    "data.Abusive.value_counts()"
   ]
  },
  {
   "cell_type": "code",
   "execution_count": 8,
   "id": "2d19c7c2",
   "metadata": {
    "execution": {
     "iopub.execute_input": "2023-12-13T21:33:03.638658Z",
     "iopub.status.busy": "2023-12-13T21:33:03.638401Z",
     "iopub.status.idle": "2023-12-13T21:33:03.649421Z",
     "shell.execute_reply": "2023-12-13T21:33:03.648433Z"
    },
    "papermill": {
     "duration": 0.039719,
     "end_time": "2023-12-13T21:33:03.651447",
     "exception": false,
     "start_time": "2023-12-13T21:33:03.611728",
     "status": "completed"
    },
    "tags": []
   },
   "outputs": [
    {
     "name": "stdout",
     "output_type": "stream",
     "text": [
      "Toxic shape:  (7309, 13)\n",
      "Non-toxic shape:  (5860, 13)\n"
     ]
    }
   ],
   "source": [
    "print(\"Toxic shape: \", data[(data['HS'] == 1) | (data['Abusive'] == 1)].shape)\n",
    "print(\"Non-toxic shape: \", data[(data['HS'] == 0) & (data['Abusive'] == 0)].shape)"
   ]
  },
  {
   "cell_type": "markdown",
   "id": "5c43d2bf",
   "metadata": {
    "papermill": {
     "duration": 0.025624,
     "end_time": "2023-12-13T21:33:03.703144",
     "exception": false,
     "start_time": "2023-12-13T21:33:03.677520",
     "status": "completed"
    },
    "tags": []
   },
   "source": [
    "Alay Dict"
   ]
  },
  {
   "cell_type": "code",
   "execution_count": 9,
   "id": "c00851a1",
   "metadata": {
    "execution": {
     "iopub.execute_input": "2023-12-13T21:33:03.757227Z",
     "iopub.status.busy": "2023-12-13T21:33:03.756376Z",
     "iopub.status.idle": "2023-12-13T21:33:03.767212Z",
     "shell.execute_reply": "2023-12-13T21:33:03.766262Z"
    },
    "papermill": {
     "duration": 0.039907,
     "end_time": "2023-12-13T21:33:03.769144",
     "exception": false,
     "start_time": "2023-12-13T21:33:03.729237",
     "status": "completed"
    },
    "tags": []
   },
   "outputs": [
    {
     "name": "stdout",
     "output_type": "stream",
     "text": [
      "Shape:  (15167, 2)\n"
     ]
    },
    {
     "data": {
      "application/vnd.microsoft.datawrangler.viewer.v0+json": {
       "columns": [
        {
         "name": "index",
         "rawType": "int64",
         "type": "integer"
        },
        {
         "name": "0",
         "rawType": "object",
         "type": "string"
        },
        {
         "name": "1",
         "rawType": "object",
         "type": "string"
        }
       ],
       "ref": "d4e41482-62a0-499c-ab1b-e9dfb9349a75",
       "rows": [
        [
         "0",
         "anakjakartaasikasik",
         "anak jakarta asyik asyik"
        ],
        [
         "1",
         "pakcikdahtua",
         "pak cik sudah tua"
        ],
        [
         "2",
         "pakcikmudalagi",
         "pak cik muda lagi"
        ],
        [
         "3",
         "t3tapjokowi",
         "tetap jokowi"
        ],
        [
         "4",
         "3x",
         "tiga kali"
        ],
        [
         "5",
         "aamiin",
         "amin"
        ],
        [
         "6",
         "aamiinn",
         "amin"
        ],
        [
         "7",
         "aamin",
         "amin"
        ],
        [
         "8",
         "aammiin",
         "amin"
        ],
        [
         "9",
         "abis",
         "habis"
        ],
        [
         "10",
         "abisin",
         "habiskan"
        ],
        [
         "11",
         "acau",
         "kacau"
        ],
        [
         "12",
         "achok",
         "ahok"
        ],
        [
         "13",
         "ad",
         "ada"
        ],
        [
         "14",
         "adek",
         "adik"
        ]
       ],
       "shape": {
        "columns": 2,
        "rows": 15
       }
      },
      "text/html": [
       "<div>\n",
       "<style scoped>\n",
       "    .dataframe tbody tr th:only-of-type {\n",
       "        vertical-align: middle;\n",
       "    }\n",
       "\n",
       "    .dataframe tbody tr th {\n",
       "        vertical-align: top;\n",
       "    }\n",
       "\n",
       "    .dataframe thead th {\n",
       "        text-align: right;\n",
       "    }\n",
       "</style>\n",
       "<table border=\"1\" class=\"dataframe\">\n",
       "  <thead>\n",
       "    <tr style=\"text-align: right;\">\n",
       "      <th></th>\n",
       "      <th>0</th>\n",
       "      <th>1</th>\n",
       "    </tr>\n",
       "  </thead>\n",
       "  <tbody>\n",
       "    <tr>\n",
       "      <th>0</th>\n",
       "      <td>anakjakartaasikasik</td>\n",
       "      <td>anak jakarta asyik asyik</td>\n",
       "    </tr>\n",
       "    <tr>\n",
       "      <th>1</th>\n",
       "      <td>pakcikdahtua</td>\n",
       "      <td>pak cik sudah tua</td>\n",
       "    </tr>\n",
       "    <tr>\n",
       "      <th>2</th>\n",
       "      <td>pakcikmudalagi</td>\n",
       "      <td>pak cik muda lagi</td>\n",
       "    </tr>\n",
       "    <tr>\n",
       "      <th>3</th>\n",
       "      <td>t3tapjokowi</td>\n",
       "      <td>tetap jokowi</td>\n",
       "    </tr>\n",
       "    <tr>\n",
       "      <th>4</th>\n",
       "      <td>3x</td>\n",
       "      <td>tiga kali</td>\n",
       "    </tr>\n",
       "    <tr>\n",
       "      <th>5</th>\n",
       "      <td>aamiin</td>\n",
       "      <td>amin</td>\n",
       "    </tr>\n",
       "    <tr>\n",
       "      <th>6</th>\n",
       "      <td>aamiinn</td>\n",
       "      <td>amin</td>\n",
       "    </tr>\n",
       "    <tr>\n",
       "      <th>7</th>\n",
       "      <td>aamin</td>\n",
       "      <td>amin</td>\n",
       "    </tr>\n",
       "    <tr>\n",
       "      <th>8</th>\n",
       "      <td>aammiin</td>\n",
       "      <td>amin</td>\n",
       "    </tr>\n",
       "    <tr>\n",
       "      <th>9</th>\n",
       "      <td>abis</td>\n",
       "      <td>habis</td>\n",
       "    </tr>\n",
       "    <tr>\n",
       "      <th>10</th>\n",
       "      <td>abisin</td>\n",
       "      <td>habiskan</td>\n",
       "    </tr>\n",
       "    <tr>\n",
       "      <th>11</th>\n",
       "      <td>acau</td>\n",
       "      <td>kacau</td>\n",
       "    </tr>\n",
       "    <tr>\n",
       "      <th>12</th>\n",
       "      <td>achok</td>\n",
       "      <td>ahok</td>\n",
       "    </tr>\n",
       "    <tr>\n",
       "      <th>13</th>\n",
       "      <td>ad</td>\n",
       "      <td>ada</td>\n",
       "    </tr>\n",
       "    <tr>\n",
       "      <th>14</th>\n",
       "      <td>adek</td>\n",
       "      <td>adik</td>\n",
       "    </tr>\n",
       "  </tbody>\n",
       "</table>\n",
       "</div>"
      ],
      "text/plain": [
       "                      0                         1\n",
       "0   anakjakartaasikasik  anak jakarta asyik asyik\n",
       "1          pakcikdahtua         pak cik sudah tua\n",
       "2        pakcikmudalagi         pak cik muda lagi\n",
       "3           t3tapjokowi              tetap jokowi\n",
       "4                    3x                 tiga kali\n",
       "5                aamiin                      amin\n",
       "6               aamiinn                      amin\n",
       "7                 aamin                      amin\n",
       "8               aammiin                      amin\n",
       "9                  abis                     habis\n",
       "10               abisin                  habiskan\n",
       "11                 acau                     kacau\n",
       "12                achok                      ahok\n",
       "13                   ad                       ada\n",
       "14                 adek                      adik"
      ]
     },
     "execution_count": 9,
     "metadata": {},
     "output_type": "execute_result"
    }
   ],
   "source": [
    "print(\"Shape: \", alay_dict.shape)\n",
    "alay_dict.head(15)"
   ]
  },
  {
   "cell_type": "markdown",
   "id": "aabaaaaf",
   "metadata": {
    "papermill": {
     "duration": 0.027446,
     "end_time": "2023-12-13T21:33:03.823062",
     "exception": false,
     "start_time": "2023-12-13T21:33:03.795616",
     "status": "completed"
    },
    "tags": []
   },
   "source": [
    "ID Stopword"
   ]
  },
  {
   "cell_type": "code",
   "execution_count": 10,
   "id": "41f3a0dd",
   "metadata": {
    "execution": {
     "iopub.execute_input": "2023-12-13T21:33:03.878420Z",
     "iopub.status.busy": "2023-12-13T21:33:03.877548Z",
     "iopub.status.idle": "2023-12-13T21:33:03.887010Z",
     "shell.execute_reply": "2023-12-13T21:33:03.885953Z"
    },
    "papermill": {
     "duration": 0.038929,
     "end_time": "2023-12-13T21:33:03.889024",
     "exception": false,
     "start_time": "2023-12-13T21:33:03.850095",
     "status": "completed"
    },
    "tags": []
   },
   "outputs": [
    {
     "name": "stdout",
     "output_type": "stream",
     "text": [
      "Shape:  (758, 1)\n"
     ]
    },
    {
     "data": {
      "application/vnd.microsoft.datawrangler.viewer.v0+json": {
       "columns": [
        {
         "name": "index",
         "rawType": "int64",
         "type": "integer"
        },
        {
         "name": "stopword",
         "rawType": "object",
         "type": "string"
        }
       ],
       "ref": "e1f40638-bc7a-45d3-8036-3939be43f42e",
       "rows": [
        [
         "0",
         "ada"
        ],
        [
         "1",
         "adalah"
        ],
        [
         "2",
         "adanya"
        ],
        [
         "3",
         "adapun"
        ],
        [
         "4",
         "agak"
        ]
       ],
       "shape": {
        "columns": 1,
        "rows": 5
       }
      },
      "text/html": [
       "<div>\n",
       "<style scoped>\n",
       "    .dataframe tbody tr th:only-of-type {\n",
       "        vertical-align: middle;\n",
       "    }\n",
       "\n",
       "    .dataframe tbody tr th {\n",
       "        vertical-align: top;\n",
       "    }\n",
       "\n",
       "    .dataframe thead th {\n",
       "        text-align: right;\n",
       "    }\n",
       "</style>\n",
       "<table border=\"1\" class=\"dataframe\">\n",
       "  <thead>\n",
       "    <tr style=\"text-align: right;\">\n",
       "      <th></th>\n",
       "      <th>stopword</th>\n",
       "    </tr>\n",
       "  </thead>\n",
       "  <tbody>\n",
       "    <tr>\n",
       "      <th>0</th>\n",
       "      <td>ada</td>\n",
       "    </tr>\n",
       "    <tr>\n",
       "      <th>1</th>\n",
       "      <td>adalah</td>\n",
       "    </tr>\n",
       "    <tr>\n",
       "      <th>2</th>\n",
       "      <td>adanya</td>\n",
       "    </tr>\n",
       "    <tr>\n",
       "      <th>3</th>\n",
       "      <td>adapun</td>\n",
       "    </tr>\n",
       "    <tr>\n",
       "      <th>4</th>\n",
       "      <td>agak</td>\n",
       "    </tr>\n",
       "  </tbody>\n",
       "</table>\n",
       "</div>"
      ],
      "text/plain": [
       "  stopword\n",
       "0      ada\n",
       "1   adalah\n",
       "2   adanya\n",
       "3   adapun\n",
       "4     agak"
      ]
     },
     "execution_count": 10,
     "metadata": {},
     "output_type": "execute_result"
    }
   ],
   "source": [
    "print(\"Shape: \", id_stopword_dict.shape)\n",
    "id_stopword_dict.head()"
   ]
  },
  {
   "cell_type": "markdown",
   "id": "03da7177",
   "metadata": {
    "papermill": {
     "duration": 0.027777,
     "end_time": "2023-12-13T21:33:03.943218",
     "exception": false,
     "start_time": "2023-12-13T21:33:03.915441",
     "status": "completed"
    },
    "tags": []
   },
   "source": [
    "## Preprocess Data"
   ]
  },
  {
   "cell_type": "code",
   "execution_count": 11,
   "id": "22d1cc87",
   "metadata": {
    "execution": {
     "iopub.execute_input": "2023-12-13T21:33:03.998966Z",
     "iopub.status.busy": "2023-12-13T21:33:03.998582Z",
     "iopub.status.idle": "2023-12-13T21:33:04.010184Z",
     "shell.execute_reply": "2023-12-13T21:33:04.009329Z"
    },
    "papermill": {
     "duration": 0.042081,
     "end_time": "2023-12-13T21:33:04.012192",
     "exception": false,
     "start_time": "2023-12-13T21:33:03.970111",
     "status": "completed"
    },
    "tags": []
   },
   "outputs": [
    {
     "data": {
      "application/vnd.microsoft.datawrangler.viewer.v0+json": {
       "columns": [
        {
         "name": "index",
         "rawType": "int64",
         "type": "integer"
        },
        {
         "name": "0",
         "rawType": "object",
         "type": "string"
        },
        {
         "name": "1",
         "rawType": "object",
         "type": "string"
        }
       ],
       "ref": "2a39d894-fa56-47bc-bb18-61ff83690b14",
       "rows": [
        [
         "0",
         "anakjakartaasikasik",
         "anak jakarta asyik asyik"
        ],
        [
         "1",
         "pakcikdahtua",
         "pak cik sudah tua"
        ],
        [
         "2",
         "pakcikmudalagi",
         "pak cik muda lagi"
        ],
        [
         "3",
         "t3tapjokowi",
         "tetap jokowi"
        ],
        [
         "4",
         "3x",
         "tiga kali"
        ],
        [
         "5",
         "aamiin",
         "amin"
        ],
        [
         "6",
         "aamiinn",
         "amin"
        ],
        [
         "7",
         "aamin",
         "amin"
        ],
        [
         "8",
         "aammiin",
         "amin"
        ],
        [
         "9",
         "abis",
         "habis"
        ],
        [
         "10",
         "abisin",
         "habiskan"
        ],
        [
         "11",
         "acau",
         "kacau"
        ],
        [
         "12",
         "achok",
         "ahok"
        ],
        [
         "13",
         "ad",
         "ada"
        ],
        [
         "14",
         "adek",
         "adik"
        ],
        [
         "15",
         "adl",
         "adalah"
        ],
        [
         "16",
         "adlah",
         "adalah"
        ],
        [
         "17",
         "adlh",
         "adalah"
        ],
        [
         "18",
         "ado",
         "ada"
        ],
        [
         "19",
         "aduhh",
         "aduh"
        ],
        [
         "20",
         "aer",
         "air"
        ],
        [
         "21",
         "afdol",
         "afdal"
        ],
        [
         "22",
         "agamaataualqur",
         "agama alquran"
        ],
        [
         "23",
         "agm",
         "agama"
        ],
        [
         "24",
         "agma",
         "agama"
        ],
        [
         "25",
         "ahaha",
         "haha"
        ],
        [
         "26",
         "ahahaha",
         "haha"
        ],
        [
         "27",
         "ahehehehe",
         "hehe"
        ],
        [
         "28",
         "ahir",
         "akhir"
        ],
        [
         "29",
         "ahirnya",
         "akhirnya"
        ],
        [
         "30",
         "ahk",
         "ahok"
        ],
        [
         "31",
         "ahlamdulillah",
         "alhamdulillah"
        ],
        [
         "32",
         "ahli2",
         "para ahli"
        ],
        [
         "33",
         "ahlusunnah",
         "ahlus sunah"
        ],
        [
         "34",
         "ahmaddani",
         "ahmad dhani"
        ],
        [
         "35",
         "aho",
         "ahok"
        ],
        [
         "36",
         "ahoax",
         "ahok"
        ],
        [
         "37",
         "ahoaxx",
         "ahok"
        ],
        [
         "38",
         "ahog",
         "ahok"
        ],
        [
         "39",
         "ahokataudjarot",
         "ahok djarot"
        ],
        [
         "40",
         "ahokbebanijokowi",
         "ahok beban jokowi"
        ],
        [
         "41",
         "ahokbtp",
         "ahok basuki tjahaja purnama"
        ],
        [
         "42",
         "ahokditolakwarga",
         "ahok ditolak warga"
        ],
        [
         "43",
         "ahokdjarot",
         "ahok djarot"
        ],
        [
         "44",
         "ahokdjarotterbukti",
         "ahok djarot terbukti"
        ],
        [
         "45",
         "ahokers",
         "ahoker"
        ],
        [
         "46",
         "ahokfighter",
         "ahok pejuang"
        ],
        [
         "47",
         "ahokforpresident",
         "ahok for presiden"
        ],
        [
         "48",
         "ahokisthebest",
         "ahok terbaik"
        ],
        [
         "49",
         "ahokjarot",
         "ahok djarot"
        ]
       ],
       "shape": {
        "columns": 2,
        "rows": 15167
       }
      },
      "text/html": [
       "<div>\n",
       "<style scoped>\n",
       "    .dataframe tbody tr th:only-of-type {\n",
       "        vertical-align: middle;\n",
       "    }\n",
       "\n",
       "    .dataframe tbody tr th {\n",
       "        vertical-align: top;\n",
       "    }\n",
       "\n",
       "    .dataframe thead th {\n",
       "        text-align: right;\n",
       "    }\n",
       "</style>\n",
       "<table border=\"1\" class=\"dataframe\">\n",
       "  <thead>\n",
       "    <tr style=\"text-align: right;\">\n",
       "      <th></th>\n",
       "      <th>0</th>\n",
       "      <th>1</th>\n",
       "    </tr>\n",
       "  </thead>\n",
       "  <tbody>\n",
       "    <tr>\n",
       "      <th>0</th>\n",
       "      <td>anakjakartaasikasik</td>\n",
       "      <td>anak jakarta asyik asyik</td>\n",
       "    </tr>\n",
       "    <tr>\n",
       "      <th>1</th>\n",
       "      <td>pakcikdahtua</td>\n",
       "      <td>pak cik sudah tua</td>\n",
       "    </tr>\n",
       "    <tr>\n",
       "      <th>2</th>\n",
       "      <td>pakcikmudalagi</td>\n",
       "      <td>pak cik muda lagi</td>\n",
       "    </tr>\n",
       "    <tr>\n",
       "      <th>3</th>\n",
       "      <td>t3tapjokowi</td>\n",
       "      <td>tetap jokowi</td>\n",
       "    </tr>\n",
       "    <tr>\n",
       "      <th>4</th>\n",
       "      <td>3x</td>\n",
       "      <td>tiga kali</td>\n",
       "    </tr>\n",
       "    <tr>\n",
       "      <th>...</th>\n",
       "      <td>...</td>\n",
       "      <td>...</td>\n",
       "    </tr>\n",
       "    <tr>\n",
       "      <th>15162</th>\n",
       "      <td>mendikbud</td>\n",
       "      <td>menteri pendidikan dan kebudayaan</td>\n",
       "    </tr>\n",
       "    <tr>\n",
       "      <th>15163</th>\n",
       "      <td>mendag</td>\n",
       "      <td>menteri perdagangan</td>\n",
       "    </tr>\n",
       "    <tr>\n",
       "      <th>15164</th>\n",
       "      <td>menaker</td>\n",
       "      <td>menteri tenaga kerja</td>\n",
       "    </tr>\n",
       "    <tr>\n",
       "      <th>15165</th>\n",
       "      <td>memetwit</td>\n",
       "      <td>mentwit</td>\n",
       "    </tr>\n",
       "    <tr>\n",
       "      <th>15166</th>\n",
       "      <td>megangin</td>\n",
       "      <td>memegang</td>\n",
       "    </tr>\n",
       "  </tbody>\n",
       "</table>\n",
       "<p>15167 rows × 2 columns</p>\n",
       "</div>"
      ],
      "text/plain": [
       "                         0                                  1\n",
       "0      anakjakartaasikasik           anak jakarta asyik asyik\n",
       "1             pakcikdahtua                  pak cik sudah tua\n",
       "2           pakcikmudalagi                  pak cik muda lagi\n",
       "3              t3tapjokowi                       tetap jokowi\n",
       "4                       3x                          tiga kali\n",
       "...                    ...                                ...\n",
       "15162            mendikbud  menteri pendidikan dan kebudayaan\n",
       "15163               mendag                menteri perdagangan\n",
       "15164              menaker               menteri tenaga kerja\n",
       "15165             memetwit                            mentwit\n",
       "15166             megangin                           memegang\n",
       "\n",
       "[15167 rows x 2 columns]"
      ]
     },
     "execution_count": 11,
     "metadata": {},
     "output_type": "execute_result"
    }
   ],
   "source": [
    "alay_dict"
   ]
  },
  {
   "cell_type": "code",
   "execution_count": 12,
   "id": "166847b9",
   "metadata": {
    "execution": {
     "iopub.execute_input": "2023-12-13T21:33:04.070188Z",
     "iopub.status.busy": "2023-12-13T21:33:04.069365Z",
     "iopub.status.idle": "2023-12-13T21:33:04.105799Z",
     "shell.execute_reply": "2023-12-13T21:33:04.104853Z"
    },
    "papermill": {
     "duration": 0.067237,
     "end_time": "2023-12-13T21:33:04.107736",
     "exception": false,
     "start_time": "2023-12-13T21:33:04.040499",
     "status": "completed"
    },
    "tags": []
   },
   "outputs": [],
   "source": [
    "import re\n",
    "import unicodedata\n",
    "from Sastrawi.Stemmer.StemmerFactory import StemmerFactory\n",
    "factory = StemmerFactory()\n",
    "stemmer = factory.create_stemmer()\n",
    "\n",
    "def lowercase(text):\n",
    "    return text.lower()\n",
    "\n",
    "def remove_unnecessary_char(text):\n",
    "    text = re.sub('\\n',' ',text) # Remove every '\\n'\n",
    "    text = re.sub('rt',' ',text) # Remove every retweet symbol\n",
    "    text = re.sub('user',' ',text) # Remove every username\n",
    "    text = re.sub('((www\\.[^\\s]+)|(https?://[^\\s]+)|(http?://[^\\s]+))',' ',text) # Remove every URL\n",
    "    text = re.sub('  +', ' ', text) # Remove extra spaces\n",
    "    return text\n",
    "\n",
    "def remove_unicode(text):\n",
    "    text = re.sub(r'\\bx[a-fA-F0-9]{2}\\b', '', text) \n",
    "    text = re.sub(r'\\bx([a-fA-F0-9]{2})', '', text)\n",
    "    return text\n",
    "    \n",
    "def remove_nonaplhanumeric(text):\n",
    "    text = re.sub('[^0-9a-zA-Z]+', ' ', text) \n",
    "    return text\n",
    "\n",
    "alay_dict_map = dict(zip(alay_dict[0], alay_dict[1]))\n",
    "def normalize_alay(text):\n",
    "    return ' '.join([alay_dict_map[word] if word in alay_dict_map else word for word in text.split(' ')])\n",
    "\n",
    "def remove_stopword(text):\n",
    "    text = ' '.join(['' if word in id_stopword_dict.stopword.values else word for word in text.split(' ')])\n",
    "    text = re.sub('  +', ' ', text) # Remove extra spaces\n",
    "    text = text.strip()\n",
    "    return text\n",
    "\n",
    "def stemming(text):\n",
    "    return stemmer.stem(text)\n",
    "\n",
    "def remove_extra_spaces(text):\n",
    "    text = re.sub(r'\\s+', ' ', text)\n",
    "    text = text.strip()\n",
    "    return text"
   ]
  },
  {
   "cell_type": "code",
   "execution_count": 14,
   "id": "4da8dc77",
   "metadata": {
    "execution": {
     "iopub.execute_input": "2023-12-13T21:33:04.162757Z",
     "iopub.status.busy": "2023-12-13T21:33:04.162438Z",
     "iopub.status.idle": "2023-12-13T21:33:04.167545Z",
     "shell.execute_reply": "2023-12-13T21:33:04.166710Z"
    },
    "papermill": {
     "duration": 0.034629,
     "end_time": "2023-12-13T21:33:04.169440",
     "exception": false,
     "start_time": "2023-12-13T21:33:04.134811",
     "status": "completed"
    },
    "tags": []
   },
   "outputs": [],
   "source": [
    "def preprocess(text):\n",
    "    text = lowercase(text) \n",
    "    text = remove_nonaplhanumeric(text) \n",
    "    text = remove_unnecessary_char(text) \n",
    "    text = normalize_alay(text)\n",
    "    text = stemming(text) \n",
    "    text = remove_stopword(text) \n",
    "    text = remove_unicode(text) \n",
    "    text = remove_extra_spaces(text) \n",
    "    return text"
   ]
  },
  {
   "cell_type": "code",
   "execution_count": 15,
   "id": "3ac9e9e0",
   "metadata": {
    "execution": {
     "iopub.execute_input": "2023-12-13T21:33:04.224207Z",
     "iopub.status.busy": "2023-12-13T21:33:04.223924Z",
     "iopub.status.idle": "2023-12-13T21:33:22.536289Z",
     "shell.execute_reply": "2023-12-13T21:33:22.535485Z"
    },
    "papermill": {
     "duration": 18.342235,
     "end_time": "2023-12-13T21:33:22.538586",
     "exception": false,
     "start_time": "2023-12-13T21:33:04.196351",
     "status": "completed"
    },
    "tags": []
   },
   "outputs": [],
   "source": [
    "data['Tweet'] = data['Tweet'].apply(preprocess)"
   ]
  },
  {
   "cell_type": "code",
   "execution_count": 16,
   "id": "dd05dc6e",
   "metadata": {
    "execution": {
     "iopub.execute_input": "2023-12-13T21:33:22.595163Z",
     "iopub.status.busy": "2023-12-13T21:33:22.594389Z",
     "iopub.status.idle": "2023-12-13T21:33:22.607834Z",
     "shell.execute_reply": "2023-12-13T21:33:22.606906Z"
    },
    "papermill": {
     "duration": 0.043791,
     "end_time": "2023-12-13T21:33:22.610136",
     "exception": false,
     "start_time": "2023-12-13T21:33:22.566345",
     "status": "completed"
    },
    "tags": []
   },
   "outputs": [
    {
     "name": "stdout",
     "output_type": "stream",
     "text": [
      "Shape:  (13169, 13)\n"
     ]
    },
    {
     "data": {
      "application/vnd.microsoft.datawrangler.viewer.v0+json": {
       "columns": [
        {
         "name": "index",
         "rawType": "int64",
         "type": "integer"
        },
        {
         "name": "Tweet",
         "rawType": "object",
         "type": "string"
        },
        {
         "name": "HS",
         "rawType": "int64",
         "type": "integer"
        },
        {
         "name": "Abusive",
         "rawType": "int64",
         "type": "integer"
        },
        {
         "name": "HS_Individual",
         "rawType": "int64",
         "type": "integer"
        },
        {
         "name": "HS_Group",
         "rawType": "int64",
         "type": "integer"
        },
        {
         "name": "HS_Religion",
         "rawType": "int64",
         "type": "integer"
        },
        {
         "name": "HS_Race",
         "rawType": "int64",
         "type": "integer"
        },
        {
         "name": "HS_Physical",
         "rawType": "int64",
         "type": "integer"
        },
        {
         "name": "HS_Gender",
         "rawType": "int64",
         "type": "integer"
        },
        {
         "name": "HS_Other",
         "rawType": "int64",
         "type": "integer"
        },
        {
         "name": "HS_Weak",
         "rawType": "int64",
         "type": "integer"
        },
        {
         "name": "HS_Moderate",
         "rawType": "int64",
         "type": "integer"
        },
        {
         "name": "HS_Strong",
         "rawType": "int64",
         "type": "integer"
        }
       ],
       "ref": "9891bb79-1b39-439c-a8c9-fb459fd99e45",
       "rows": [
        [
         "0",
         "cowok usaha lacak perhati gue lantas remeh perhati gue kasih khusus basic cowok bego",
         "1",
         "1",
         "1",
         "0",
         "0",
         "0",
         "0",
         "0",
         "1",
         "1",
         "0",
         "0"
        ],
        [
         "1",
         "telat tau edan sarap gue gaul cigax jifla cal licew",
         "0",
         "1",
         "0",
         "0",
         "0",
         "0",
         "0",
         "0",
         "0",
         "0",
         "0",
         "0"
        ],
        [
         "2",
         "41 kadang pikir percaya tuhan jatuh kali kali kadang tuhan tinggal orang tua rencana pisah kakak pilih kristen anak ter",
         "0",
         "0",
         "0",
         "0",
         "0",
         "0",
         "0",
         "0",
         "0",
         "0",
         "0",
         "0"
        ],
        [
         "3",
         "ku tau mata sipit lihat",
         "0",
         "0",
         "0",
         "0",
         "0",
         "0",
         "0",
         "0",
         "0",
         "0",
         "0",
         "0"
        ],
        [
         "4",
         "kaum cebong kafir lihat dongok dungu haha",
         "1",
         "1",
         "0",
         "1",
         "1",
         "0",
         "0",
         "0",
         "0",
         "0",
         "1",
         "0"
        ]
       ],
       "shape": {
        "columns": 13,
        "rows": 5
       }
      },
      "text/html": [
       "<div>\n",
       "<style scoped>\n",
       "    .dataframe tbody tr th:only-of-type {\n",
       "        vertical-align: middle;\n",
       "    }\n",
       "\n",
       "    .dataframe tbody tr th {\n",
       "        vertical-align: top;\n",
       "    }\n",
       "\n",
       "    .dataframe thead th {\n",
       "        text-align: right;\n",
       "    }\n",
       "</style>\n",
       "<table border=\"1\" class=\"dataframe\">\n",
       "  <thead>\n",
       "    <tr style=\"text-align: right;\">\n",
       "      <th></th>\n",
       "      <th>Tweet</th>\n",
       "      <th>HS</th>\n",
       "      <th>Abusive</th>\n",
       "      <th>HS_Individual</th>\n",
       "      <th>HS_Group</th>\n",
       "      <th>HS_Religion</th>\n",
       "      <th>HS_Race</th>\n",
       "      <th>HS_Physical</th>\n",
       "      <th>HS_Gender</th>\n",
       "      <th>HS_Other</th>\n",
       "      <th>HS_Weak</th>\n",
       "      <th>HS_Moderate</th>\n",
       "      <th>HS_Strong</th>\n",
       "    </tr>\n",
       "  </thead>\n",
       "  <tbody>\n",
       "    <tr>\n",
       "      <th>0</th>\n",
       "      <td>cowok usaha lacak perhati gue lantas remeh per...</td>\n",
       "      <td>1</td>\n",
       "      <td>1</td>\n",
       "      <td>1</td>\n",
       "      <td>0</td>\n",
       "      <td>0</td>\n",
       "      <td>0</td>\n",
       "      <td>0</td>\n",
       "      <td>0</td>\n",
       "      <td>1</td>\n",
       "      <td>1</td>\n",
       "      <td>0</td>\n",
       "      <td>0</td>\n",
       "    </tr>\n",
       "    <tr>\n",
       "      <th>1</th>\n",
       "      <td>telat tau edan sarap gue gaul cigax jifla cal ...</td>\n",
       "      <td>0</td>\n",
       "      <td>1</td>\n",
       "      <td>0</td>\n",
       "      <td>0</td>\n",
       "      <td>0</td>\n",
       "      <td>0</td>\n",
       "      <td>0</td>\n",
       "      <td>0</td>\n",
       "      <td>0</td>\n",
       "      <td>0</td>\n",
       "      <td>0</td>\n",
       "      <td>0</td>\n",
       "    </tr>\n",
       "    <tr>\n",
       "      <th>2</th>\n",
       "      <td>41 kadang pikir percaya tuhan jatuh kali kali ...</td>\n",
       "      <td>0</td>\n",
       "      <td>0</td>\n",
       "      <td>0</td>\n",
       "      <td>0</td>\n",
       "      <td>0</td>\n",
       "      <td>0</td>\n",
       "      <td>0</td>\n",
       "      <td>0</td>\n",
       "      <td>0</td>\n",
       "      <td>0</td>\n",
       "      <td>0</td>\n",
       "      <td>0</td>\n",
       "    </tr>\n",
       "    <tr>\n",
       "      <th>3</th>\n",
       "      <td>ku tau mata sipit lihat</td>\n",
       "      <td>0</td>\n",
       "      <td>0</td>\n",
       "      <td>0</td>\n",
       "      <td>0</td>\n",
       "      <td>0</td>\n",
       "      <td>0</td>\n",
       "      <td>0</td>\n",
       "      <td>0</td>\n",
       "      <td>0</td>\n",
       "      <td>0</td>\n",
       "      <td>0</td>\n",
       "      <td>0</td>\n",
       "    </tr>\n",
       "    <tr>\n",
       "      <th>4</th>\n",
       "      <td>kaum cebong kafir lihat dongok dungu haha</td>\n",
       "      <td>1</td>\n",
       "      <td>1</td>\n",
       "      <td>0</td>\n",
       "      <td>1</td>\n",
       "      <td>1</td>\n",
       "      <td>0</td>\n",
       "      <td>0</td>\n",
       "      <td>0</td>\n",
       "      <td>0</td>\n",
       "      <td>0</td>\n",
       "      <td>1</td>\n",
       "      <td>0</td>\n",
       "    </tr>\n",
       "  </tbody>\n",
       "</table>\n",
       "</div>"
      ],
      "text/plain": [
       "                                               Tweet  HS  Abusive  \\\n",
       "0  cowok usaha lacak perhati gue lantas remeh per...   1        1   \n",
       "1  telat tau edan sarap gue gaul cigax jifla cal ...   0        1   \n",
       "2  41 kadang pikir percaya tuhan jatuh kali kali ...   0        0   \n",
       "3                            ku tau mata sipit lihat   0        0   \n",
       "4          kaum cebong kafir lihat dongok dungu haha   1        1   \n",
       "\n",
       "   HS_Individual  HS_Group  HS_Religion  HS_Race  HS_Physical  HS_Gender  \\\n",
       "0              1         0            0        0            0          0   \n",
       "1              0         0            0        0            0          0   \n",
       "2              0         0            0        0            0          0   \n",
       "3              0         0            0        0            0          0   \n",
       "4              0         1            1        0            0          0   \n",
       "\n",
       "   HS_Other  HS_Weak  HS_Moderate  HS_Strong  \n",
       "0         1        1            0          0  \n",
       "1         0        0            0          0  \n",
       "2         0        0            0          0  \n",
       "3         0        0            0          0  \n",
       "4         0        0            1          0  "
      ]
     },
     "execution_count": 16,
     "metadata": {},
     "output_type": "execute_result"
    }
   ],
   "source": [
    "print(\"Shape: \", data.shape)\n",
    "data.head()"
   ]
  },
  {
   "cell_type": "markdown",
   "id": "33407891",
   "metadata": {
    "papermill": {
     "duration": 0.037989,
     "end_time": "2023-12-13T21:33:32.139740",
     "exception": false,
     "start_time": "2023-12-13T21:33:32.101751",
     "status": "completed"
    },
    "tags": []
   },
   "source": [
    "## Splitting and Balancing Labels Dataset"
   ]
  },
  {
   "cell_type": "markdown",
   "id": "c33faf76",
   "metadata": {
    "papermill": {
     "duration": 0.038647,
     "end_time": "2023-12-13T21:33:32.217212",
     "exception": false,
     "start_time": "2023-12-13T21:33:32.178565",
     "status": "completed"
    },
    "tags": []
   },
   "source": [
    "Balancing based of comments count per label."
   ]
  },
  {
   "cell_type": "code",
   "execution_count": 17,
   "id": "37ab06a2",
   "metadata": {
    "execution": {
     "iopub.execute_input": "2023-12-13T21:33:32.296921Z",
     "iopub.status.busy": "2023-12-13T21:33:32.296545Z",
     "iopub.status.idle": "2023-12-13T21:33:32.312779Z",
     "shell.execute_reply": "2023-12-13T21:33:32.312064Z"
    },
    "papermill": {
     "duration": 0.05867,
     "end_time": "2023-12-13T21:33:32.314736",
     "exception": false,
     "start_time": "2023-12-13T21:33:32.256066",
     "status": "completed"
    },
    "tags": []
   },
   "outputs": [],
   "source": [
    "# label dataframe\n",
    "df_HS = data[['Tweet', 'HS']]\n",
    "df_Abusive = data[['Tweet', 'Abusive']]\n",
    "df_Individual = data[['Tweet', 'HS_Individual']]\n",
    "df_Group = data[['Tweet', 'HS_Group']]\n",
    "df_Religion = data[['Tweet', 'HS_Religion']]\n",
    "df_Race = data[['Tweet', 'HS_Race']]\n",
    "df_Physical = data[['Tweet', 'HS_Physical']]\n",
    "df_Gender = data[['Tweet', 'HS_Gender']]\n",
    "df_Other = data[['Tweet', 'HS_Other']]\n",
    "df_Weak = data[['Tweet', 'HS_Weak']]\n",
    "df_Moderate = data[['Tweet', 'HS_Moderate']]\n",
    "df_Strong = data[['Tweet', 'HS_Strong']]"
   ]
  },
  {
   "cell_type": "code",
   "execution_count": 18,
   "id": "e4b497f0",
   "metadata": {
    "execution": {
     "iopub.execute_input": "2023-12-13T21:33:32.393296Z",
     "iopub.status.busy": "2023-12-13T21:33:32.392938Z",
     "iopub.status.idle": "2023-12-13T21:33:32.402471Z",
     "shell.execute_reply": "2023-12-13T21:33:32.401690Z"
    },
    "papermill": {
     "duration": 0.050266,
     "end_time": "2023-12-13T21:33:32.404307",
     "exception": false,
     "start_time": "2023-12-13T21:33:32.354041",
     "status": "completed"
    },
    "tags": []
   },
   "outputs": [
    {
     "data": {
      "text/plain": [
       "(11122, 2)"
      ]
     },
     "execution_count": 18,
     "metadata": {},
     "output_type": "execute_result"
    }
   ],
   "source": [
    "# balancing df_HS 5561\n",
    "df_HS_1 = df_HS[df_HS['HS'] == 1]\n",
    "df_HS_0 = df_HS[df_HS['HS'] == 0].iloc[:5561]\n",
    "df_HS_bal = pd.concat([df_HS_1, df_HS_0], axis=0)\n",
    "df_HS_bal.shape"
   ]
  },
  {
   "cell_type": "code",
   "execution_count": 19,
   "id": "3cb68435",
   "metadata": {
    "execution": {
     "iopub.execute_input": "2023-12-13T21:33:32.483945Z",
     "iopub.status.busy": "2023-12-13T21:33:32.483437Z",
     "iopub.status.idle": "2023-12-13T21:33:32.493826Z",
     "shell.execute_reply": "2023-12-13T21:33:32.492942Z"
    },
    "papermill": {
     "duration": 0.052879,
     "end_time": "2023-12-13T21:33:32.495854",
     "exception": false,
     "start_time": "2023-12-13T21:33:32.442975",
     "status": "completed"
    },
    "tags": []
   },
   "outputs": [
    {
     "data": {
      "text/plain": [
       "(10086, 2)"
      ]
     },
     "execution_count": 19,
     "metadata": {},
     "output_type": "execute_result"
    }
   ],
   "source": [
    "# balancing df_Abusive 5043\n",
    "df_Abusive_1 = df_Abusive[df_Abusive['Abusive'] == 1]\n",
    "df_Abusive_0 = df_Abusive[df_Abusive['Abusive'] == 0].iloc[:5043]\n",
    "df_Abusive_bal = pd.concat([df_Abusive_1, df_Abusive_0], axis=0)\n",
    "df_Abusive_bal.shape"
   ]
  },
  {
   "cell_type": "code",
   "execution_count": 20,
   "id": "0f5778e2",
   "metadata": {
    "execution": {
     "iopub.execute_input": "2023-12-13T21:33:32.575218Z",
     "iopub.status.busy": "2023-12-13T21:33:32.574388Z",
     "iopub.status.idle": "2023-12-13T21:33:32.584415Z",
     "shell.execute_reply": "2023-12-13T21:33:32.583569Z"
    },
    "papermill": {
     "duration": 0.051781,
     "end_time": "2023-12-13T21:33:32.586520",
     "exception": false,
     "start_time": "2023-12-13T21:33:32.534739",
     "status": "completed"
    },
    "tags": []
   },
   "outputs": [
    {
     "data": {
      "text/plain": [
       "(7150, 2)"
      ]
     },
     "execution_count": 20,
     "metadata": {},
     "output_type": "execute_result"
    }
   ],
   "source": [
    "# balancing df_Individual 3575\n",
    "df_Individual_1 = df_Individual[df_Individual['HS_Individual'] == 1]\n",
    "df_Individual_0 = df_Individual[df_Individual['HS_Individual'] == 0].iloc[:3575]\n",
    "df_Individual_bal = pd.concat([df_Individual_1, df_Individual_0], axis=0)\n",
    "df_Individual_bal.shape"
   ]
  },
  {
   "cell_type": "code",
   "execution_count": 21,
   "id": "20c9835a",
   "metadata": {
    "execution": {
     "iopub.execute_input": "2023-12-13T21:33:32.665292Z",
     "iopub.status.busy": "2023-12-13T21:33:32.664910Z",
     "iopub.status.idle": "2023-12-13T21:33:32.675736Z",
     "shell.execute_reply": "2023-12-13T21:33:32.674670Z"
    },
    "papermill": {
     "duration": 0.053167,
     "end_time": "2023-12-13T21:33:32.678011",
     "exception": false,
     "start_time": "2023-12-13T21:33:32.624844",
     "status": "completed"
    },
    "tags": []
   },
   "outputs": [
    {
     "data": {
      "text/plain": [
       "(3972, 2)"
      ]
     },
     "execution_count": 21,
     "metadata": {},
     "output_type": "execute_result"
    }
   ],
   "source": [
    "# balancing df_Group 1986\n",
    "df_Group_1 = df_Group[df_Group['HS_Group'] == 1]\n",
    "df_Group_0 = df_Group[df_Group['HS_Group'] == 0].iloc[:1986]\n",
    "df_Group_bal = pd.concat([df_Group_1, df_Group_0], axis=0)\n",
    "df_Group_bal.shape"
   ]
  },
  {
   "cell_type": "code",
   "execution_count": 22,
   "id": "2e52c57f",
   "metadata": {
    "execution": {
     "iopub.execute_input": "2023-12-13T21:33:32.758262Z",
     "iopub.status.busy": "2023-12-13T21:33:32.757428Z",
     "iopub.status.idle": "2023-12-13T21:33:32.767598Z",
     "shell.execute_reply": "2023-12-13T21:33:32.766821Z"
    },
    "papermill": {
     "duration": 0.052302,
     "end_time": "2023-12-13T21:33:32.769632",
     "exception": false,
     "start_time": "2023-12-13T21:33:32.717330",
     "status": "completed"
    },
    "tags": []
   },
   "outputs": [
    {
     "data": {
      "text/plain": [
       "(1586, 2)"
      ]
     },
     "execution_count": 22,
     "metadata": {},
     "output_type": "execute_result"
    }
   ],
   "source": [
    "# balancing df_Religion 793\n",
    "df_Religion_1 = df_Religion[df_Religion['HS_Religion'] == 1]\n",
    "df_Religion_0 = df_Religion[df_Religion['HS_Religion'] == 0].iloc[:793]\n",
    "df_Religion_bal = pd.concat([df_Religion_1, df_Religion_0], axis=0)\n",
    "df_Religion_bal.shape"
   ]
  },
  {
   "cell_type": "code",
   "execution_count": 23,
   "id": "46ba42db",
   "metadata": {
    "execution": {
     "iopub.execute_input": "2023-12-13T21:33:32.849803Z",
     "iopub.status.busy": "2023-12-13T21:33:32.848863Z",
     "iopub.status.idle": "2023-12-13T21:33:32.859216Z",
     "shell.execute_reply": "2023-12-13T21:33:32.858372Z"
    },
    "papermill": {
     "duration": 0.052281,
     "end_time": "2023-12-13T21:33:32.861132",
     "exception": false,
     "start_time": "2023-12-13T21:33:32.808851",
     "status": "completed"
    },
    "tags": []
   },
   "outputs": [
    {
     "data": {
      "text/plain": [
       "(1132, 2)"
      ]
     },
     "execution_count": 23,
     "metadata": {},
     "output_type": "execute_result"
    }
   ],
   "source": [
    "# balancing df_Race 566\n",
    "df_Race_1 = df_Race[df_Race['HS_Race'] == 1]\n",
    "df_Race_0 = df_Race[df_Race['HS_Race'] == 0].iloc[:566]\n",
    "df_Race_bal = pd.concat([df_Race_1, df_Race_0], axis=0)\n",
    "df_Race_bal.shape"
   ]
  },
  {
   "cell_type": "code",
   "execution_count": 24,
   "id": "05d173fa",
   "metadata": {
    "execution": {
     "iopub.execute_input": "2023-12-13T21:33:32.942804Z",
     "iopub.status.busy": "2023-12-13T21:33:32.941958Z",
     "iopub.status.idle": "2023-12-13T21:33:32.952039Z",
     "shell.execute_reply": "2023-12-13T21:33:32.951151Z"
    },
    "papermill": {
     "duration": 0.053481,
     "end_time": "2023-12-13T21:33:32.954015",
     "exception": false,
     "start_time": "2023-12-13T21:33:32.900534",
     "status": "completed"
    },
    "tags": []
   },
   "outputs": [
    {
     "data": {
      "text/plain": [
       "(646, 2)"
      ]
     },
     "execution_count": 24,
     "metadata": {},
     "output_type": "execute_result"
    }
   ],
   "source": [
    "# balancing df_Physical 323\n",
    "df_Physical_1 = df_Physical[df_Physical['HS_Physical'] == 1]\n",
    "df_Physical_0 = df_Physical[df_Physical['HS_Physical'] == 0].iloc[:323]\n",
    "df_Physical_bal = pd.concat([df_Physical_1, df_Physical_0], axis=0)\n",
    "df_Physical_bal.shape"
   ]
  },
  {
   "cell_type": "code",
   "execution_count": 25,
   "id": "7a9dc8bc",
   "metadata": {
    "execution": {
     "iopub.execute_input": "2023-12-13T21:33:33.035897Z",
     "iopub.status.busy": "2023-12-13T21:33:33.034960Z",
     "iopub.status.idle": "2023-12-13T21:33:33.045239Z",
     "shell.execute_reply": "2023-12-13T21:33:33.044351Z"
    },
    "papermill": {
     "duration": 0.052012,
     "end_time": "2023-12-13T21:33:33.047193",
     "exception": false,
     "start_time": "2023-12-13T21:33:32.995181",
     "status": "completed"
    },
    "tags": []
   },
   "outputs": [
    {
     "data": {
      "text/plain": [
       "(612, 2)"
      ]
     },
     "execution_count": 25,
     "metadata": {},
     "output_type": "execute_result"
    }
   ],
   "source": [
    "# balancing df_Gender 306\n",
    "df_Gender_1 = df_Gender[df_Gender['HS_Gender'] == 1]\n",
    "df_Gender_0 = df_Gender[df_Gender['HS_Gender'] == 0].iloc[:306]\n",
    "df_Gender_bal = pd.concat([df_Gender_1, df_Gender_0], axis=0)\n",
    "df_Gender_bal.shape"
   ]
  },
  {
   "cell_type": "code",
   "execution_count": 26,
   "id": "8f33af6b",
   "metadata": {
    "execution": {
     "iopub.execute_input": "2023-12-13T21:33:33.129229Z",
     "iopub.status.busy": "2023-12-13T21:33:33.128216Z",
     "iopub.status.idle": "2023-12-13T21:33:33.139118Z",
     "shell.execute_reply": "2023-12-13T21:33:33.138246Z"
    },
    "papermill": {
     "duration": 0.054041,
     "end_time": "2023-12-13T21:33:33.141101",
     "exception": false,
     "start_time": "2023-12-13T21:33:33.087060",
     "status": "completed"
    },
    "tags": []
   },
   "outputs": [
    {
     "data": {
      "text/plain": [
       "(7480, 2)"
      ]
     },
     "execution_count": 26,
     "metadata": {},
     "output_type": "execute_result"
    }
   ],
   "source": [
    "# balancing df_Other 3740\n",
    "df_Other_1 = df_Other[df_Other['HS_Other'] == 1]\n",
    "df_Other_0 = df_Other[df_Other['HS_Other'] == 0].iloc[:3740]\n",
    "df_Other_bal = pd.concat([df_Other_1, df_Other_0], axis=0)\n",
    "df_Other_bal.shape"
   ]
  },
  {
   "cell_type": "code",
   "execution_count": 27,
   "id": "1a1bc9b8",
   "metadata": {
    "execution": {
     "iopub.execute_input": "2023-12-13T21:33:33.222259Z",
     "iopub.status.busy": "2023-12-13T21:33:33.221558Z",
     "iopub.status.idle": "2023-12-13T21:33:33.231620Z",
     "shell.execute_reply": "2023-12-13T21:33:33.230751Z"
    },
    "papermill": {
     "duration": 0.053193,
     "end_time": "2023-12-13T21:33:33.233562",
     "exception": false,
     "start_time": "2023-12-13T21:33:33.180369",
     "status": "completed"
    },
    "tags": []
   },
   "outputs": [
    {
     "data": {
      "text/plain": [
       "(6766, 2)"
      ]
     },
     "execution_count": 27,
     "metadata": {},
     "output_type": "execute_result"
    }
   ],
   "source": [
    "# balancing df_Weak 3383\n",
    "df_Weak_1 = df_Weak[df_Weak['HS_Weak'] == 1]\n",
    "df_Weak_0 = df_Weak[df_Weak['HS_Weak'] == 0].iloc[:3383]\n",
    "df_Weak_bal = pd.concat([df_Weak_1, df_Weak_0], axis=0)\n",
    "df_Weak_bal.shape"
   ]
  },
  {
   "cell_type": "code",
   "execution_count": 28,
   "id": "f9f4f30c",
   "metadata": {
    "execution": {
     "iopub.execute_input": "2023-12-13T21:33:33.314447Z",
     "iopub.status.busy": "2023-12-13T21:33:33.313583Z",
     "iopub.status.idle": "2023-12-13T21:33:33.324028Z",
     "shell.execute_reply": "2023-12-13T21:33:33.323208Z"
    },
    "papermill": {
     "duration": 0.05265,
     "end_time": "2023-12-13T21:33:33.326011",
     "exception": false,
     "start_time": "2023-12-13T21:33:33.273361",
     "status": "completed"
    },
    "tags": []
   },
   "outputs": [
    {
     "data": {
      "text/plain": [
       "(3410, 2)"
      ]
     },
     "execution_count": 28,
     "metadata": {},
     "output_type": "execute_result"
    }
   ],
   "source": [
    "# balancing df_Moderate 1705\n",
    "df_Moderate_1 = df_Moderate[df_Moderate['HS_Moderate'] == 1]\n",
    "df_Moderate_0 = df_Moderate[df_Moderate['HS_Moderate'] == 0].iloc[:1705]\n",
    "df_Moderate_bal = pd.concat([df_Moderate_1, df_Moderate_0], axis=0)\n",
    "df_Moderate_bal.shape"
   ]
  },
  {
   "cell_type": "code",
   "execution_count": 29,
   "id": "2e5f017e",
   "metadata": {
    "execution": {
     "iopub.execute_input": "2023-12-13T21:33:33.408268Z",
     "iopub.status.busy": "2023-12-13T21:33:33.407508Z",
     "iopub.status.idle": "2023-12-13T21:33:33.417514Z",
     "shell.execute_reply": "2023-12-13T21:33:33.416702Z"
    },
    "papermill": {
     "duration": 0.052382,
     "end_time": "2023-12-13T21:33:33.419394",
     "exception": false,
     "start_time": "2023-12-13T21:33:33.367012",
     "status": "completed"
    },
    "tags": []
   },
   "outputs": [
    {
     "data": {
      "text/plain": [
       "(946, 2)"
      ]
     },
     "execution_count": 29,
     "metadata": {},
     "output_type": "execute_result"
    }
   ],
   "source": [
    "# balancing df_Strong 473\n",
    "df_Strong_1 = df_Strong[df_Strong['HS_Strong'] == 1]\n",
    "df_Strong_0 = df_Strong[df_Strong['HS_Strong'] == 0].iloc[:473]\n",
    "df_Strong_bal = pd.concat([df_Strong_1, df_Strong_0], axis=0)\n",
    "df_Strong_bal.shape"
   ]
  },
  {
   "cell_type": "code",
   "execution_count": 31,
   "id": "c45ec182",
   "metadata": {
    "execution": {
     "iopub.execute_input": "2023-12-13T21:33:33.501570Z",
     "iopub.status.busy": "2023-12-13T21:33:33.500737Z",
     "iopub.status.idle": "2023-12-13T21:33:33.799527Z",
     "shell.execute_reply": "2023-12-13T21:33:33.798783Z"
    },
    "papermill": {
     "duration": 0.34209,
     "end_time": "2023-12-13T21:33:33.801900",
     "exception": false,
     "start_time": "2023-12-13T21:33:33.459810",
     "status": "completed"
    },
    "tags": []
   },
   "outputs": [],
   "source": [
    "# Simpan dataset hasil balancing ke folder lokal\n",
    "df_HS_bal.to_csv(r'C:\\LOMBA\\AI GUARDIAN 2.0\\data_balance\\HS.csv', index=False)\n",
    "df_Abusive_bal.to_csv(r'C:\\LOMBA\\AI GUARDIAN 2.0\\data_balance\\Abusive.csv', index=False)\n",
    "df_Individual_bal.to_csv(r'C:\\LOMBA\\AI GUARDIAN 2.0\\data_balance\\Individual.csv', index=False)\n",
    "df_Group_bal.to_csv(r'C:\\LOMBA\\AI GUARDIAN 2.0\\data_balance\\Group.csv', index=False)\n",
    "df_Religion_bal.to_csv(r'C:\\LOMBA\\AI GUARDIAN 2.0\\data_balance\\Religion.csv', index=False)\n",
    "df_Race_bal.to_csv(r'C:\\LOMBA\\AI GUARDIAN 2.0\\data_balance\\Race.csv', index=False)\n",
    "df_Physical_bal.to_csv(r'C:\\LOMBA\\AI GUARDIAN 2.0\\data_balance\\Physical.csv', index=False)\n",
    "df_Gender_bal.to_csv(r'C:\\LOMBA\\AI GUARDIAN 2.0\\data_balance\\Gender.csv', index=False)\n",
    "df_Other_bal.to_csv(r'C:\\LOMBA\\AI GUARDIAN 2.0\\data_balance\\Other.csv', index=False)\n",
    "df_Weak_bal.to_csv(r'C:\\LOMBA\\AI GUARDIAN 2.0\\data_balance\\Weak.csv', index=False)\n",
    "df_Moderate_bal.to_csv(r'C:\\LOMBA\\AI GUARDIAN 2.0\\data_balance\\Moderate.csv', index=False)\n",
    "df_Strong_bal.to_csv(r'C:\\LOMBA\\AI GUARDIAN 2.0\\data_balance\\Strong.csv', index=False)"
   ]
  },
  {
   "cell_type": "markdown",
   "id": "d93b9a41",
   "metadata": {},
   "source": [
    "# Models.PKL"
   ]
  },
  {
   "cell_type": "code",
   "execution_count": 33,
   "id": "8029888a",
   "metadata": {},
   "outputs": [
    {
     "name": "stdout",
     "output_type": "stream",
     "text": [
      "Training model untuk HS...\n",
      "Training model untuk Abusive...\n",
      "Training model untuk HS_Individual...\n",
      "Training model untuk HS_Group...\n",
      "Training model untuk HS_Religion...\n",
      "Training model untuk HS_Race...\n",
      "Training model untuk HS_Physical...\n",
      "Training model untuk HS_Gender...\n",
      "Training model untuk HS_Other...\n",
      "Training model untuk HS_Weak...\n",
      "Training model untuk HS_Moderate...\n",
      "Training model untuk HS_Strong...\n",
      "✅ Semua model berhasil disimpan ke models.pkl\n"
     ]
    }
   ],
   "source": [
    "import pandas as pd\n",
    "import re\n",
    "import pickle\n",
    "from sklearn.feature_extraction.text import TfidfVectorizer\n",
    "from sklearn.linear_model import LogisticRegression\n",
    "from sklearn.model_selection import train_test_split\n",
    "from Sastrawi.Stemmer.StemmerFactory import StemmerFactory\n",
    "\n",
    "# --- Path Dataset ---\n",
    "data_paths = {\n",
    "    'HS': r'C:\\LOMBA\\AI GUARDIAN 2.0\\data_balance\\HS.csv',\n",
    "    'Abusive': r'C:\\LOMBA\\AI GUARDIAN 2.0\\data_balance\\Abusive.csv',\n",
    "    'HS_Individual': r'C:\\LOMBA\\AI GUARDIAN 2.0\\data_balance\\Individual.csv',\n",
    "    'HS_Group': r'C:\\LOMBA\\AI GUARDIAN 2.0\\data_balance\\Group.csv',\n",
    "    'HS_Religion': r'C:\\LOMBA\\AI GUARDIAN 2.0\\data_balance\\Religion.csv',\n",
    "    'HS_Race': r'C:\\LOMBA\\AI GUARDIAN 2.0\\data_balance\\Race.csv',\n",
    "    'HS_Physical': r'C:\\LOMBA\\AI GUARDIAN 2.0\\data_balance\\Physical.csv',\n",
    "    'HS_Gender': r'C:\\LOMBA\\AI GUARDIAN 2.0\\data_balance\\Gender.csv',\n",
    "    'HS_Other': r'C:\\LOMBA\\AI GUARDIAN 2.0\\data_balance\\Other.csv',\n",
    "    'HS_Weak': r'C:\\LOMBA\\AI GUARDIAN 2.0\\data_balance\\Weak.csv',\n",
    "    'HS_Moderate': r'C:\\LOMBA\\AI GUARDIAN 2.0\\data_balance\\Moderate.csv',\n",
    "    'HS_Strong': r'C:\\LOMBA\\AI GUARDIAN 2.0\\data_balance\\Strong.csv'\n",
    "}\n",
    "\n",
    "# --- Load Kamus & Stopword ---\n",
    "alay_dict = pd.read_csv(r'C:\\LOMBA\\AI GUARDIAN 2.0\\data\\new_kamusalay.csv', encoding='latin-1', header=None)\n",
    "alay_dict_map = dict(zip(alay_dict[0], alay_dict[1]))\n",
    "\n",
    "stopword = pd.read_csv(r'C:\\LOMBA\\AI GUARDIAN 2.0\\data\\stopwordbahasa.csv', header=None)\n",
    "stopword_list = stopword[0].tolist()\n",
    "\n",
    "factory = StemmerFactory()\n",
    "stemmer = factory.create_stemmer()\n",
    "\n",
    "# --- Preprocessing Function ---\n",
    "def preprocess(text):\n",
    "    text = text.lower()\n",
    "    text = re.sub('[^0-9a-zA-Z]+', ' ', text)\n",
    "    text = re.sub('rt|user|www|https?://\\S+', ' ', text)\n",
    "    text = ' '.join([alay_dict_map.get(w, w) for w in text.split()])\n",
    "    text = stemmer.stem(text)\n",
    "    text = ' '.join([w for w in text.split() if w not in stopword_list])\n",
    "    return re.sub(r'\\s+', ' ', text).strip()\n",
    "\n",
    "# --- Train & Save Models ---\n",
    "models = {}\n",
    "vectorizers = {}\n",
    "\n",
    "for label, path in data_paths.items():\n",
    "    print(f\"Training model untuk {label}...\")\n",
    "    df = pd.read_csv(path, encoding='latin-1')\n",
    "    X = df['Tweet'].fillna('').apply(preprocess)\n",
    "    y = df[label]\n",
    "\n",
    "    vectorizer = TfidfVectorizer(ngram_range=(1, 1), stop_words=stopword_list)\n",
    "    X_vec = vectorizer.fit_transform(X)\n",
    "\n",
    "    lr = LogisticRegression(max_iter=1000)\n",
    "    lr.fit(X_vec, y)\n",
    "\n",
    "    models[label] = lr\n",
    "    vectorizers[label] = vectorizer\n",
    "\n",
    "# --- Save All Models ---\n",
    "with open(r'C:\\LOMBA\\AI GUARDIAN 2.0\\models\\models.pkl', 'wb') as f:\n",
    "    pickle.dump({'models': models, 'vectorizers': vectorizers}, f)\n",
    "\n",
    "print(\"✅ Semua model berhasil disimpan ke models.pkl\")\n"
   ]
  },
  {
   "cell_type": "code",
   "execution_count": 34,
   "id": "34eadf14",
   "metadata": {},
   "outputs": [
    {
     "name": "stdout",
     "output_type": "stream",
     "text": [
      "\n",
      "📊 Evaluasi Model Logistic Regression per Label\n",
      "\n",
      "Evaluasi untuk: HS\n",
      "Accuracy: 0.88 | Precision: 0.89 | Recall: 0.88 | F1: 0.88\n",
      "\n",
      "Evaluasi untuk: Abusive\n",
      "Accuracy: 0.93 | Precision: 0.94 | Recall: 0.92 | F1: 0.93\n",
      "\n",
      "Evaluasi untuk: HS_Individual\n",
      "Accuracy: 0.86 | Precision: 0.86 | Recall: 0.87 | F1: 0.86\n",
      "\n",
      "Evaluasi untuk: HS_Group\n",
      "Accuracy: 0.89 | Precision: 0.91 | Recall: 0.87 | F1: 0.89\n",
      "\n",
      "Evaluasi untuk: HS_Religion\n",
      "Accuracy: 0.95 | Precision: 0.95 | Recall: 0.94 | F1: 0.95\n",
      "\n",
      "Evaluasi untuk: HS_Race\n",
      "Accuracy: 0.95 | Precision: 0.98 | Recall: 0.92 | F1: 0.95\n",
      "\n",
      "Evaluasi untuk: HS_Physical\n",
      "Accuracy: 0.97 | Precision: 0.99 | Recall: 0.96 | F1: 0.97\n",
      "\n",
      "Evaluasi untuk: HS_Gender\n",
      "Accuracy: 0.96 | Precision: 0.99 | Recall: 0.92 | F1: 0.96\n",
      "\n",
      "Evaluasi untuk: HS_Other\n",
      "Accuracy: 0.90 | Precision: 0.91 | Recall: 0.90 | F1: 0.90\n",
      "\n",
      "Evaluasi untuk: HS_Weak\n",
      "Accuracy: 0.86 | Precision: 0.85 | Recall: 0.86 | F1: 0.86\n",
      "\n",
      "Evaluasi untuk: HS_Moderate\n",
      "Accuracy: 0.91 | Precision: 0.90 | Recall: 0.91 | F1: 0.91\n",
      "\n",
      "Evaluasi untuk: HS_Strong\n",
      "Accuracy: 0.93 | Precision: 0.95 | Recall: 0.90 | F1: 0.92\n",
      "\n",
      "=== HASIL AKHIR EVALUASI ===\n",
      "            Label  Accuracy  Precision  Recall  F1_Score\n",
      "0              HS     0.885      0.892   0.875     0.884\n",
      "1         Abusive     0.935      0.944   0.924     0.934\n",
      "2   HS_Individual     0.862      0.858   0.867     0.862\n",
      "3        HS_Group     0.893      0.911   0.871     0.890\n",
      "4     HS_Religion     0.945      0.949   0.941     0.945\n",
      "5         HS_Race     0.953      0.981   0.924     0.952\n",
      "6     HS_Physical     0.974      0.989   0.959     0.974\n",
      "7       HS_Gender     0.957      0.988   0.924     0.955\n",
      "8        HS_Other     0.904      0.907   0.900     0.903\n",
      "9         HS_Weak     0.858      0.854   0.863     0.858\n",
      "10    HS_Moderate     0.905      0.904   0.906     0.905\n",
      "11      HS_Strong     0.926      0.948   0.901     0.924\n",
      "\n",
      "📁 Hasil evaluasi disimpan ke model_evaluation.csv\n"
     ]
    }
   ],
   "source": [
    "from sklearn.metrics import accuracy_score, precision_score, recall_score, f1_score\n",
    "\n",
    "print(\"\\n📊 Evaluasi Model Logistic Regression per Label\")\n",
    "\n",
    "eval_results = []\n",
    "\n",
    "for label, path in data_paths.items():\n",
    "    print(f\"\\nEvaluasi untuk: {label}\")\n",
    "    df = pd.read_csv(path, encoding='latin-1')\n",
    "    X = df['Tweet'].fillna('').apply(preprocess)\n",
    "    y = df[label]\n",
    "\n",
    "    # Split data (gunakan 70:30 untuk validasi)\n",
    "    X_train, X_test, y_train, y_test = train_test_split(\n",
    "        X, y, test_size=0.3, random_state=42, stratify=y\n",
    "    )\n",
    "\n",
    "    # Vectorizer & Model dari dictionary\n",
    "    vectorizer = vectorizers[label]\n",
    "    model = models[label]\n",
    "\n",
    "    X_test_vec = vectorizer.transform(X_test)\n",
    "    y_pred = model.predict(X_test_vec)\n",
    "\n",
    "    acc = accuracy_score(y_test, y_pred)\n",
    "    prec = precision_score(y_test, y_pred, zero_division=0)\n",
    "    rec = recall_score(y_test, y_pred, zero_division=0)\n",
    "    f1 = f1_score(y_test, y_pred, zero_division=0)\n",
    "\n",
    "    print(f\"Accuracy: {acc:.2f} | Precision: {prec:.2f} | Recall: {rec:.2f} | F1: {f1:.2f}\")\n",
    "\n",
    "    eval_results.append({\n",
    "        'Label': label,\n",
    "        'Accuracy': round(acc, 3),\n",
    "        'Precision': round(prec, 3),\n",
    "        'Recall': round(rec, 3),\n",
    "        'F1_Score': round(f1, 3)\n",
    "    })\n",
    "\n",
    "# Hasil evaluasi jadi tabel DataFrame\n",
    "eval_df = pd.DataFrame(eval_results)\n",
    "print(\"\\n=== HASIL AKHIR EVALUASI ===\")\n",
    "print(eval_df)\n",
    "\n",
    "# (Opsional) Simpan ke CSV\n",
    "eval_df.to_csv(r'C:\\LOMBA\\AI GUARDIAN 2.0\\models\\model_evaluation.csv', index=False)\n",
    "print(\"\\n📁 Hasil evaluasi disimpan ke model_evaluation.csv\")\n"
   ]
  },
  {
   "cell_type": "code",
   "execution_count": null,
   "id": "edb83541",
   "metadata": {},
   "outputs": [],
   "source": []
  },
  {
   "cell_type": "code",
   "execution_count": null,
   "id": "d522a339",
   "metadata": {},
   "outputs": [],
   "source": []
  },
  {
   "cell_type": "code",
   "execution_count": null,
   "id": "14edd6a4",
   "metadata": {},
   "outputs": [],
   "source": []
  },
  {
   "cell_type": "code",
   "execution_count": null,
   "id": "90bf1dcf",
   "metadata": {},
   "outputs": [],
   "source": []
  },
  {
   "cell_type": "code",
   "execution_count": null,
   "id": "b8dd5af1",
   "metadata": {},
   "outputs": [],
   "source": []
  },
  {
   "cell_type": "markdown",
   "id": "780a8410",
   "metadata": {
    "papermill": {
     "duration": 0.039109,
     "end_time": "2023-12-13T21:33:33.881261",
     "exception": false,
     "start_time": "2023-12-13T21:33:33.842152",
     "status": "completed"
    },
    "tags": []
   },
   "source": [
    "## Modelling"
   ]
  },
  {
   "cell_type": "code",
   "execution_count": 37,
   "id": "55ba42e2",
   "metadata": {
    "execution": {
     "iopub.execute_input": "2023-12-13T21:33:33.962897Z",
     "iopub.status.busy": "2023-12-13T21:33:33.962526Z",
     "iopub.status.idle": "2023-12-13T21:33:33.977241Z",
     "shell.execute_reply": "2023-12-13T21:33:33.976328Z"
    },
    "papermill": {
     "duration": 0.058515,
     "end_time": "2023-12-13T21:33:33.979146",
     "exception": false,
     "start_time": "2023-12-13T21:33:33.920631",
     "status": "completed"
    },
    "tags": []
   },
   "outputs": [],
   "source": [
    "def vector_model(data, category, vectorizer, ngram):\n",
    "    X = data['Tweet'].fillna(' ')\n",
    "    Y = data[category]\n",
    "\n",
    "    X_train, X_test, Y_train, Y_test = train_test_split(X, Y, test_size=0.3, random_state=42)\n",
    "\n",
    "    vector = vectorizer(ngram_range=(ngram), stop_words=id_stopword_dict['stopword'].tolist())\n",
    "\n",
    "    X_train_scal = vector.fit_transform(X_train)\n",
    "    X_test_scal = vector.transform(X_test)\n",
    "    \n",
    "    # KNN\n",
    "    knn = KNeighborsClassifier(n_neighbors=5)\n",
    "    knn.fit(X_train_scal, Y_train)\n",
    "    Y_pred_knn = knn.predict(X_test_scal)\n",
    "    print(f\"Knn done -> It's classification report for {category} \\n {classification_report(Y_test, Y_pred_knn)} \")\n",
    "    print(\"\\n----------------------------------------------------------------------\")\n",
    "    \n",
    "    # logistic regression\n",
    "    lr = LogisticRegression()\n",
    "    lr.fit(X_train_scal, Y_train)\n",
    "    Y_pred_lr = lr.predict(X_test_scal)\n",
    "    print(f\"\\nLr done -> It's classification report for {category} \\n {classification_report(Y_test, Y_pred_lr)} \")\n",
    "    print(\"\\n----------------------------------------------------------------------\\n\")\n",
    "\n",
    "    # Support Vector Machine\n",
    "    svm = SVC(kernel='rbf')\n",
    "    svm.fit(X_train_scal, Y_train)\n",
    "    Y_pred_svm = svm.predict(X_test_scal)\n",
    "    print(f\"\\nsvm done -> It's classification report for {category} \\n {classification_report(Y_test, Y_pred_svm)} \")\n",
    "    print(\"\\n----------------------------------------------------------------------\\n\")\n",
    "    \n",
    "    # Naive Bayes\n",
    "    cnb = ComplementNB()\n",
    "    cnb.fit(X_train_scal, Y_train)\n",
    "    Y_pred_cnb = cnb.predict(X_test_scal)\n",
    "    print(f\"\\ncnb done -> It's classification report for {category} \\n {classification_report(Y_test, Y_pred_cnb)} \")\n",
    "    print(\"\\n----------------------------------------------------------------------\\n\")\n",
    "\n",
    "    bnb = BernoulliNB()\n",
    "    bnb.fit(X_train_scal, Y_train)\n",
    "    Y_pred_bnb = bnb.predict(X_test_scal)\n",
    "    print(f\"\\nbnb done -> It's classification report for {category} \\n {classification_report(Y_test, Y_pred_bnb)} \")\n",
    "    print(\"\\n----------------------------------------------------------------------\\n\")\n",
    "    \n",
    "    # Decision Tree Classifier\n",
    "    dt = DecisionTreeClassifier(criterion='entropy', min_samples_split=2, random_state=42)\n",
    "    dt.fit(X_train_scal, Y_train)\n",
    "    Y_pred_dt = dt.predict(X_test_scal)\n",
    "    print(f\"\\nDT done -> It's classification report for {category} \\n {classification_report(Y_test, Y_pred_dt)} \")\n",
    "    print(\"\\n----------------------------------------------------------------------\\n\")\n",
    "\n",
    "    # Random Forest Classifier\n",
    "    rf = RandomForestClassifier(n_estimators=105, min_samples_split=2, random_state=42)\n",
    "    rf.fit(X_train_scal, Y_train)\n",
    "    Y_pred_rf = rf.predict(X_test_scal)\n",
    "    print(f\"\\nRF done -> It's classification report for {category} \\n {classification_report(Y_test, Y_pred_rf)} \")\n",
    "    print(\"\\n----------------------------------------------------------------------\\n\")\n",
    "    \n",
    "    f1_scores = [round(f1_score(Y_pred_knn, Y_test), 2), round(f1_score(Y_pred_lr, Y_test), 2), round(f1_score(Y_pred_svm, Y_test), 2),\n",
    "                 round(f1_score(Y_pred_cnb, Y_test), 2), round(f1_score(Y_pred_bnb, Y_test), 2), round(f1_score(Y_pred_dt, Y_test), 2),\n",
    "                 round(f1_score(Y_pred_rf, Y_test), 2)]\n",
    "    print(f\"F1_scores for {category} Are calculated\")\n",
    "\n",
    "    Scores = {f'F1_Score - {category}':f1_scores}\n",
    "    Scores_data = pd.DataFrame(Scores, index=['KNN', 'Logistic Regression', 'SVM', 'Complement NB', 'Bernoulli NB', 'Decision Tree', 'Random Forest'])\n",
    "    return Scores_data"
   ]
  },
  {
   "cell_type": "markdown",
   "id": "38f95297",
   "metadata": {
    "papermill": {
     "duration": 0.039026,
     "end_time": "2023-12-13T21:33:34.059142",
     "exception": false,
     "start_time": "2023-12-13T21:33:34.020116",
     "status": "completed"
    },
    "tags": []
   },
   "source": [
    "## Model Evaluation"
   ]
  },
  {
   "cell_type": "markdown",
   "id": "2d55d052",
   "metadata": {
    "papermill": {
     "duration": 0.038826,
     "end_time": "2023-12-13T21:33:34.137071",
     "exception": false,
     "start_time": "2023-12-13T21:33:34.098245",
     "status": "completed"
    },
    "tags": []
   },
   "source": [
    "### Score for HS"
   ]
  },
  {
   "cell_type": "code",
   "execution_count": 38,
   "id": "88357b15",
   "metadata": {
    "execution": {
     "iopub.execute_input": "2023-12-13T21:33:34.217292Z",
     "iopub.status.busy": "2023-12-13T21:33:34.216935Z",
     "iopub.status.idle": "2023-12-13T21:33:54.782075Z",
     "shell.execute_reply": "2023-12-13T21:33:54.781107Z"
    },
    "papermill": {
     "duration": 20.60763,
     "end_time": "2023-12-13T21:33:54.784152",
     "exception": false,
     "start_time": "2023-12-13T21:33:34.176522",
     "status": "completed"
    },
    "tags": []
   },
   "outputs": [
    {
     "name": "stdout",
     "output_type": "stream",
     "text": [
      "Knn done -> It's classification report for HS \n",
      "               precision    recall  f1-score   support\n",
      "\n",
      "           0       0.55      0.95      0.70      1664\n",
      "           1       0.83      0.22      0.35      1673\n",
      "\n",
      "    accuracy                           0.59      3337\n",
      "   macro avg       0.69      0.59      0.52      3337\n",
      "weighted avg       0.69      0.59      0.52      3337\n",
      " \n",
      "\n",
      "----------------------------------------------------------------------\n",
      "\n",
      "Lr done -> It's classification report for HS \n",
      "               precision    recall  f1-score   support\n",
      "\n",
      "           0       0.80      0.83      0.82      1664\n",
      "           1       0.83      0.79      0.81      1673\n",
      "\n",
      "    accuracy                           0.81      3337\n",
      "   macro avg       0.81      0.81      0.81      3337\n",
      "weighted avg       0.81      0.81      0.81      3337\n",
      " \n",
      "\n",
      "----------------------------------------------------------------------\n",
      "\n",
      "\n",
      "svm done -> It's classification report for HS \n",
      "               precision    recall  f1-score   support\n",
      "\n",
      "           0       0.81      0.85      0.83      1664\n",
      "           1       0.84      0.80      0.82      1673\n",
      "\n",
      "    accuracy                           0.82      3337\n",
      "   macro avg       0.83      0.83      0.82      3337\n",
      "weighted avg       0.83      0.82      0.82      3337\n",
      " \n",
      "\n",
      "----------------------------------------------------------------------\n",
      "\n",
      "\n",
      "cnb done -> It's classification report for HS \n",
      "               precision    recall  f1-score   support\n",
      "\n",
      "           0       0.86      0.72      0.79      1664\n",
      "           1       0.76      0.88      0.82      1673\n",
      "\n",
      "    accuracy                           0.80      3337\n",
      "   macro avg       0.81      0.80      0.80      3337\n",
      "weighted avg       0.81      0.80      0.80      3337\n",
      " \n",
      "\n",
      "----------------------------------------------------------------------\n",
      "\n",
      "\n",
      "bnb done -> It's classification report for HS \n",
      "               precision    recall  f1-score   support\n",
      "\n",
      "           0       0.88      0.66      0.76      1664\n",
      "           1       0.73      0.91      0.81      1673\n",
      "\n",
      "    accuracy                           0.79      3337\n",
      "   macro avg       0.81      0.79      0.78      3337\n",
      "weighted avg       0.81      0.79      0.78      3337\n",
      " \n",
      "\n",
      "----------------------------------------------------------------------\n",
      "\n",
      "\n",
      "DT done -> It's classification report for HS \n",
      "               precision    recall  f1-score   support\n",
      "\n",
      "           0       0.78      0.76      0.77      1664\n",
      "           1       0.77      0.79      0.78      1673\n",
      "\n",
      "    accuracy                           0.77      3337\n",
      "   macro avg       0.77      0.77      0.77      3337\n",
      "weighted avg       0.77      0.77      0.77      3337\n",
      " \n",
      "\n",
      "----------------------------------------------------------------------\n",
      "\n",
      "\n",
      "RF done -> It's classification report for HS \n",
      "               precision    recall  f1-score   support\n",
      "\n",
      "           0       0.82      0.82      0.82      1664\n",
      "           1       0.82      0.82      0.82      1673\n",
      "\n",
      "    accuracy                           0.82      3337\n",
      "   macro avg       0.82      0.82      0.82      3337\n",
      "weighted avg       0.82      0.82      0.82      3337\n",
      " \n",
      "\n",
      "----------------------------------------------------------------------\n",
      "\n",
      "F1_scores for HS Are calculated\n"
     ]
    },
    {
     "data": {
      "text/html": [
       "<div>\n",
       "<style scoped>\n",
       "    .dataframe tbody tr th:only-of-type {\n",
       "        vertical-align: middle;\n",
       "    }\n",
       "\n",
       "    .dataframe tbody tr th {\n",
       "        vertical-align: top;\n",
       "    }\n",
       "\n",
       "    .dataframe thead th {\n",
       "        text-align: right;\n",
       "    }\n",
       "</style>\n",
       "<table border=\"1\" class=\"dataframe\">\n",
       "  <thead>\n",
       "    <tr style=\"text-align: right;\">\n",
       "      <th></th>\n",
       "      <th>F1_Score - HS</th>\n",
       "    </tr>\n",
       "  </thead>\n",
       "  <tbody>\n",
       "    <tr>\n",
       "      <th>KNN</th>\n",
       "      <td>0.35</td>\n",
       "    </tr>\n",
       "    <tr>\n",
       "      <th>Logistic Regression</th>\n",
       "      <td>0.81</td>\n",
       "    </tr>\n",
       "    <tr>\n",
       "      <th>SVM</th>\n",
       "      <td>0.82</td>\n",
       "    </tr>\n",
       "    <tr>\n",
       "      <th>Complement NB</th>\n",
       "      <td>0.82</td>\n",
       "    </tr>\n",
       "    <tr>\n",
       "      <th>Bernoulli NB</th>\n",
       "      <td>0.81</td>\n",
       "    </tr>\n",
       "    <tr>\n",
       "      <th>Decision Tree</th>\n",
       "      <td>0.78</td>\n",
       "    </tr>\n",
       "    <tr>\n",
       "      <th>Random Forest</th>\n",
       "      <td>0.82</td>\n",
       "    </tr>\n",
       "  </tbody>\n",
       "</table>\n",
       "</div>"
      ],
      "text/plain": [
       "                     F1_Score - HS\n",
       "KNN                           0.35\n",
       "Logistic Regression           0.81\n",
       "SVM                           0.82\n",
       "Complement NB                 0.82\n",
       "Bernoulli NB                  0.81\n",
       "Decision Tree                 0.78\n",
       "Random Forest                 0.82"
      ]
     },
     "execution_count": 38,
     "metadata": {},
     "output_type": "execute_result"
    }
   ],
   "source": [
    "# HS\n",
    "data_HS = pd.read_csv('/kaggle/working/HS.csv')\n",
    "result_HS = vector_model(data_HS, 'HS', TfidfVectorizer, (1,1))\n",
    "result_HS"
   ]
  },
  {
   "cell_type": "markdown",
   "id": "a7434e4c",
   "metadata": {
    "papermill": {
     "duration": 0.039727,
     "end_time": "2023-12-13T21:33:54.864668",
     "exception": false,
     "start_time": "2023-12-13T21:33:54.824941",
     "status": "completed"
    },
    "tags": []
   },
   "source": [
    "### Score for Abusive"
   ]
  },
  {
   "cell_type": "code",
   "execution_count": 39,
   "id": "50a213b0",
   "metadata": {
    "execution": {
     "iopub.execute_input": "2023-12-13T21:33:54.945658Z",
     "iopub.status.busy": "2023-12-13T21:33:54.944934Z",
     "iopub.status.idle": "2023-12-13T21:34:09.537868Z",
     "shell.execute_reply": "2023-12-13T21:34:09.536748Z"
    },
    "papermill": {
     "duration": 14.635484,
     "end_time": "2023-12-13T21:34:09.539767",
     "exception": false,
     "start_time": "2023-12-13T21:33:54.904283",
     "status": "completed"
    },
    "tags": []
   },
   "outputs": [
    {
     "name": "stdout",
     "output_type": "stream",
     "text": [
      "Knn done -> It's classification report for Abusive \n",
      "               precision    recall  f1-score   support\n",
      "\n",
      "           0       0.57      0.96      0.72      1477\n",
      "           1       0.89      0.32      0.47      1549\n",
      "\n",
      "    accuracy                           0.63      3026\n",
      "   macro avg       0.73      0.64      0.59      3026\n",
      "weighted avg       0.74      0.63      0.59      3026\n",
      " \n",
      "\n",
      "----------------------------------------------------------------------\n",
      "\n",
      "Lr done -> It's classification report for Abusive \n",
      "               precision    recall  f1-score   support\n",
      "\n",
      "           0       0.89      0.90      0.89      1477\n",
      "           1       0.90      0.89      0.90      1549\n",
      "\n",
      "    accuracy                           0.90      3026\n",
      "   macro avg       0.90      0.90      0.90      3026\n",
      "weighted avg       0.90      0.90      0.90      3026\n",
      " \n",
      "\n",
      "----------------------------------------------------------------------\n",
      "\n",
      "\n",
      "svm done -> It's classification report for Abusive \n",
      "               precision    recall  f1-score   support\n",
      "\n",
      "           0       0.89      0.92      0.90      1477\n",
      "           1       0.92      0.90      0.91      1549\n",
      "\n",
      "    accuracy                           0.91      3026\n",
      "   macro avg       0.91      0.91      0.91      3026\n",
      "weighted avg       0.91      0.91      0.91      3026\n",
      " \n",
      "\n",
      "----------------------------------------------------------------------\n",
      "\n",
      "\n",
      "cnb done -> It's classification report for Abusive \n",
      "               precision    recall  f1-score   support\n",
      "\n",
      "           0       0.89      0.84      0.87      1477\n",
      "           1       0.85      0.91      0.88      1549\n",
      "\n",
      "    accuracy                           0.87      3026\n",
      "   macro avg       0.87      0.87      0.87      3026\n",
      "weighted avg       0.87      0.87      0.87      3026\n",
      " \n",
      "\n",
      "----------------------------------------------------------------------\n",
      "\n",
      "\n",
      "bnb done -> It's classification report for Abusive \n",
      "               precision    recall  f1-score   support\n",
      "\n",
      "           0       0.92      0.73      0.81      1477\n",
      "           1       0.78      0.94      0.85      1549\n",
      "\n",
      "    accuracy                           0.84      3026\n",
      "   macro avg       0.85      0.83      0.83      3026\n",
      "weighted avg       0.85      0.84      0.83      3026\n",
      " \n",
      "\n",
      "----------------------------------------------------------------------\n",
      "\n",
      "\n",
      "DT done -> It's classification report for Abusive \n",
      "               precision    recall  f1-score   support\n",
      "\n",
      "           0       0.87      0.87      0.87      1477\n",
      "           1       0.88      0.87      0.87      1549\n",
      "\n",
      "    accuracy                           0.87      3026\n",
      "   macro avg       0.87      0.87      0.87      3026\n",
      "weighted avg       0.87      0.87      0.87      3026\n",
      " \n",
      "\n",
      "----------------------------------------------------------------------\n",
      "\n",
      "\n",
      "RF done -> It's classification report for Abusive \n",
      "               precision    recall  f1-score   support\n",
      "\n",
      "           0       0.88      0.91      0.89      1477\n",
      "           1       0.91      0.88      0.89      1549\n",
      "\n",
      "    accuracy                           0.89      3026\n",
      "   macro avg       0.89      0.89      0.89      3026\n",
      "weighted avg       0.89      0.89      0.89      3026\n",
      " \n",
      "\n",
      "----------------------------------------------------------------------\n",
      "\n",
      "F1_scores for Abusive Are calculated\n"
     ]
    },
    {
     "data": {
      "text/html": [
       "<div>\n",
       "<style scoped>\n",
       "    .dataframe tbody tr th:only-of-type {\n",
       "        vertical-align: middle;\n",
       "    }\n",
       "\n",
       "    .dataframe tbody tr th {\n",
       "        vertical-align: top;\n",
       "    }\n",
       "\n",
       "    .dataframe thead th {\n",
       "        text-align: right;\n",
       "    }\n",
       "</style>\n",
       "<table border=\"1\" class=\"dataframe\">\n",
       "  <thead>\n",
       "    <tr style=\"text-align: right;\">\n",
       "      <th></th>\n",
       "      <th>F1_Score - Abusive</th>\n",
       "    </tr>\n",
       "  </thead>\n",
       "  <tbody>\n",
       "    <tr>\n",
       "      <th>KNN</th>\n",
       "      <td>0.47</td>\n",
       "    </tr>\n",
       "    <tr>\n",
       "      <th>Logistic Regression</th>\n",
       "      <td>0.90</td>\n",
       "    </tr>\n",
       "    <tr>\n",
       "      <th>SVM</th>\n",
       "      <td>0.91</td>\n",
       "    </tr>\n",
       "    <tr>\n",
       "      <th>Complement NB</th>\n",
       "      <td>0.88</td>\n",
       "    </tr>\n",
       "    <tr>\n",
       "      <th>Bernoulli NB</th>\n",
       "      <td>0.85</td>\n",
       "    </tr>\n",
       "    <tr>\n",
       "      <th>Decision Tree</th>\n",
       "      <td>0.87</td>\n",
       "    </tr>\n",
       "    <tr>\n",
       "      <th>Random Forest</th>\n",
       "      <td>0.89</td>\n",
       "    </tr>\n",
       "  </tbody>\n",
       "</table>\n",
       "</div>"
      ],
      "text/plain": [
       "                     F1_Score - Abusive\n",
       "KNN                                0.47\n",
       "Logistic Regression                0.90\n",
       "SVM                                0.91\n",
       "Complement NB                      0.88\n",
       "Bernoulli NB                       0.85\n",
       "Decision Tree                      0.87\n",
       "Random Forest                      0.89"
      ]
     },
     "execution_count": 39,
     "metadata": {},
     "output_type": "execute_result"
    }
   ],
   "source": [
    "# Abusive\n",
    "data_Abusive = pd.read_csv('/kaggle/working/Abusive.csv')\n",
    "result_Abusive = vector_model(data_Abusive, 'Abusive', TfidfVectorizer, (1,1))\n",
    "result_Abusive"
   ]
  },
  {
   "cell_type": "markdown",
   "id": "01a64426",
   "metadata": {
    "papermill": {
     "duration": 0.039775,
     "end_time": "2023-12-13T21:34:09.620127",
     "exception": false,
     "start_time": "2023-12-13T21:34:09.580352",
     "status": "completed"
    },
    "tags": []
   },
   "source": [
    "### Score for HS_Individual"
   ]
  },
  {
   "cell_type": "code",
   "execution_count": 40,
   "id": "87193d8f",
   "metadata": {
    "execution": {
     "iopub.execute_input": "2023-12-13T21:34:09.702093Z",
     "iopub.status.busy": "2023-12-13T21:34:09.701395Z",
     "iopub.status.idle": "2023-12-13T21:34:20.268429Z",
     "shell.execute_reply": "2023-12-13T21:34:20.267416Z"
    },
    "papermill": {
     "duration": 10.61102,
     "end_time": "2023-12-13T21:34:20.270960",
     "exception": false,
     "start_time": "2023-12-13T21:34:09.659940",
     "status": "completed"
    },
    "tags": []
   },
   "outputs": [
    {
     "name": "stdout",
     "output_type": "stream",
     "text": [
      "Knn done -> It's classification report for HS_Individual \n",
      "               precision    recall  f1-score   support\n",
      "\n",
      "           0       0.54      0.95      0.69      1042\n",
      "           1       0.84      0.24      0.38      1103\n",
      "\n",
      "    accuracy                           0.59      2145\n",
      "   macro avg       0.69      0.60      0.53      2145\n",
      "weighted avg       0.69      0.59      0.53      2145\n",
      " \n",
      "\n",
      "----------------------------------------------------------------------\n",
      "\n",
      "Lr done -> It's classification report for HS_Individual \n",
      "               precision    recall  f1-score   support\n",
      "\n",
      "           0       0.77      0.81      0.79      1042\n",
      "           1       0.81      0.77      0.79      1103\n",
      "\n",
      "    accuracy                           0.79      2145\n",
      "   macro avg       0.79      0.79      0.79      2145\n",
      "weighted avg       0.79      0.79      0.79      2145\n",
      " \n",
      "\n",
      "----------------------------------------------------------------------\n",
      "\n",
      "\n",
      "svm done -> It's classification report for HS_Individual \n",
      "               precision    recall  f1-score   support\n",
      "\n",
      "           0       0.78      0.81      0.79      1042\n",
      "           1       0.81      0.79      0.80      1103\n",
      "\n",
      "    accuracy                           0.80      2145\n",
      "   macro avg       0.80      0.80      0.80      2145\n",
      "weighted avg       0.80      0.80      0.80      2145\n",
      " \n",
      "\n",
      "----------------------------------------------------------------------\n",
      "\n",
      "\n",
      "cnb done -> It's classification report for HS_Individual \n",
      "               precision    recall  f1-score   support\n",
      "\n",
      "           0       0.82      0.70      0.75      1042\n",
      "           1       0.75      0.85      0.80      1103\n",
      "\n",
      "    accuracy                           0.78      2145\n",
      "   macro avg       0.78      0.77      0.77      2145\n",
      "weighted avg       0.78      0.78      0.77      2145\n",
      " \n",
      "\n",
      "----------------------------------------------------------------------\n",
      "\n",
      "\n",
      "bnb done -> It's classification report for HS_Individual \n",
      "               precision    recall  f1-score   support\n",
      "\n",
      "           0       0.84      0.59      0.70      1042\n",
      "           1       0.70      0.89      0.78      1103\n",
      "\n",
      "    accuracy                           0.75      2145\n",
      "   macro avg       0.77      0.74      0.74      2145\n",
      "weighted avg       0.77      0.75      0.74      2145\n",
      " \n",
      "\n",
      "----------------------------------------------------------------------\n",
      "\n",
      "\n",
      "DT done -> It's classification report for HS_Individual \n",
      "               precision    recall  f1-score   support\n",
      "\n",
      "           0       0.73      0.74      0.73      1042\n",
      "           1       0.75      0.74      0.74      1103\n",
      "\n",
      "    accuracy                           0.74      2145\n",
      "   macro avg       0.74      0.74      0.74      2145\n",
      "weighted avg       0.74      0.74      0.74      2145\n",
      " \n",
      "\n",
      "----------------------------------------------------------------------\n",
      "\n",
      "\n",
      "RF done -> It's classification report for HS_Individual \n",
      "               precision    recall  f1-score   support\n",
      "\n",
      "           0       0.78      0.78      0.78      1042\n",
      "           1       0.79      0.79      0.79      1103\n",
      "\n",
      "    accuracy                           0.78      2145\n",
      "   macro avg       0.78      0.78      0.78      2145\n",
      "weighted avg       0.78      0.78      0.78      2145\n",
      " \n",
      "\n",
      "----------------------------------------------------------------------\n",
      "\n",
      "F1_scores for HS_Individual Are calculated\n"
     ]
    },
    {
     "data": {
      "text/html": [
       "<div>\n",
       "<style scoped>\n",
       "    .dataframe tbody tr th:only-of-type {\n",
       "        vertical-align: middle;\n",
       "    }\n",
       "\n",
       "    .dataframe tbody tr th {\n",
       "        vertical-align: top;\n",
       "    }\n",
       "\n",
       "    .dataframe thead th {\n",
       "        text-align: right;\n",
       "    }\n",
       "</style>\n",
       "<table border=\"1\" class=\"dataframe\">\n",
       "  <thead>\n",
       "    <tr style=\"text-align: right;\">\n",
       "      <th></th>\n",
       "      <th>F1_Score - HS_Individual</th>\n",
       "    </tr>\n",
       "  </thead>\n",
       "  <tbody>\n",
       "    <tr>\n",
       "      <th>KNN</th>\n",
       "      <td>0.38</td>\n",
       "    </tr>\n",
       "    <tr>\n",
       "      <th>Logistic Regression</th>\n",
       "      <td>0.79</td>\n",
       "    </tr>\n",
       "    <tr>\n",
       "      <th>SVM</th>\n",
       "      <td>0.80</td>\n",
       "    </tr>\n",
       "    <tr>\n",
       "      <th>Complement NB</th>\n",
       "      <td>0.80</td>\n",
       "    </tr>\n",
       "    <tr>\n",
       "      <th>Bernoulli NB</th>\n",
       "      <td>0.78</td>\n",
       "    </tr>\n",
       "    <tr>\n",
       "      <th>Decision Tree</th>\n",
       "      <td>0.74</td>\n",
       "    </tr>\n",
       "    <tr>\n",
       "      <th>Random Forest</th>\n",
       "      <td>0.79</td>\n",
       "    </tr>\n",
       "  </tbody>\n",
       "</table>\n",
       "</div>"
      ],
      "text/plain": [
       "                     F1_Score - HS_Individual\n",
       "KNN                                      0.38\n",
       "Logistic Regression                      0.79\n",
       "SVM                                      0.80\n",
       "Complement NB                            0.80\n",
       "Bernoulli NB                             0.78\n",
       "Decision Tree                            0.74\n",
       "Random Forest                            0.79"
      ]
     },
     "execution_count": 40,
     "metadata": {},
     "output_type": "execute_result"
    }
   ],
   "source": [
    "# Individual\n",
    "data_Individual = pd.read_csv('/kaggle/working/Individual.csv')\n",
    "result_Individual = vector_model(data_Individual, 'HS_Individual', TfidfVectorizer, (1,1))\n",
    "result_Individual"
   ]
  },
  {
   "cell_type": "markdown",
   "id": "d890fd39",
   "metadata": {
    "papermill": {
     "duration": 0.040543,
     "end_time": "2023-12-13T21:34:20.355545",
     "exception": false,
     "start_time": "2023-12-13T21:34:20.315002",
     "status": "completed"
    },
    "tags": []
   },
   "source": [
    "### Score for HS_Group"
   ]
  },
  {
   "cell_type": "code",
   "execution_count": 41,
   "id": "0cf35e0b",
   "metadata": {
    "execution": {
     "iopub.execute_input": "2023-12-13T21:34:20.438874Z",
     "iopub.status.busy": "2023-12-13T21:34:20.438155Z",
     "iopub.status.idle": "2023-12-13T21:34:24.253710Z",
     "shell.execute_reply": "2023-12-13T21:34:24.252746Z"
    },
    "papermill": {
     "duration": 3.859593,
     "end_time": "2023-12-13T21:34:24.255785",
     "exception": false,
     "start_time": "2023-12-13T21:34:20.396192",
     "status": "completed"
    },
    "tags": []
   },
   "outputs": [
    {
     "name": "stdout",
     "output_type": "stream",
     "text": [
      "Knn done -> It's classification report for HS_Group \n",
      "               precision    recall  f1-score   support\n",
      "\n",
      "           0       0.52      0.99      0.68       578\n",
      "           1       0.93      0.15      0.26       614\n",
      "\n",
      "    accuracy                           0.56      1192\n",
      "   macro avg       0.73      0.57      0.47      1192\n",
      "weighted avg       0.73      0.56      0.47      1192\n",
      " \n",
      "\n",
      "----------------------------------------------------------------------\n",
      "\n",
      "Lr done -> It's classification report for HS_Group \n",
      "               precision    recall  f1-score   support\n",
      "\n",
      "           0       0.75      0.84      0.79       578\n",
      "           1       0.83      0.73      0.78       614\n",
      "\n",
      "    accuracy                           0.78      1192\n",
      "   macro avg       0.79      0.79      0.78      1192\n",
      "weighted avg       0.79      0.78      0.78      1192\n",
      " \n",
      "\n",
      "----------------------------------------------------------------------\n",
      "\n",
      "\n",
      "svm done -> It's classification report for HS_Group \n",
      "               precision    recall  f1-score   support\n",
      "\n",
      "           0       0.75      0.85      0.80       578\n",
      "           1       0.84      0.74      0.79       614\n",
      "\n",
      "    accuracy                           0.79      1192\n",
      "   macro avg       0.80      0.79      0.79      1192\n",
      "weighted avg       0.80      0.79      0.79      1192\n",
      " \n",
      "\n",
      "----------------------------------------------------------------------\n",
      "\n",
      "\n",
      "cnb done -> It's classification report for HS_Group \n",
      "               precision    recall  f1-score   support\n",
      "\n",
      "           0       0.81      0.69      0.74       578\n",
      "           1       0.74      0.85      0.79       614\n",
      "\n",
      "    accuracy                           0.77      1192\n",
      "   macro avg       0.77      0.77      0.77      1192\n",
      "weighted avg       0.77      0.77      0.77      1192\n",
      " \n",
      "\n",
      "----------------------------------------------------------------------\n",
      "\n",
      "\n",
      "bnb done -> It's classification report for HS_Group \n",
      "               precision    recall  f1-score   support\n",
      "\n",
      "           0       0.79      0.76      0.77       578\n",
      "           1       0.78      0.81      0.80       614\n",
      "\n",
      "    accuracy                           0.79      1192\n",
      "   macro avg       0.79      0.79      0.79      1192\n",
      "weighted avg       0.79      0.79      0.79      1192\n",
      " \n",
      "\n",
      "----------------------------------------------------------------------\n",
      "\n",
      "\n",
      "DT done -> It's classification report for HS_Group \n",
      "               precision    recall  f1-score   support\n",
      "\n",
      "           0       0.74      0.70      0.72       578\n",
      "           1       0.73      0.77      0.75       614\n",
      "\n",
      "    accuracy                           0.74      1192\n",
      "   macro avg       0.74      0.74      0.74      1192\n",
      "weighted avg       0.74      0.74      0.74      1192\n",
      " \n",
      "\n",
      "----------------------------------------------------------------------\n",
      "\n",
      "\n",
      "RF done -> It's classification report for HS_Group \n",
      "               precision    recall  f1-score   support\n",
      "\n",
      "           0       0.77      0.80      0.79       578\n",
      "           1       0.81      0.78      0.79       614\n",
      "\n",
      "    accuracy                           0.79      1192\n",
      "   macro avg       0.79      0.79      0.79      1192\n",
      "weighted avg       0.79      0.79      0.79      1192\n",
      " \n",
      "\n",
      "----------------------------------------------------------------------\n",
      "\n",
      "F1_scores for HS_Group Are calculated\n"
     ]
    },
    {
     "data": {
      "text/html": [
       "<div>\n",
       "<style scoped>\n",
       "    .dataframe tbody tr th:only-of-type {\n",
       "        vertical-align: middle;\n",
       "    }\n",
       "\n",
       "    .dataframe tbody tr th {\n",
       "        vertical-align: top;\n",
       "    }\n",
       "\n",
       "    .dataframe thead th {\n",
       "        text-align: right;\n",
       "    }\n",
       "</style>\n",
       "<table border=\"1\" class=\"dataframe\">\n",
       "  <thead>\n",
       "    <tr style=\"text-align: right;\">\n",
       "      <th></th>\n",
       "      <th>F1_Score - HS_Group</th>\n",
       "    </tr>\n",
       "  </thead>\n",
       "  <tbody>\n",
       "    <tr>\n",
       "      <th>KNN</th>\n",
       "      <td>0.26</td>\n",
       "    </tr>\n",
       "    <tr>\n",
       "      <th>Logistic Regression</th>\n",
       "      <td>0.78</td>\n",
       "    </tr>\n",
       "    <tr>\n",
       "      <th>SVM</th>\n",
       "      <td>0.79</td>\n",
       "    </tr>\n",
       "    <tr>\n",
       "      <th>Complement NB</th>\n",
       "      <td>0.79</td>\n",
       "    </tr>\n",
       "    <tr>\n",
       "      <th>Bernoulli NB</th>\n",
       "      <td>0.80</td>\n",
       "    </tr>\n",
       "    <tr>\n",
       "      <th>Decision Tree</th>\n",
       "      <td>0.75</td>\n",
       "    </tr>\n",
       "    <tr>\n",
       "      <th>Random Forest</th>\n",
       "      <td>0.79</td>\n",
       "    </tr>\n",
       "  </tbody>\n",
       "</table>\n",
       "</div>"
      ],
      "text/plain": [
       "                     F1_Score - HS_Group\n",
       "KNN                                 0.26\n",
       "Logistic Regression                 0.78\n",
       "SVM                                 0.79\n",
       "Complement NB                       0.79\n",
       "Bernoulli NB                        0.80\n",
       "Decision Tree                       0.75\n",
       "Random Forest                       0.79"
      ]
     },
     "execution_count": 41,
     "metadata": {},
     "output_type": "execute_result"
    }
   ],
   "source": [
    "# Group\n",
    "data_Group = pd.read_csv('/kaggle/working/Group.csv')\n",
    "result_Group = vector_model(data_Group, 'HS_Group', TfidfVectorizer, (1,1))\n",
    "result_Group"
   ]
  },
  {
   "cell_type": "markdown",
   "id": "da21b993",
   "metadata": {
    "papermill": {
     "duration": 0.041255,
     "end_time": "2023-12-13T21:34:24.339023",
     "exception": false,
     "start_time": "2023-12-13T21:34:24.297768",
     "status": "completed"
    },
    "tags": []
   },
   "source": [
    "### Score for HS_Religion"
   ]
  },
  {
   "cell_type": "code",
   "execution_count": 42,
   "id": "4bcf63ce",
   "metadata": {
    "execution": {
     "iopub.execute_input": "2023-12-13T21:34:24.423767Z",
     "iopub.status.busy": "2023-12-13T21:34:24.423038Z",
     "iopub.status.idle": "2023-12-13T21:34:25.435920Z",
     "shell.execute_reply": "2023-12-13T21:34:25.434519Z"
    },
    "papermill": {
     "duration": 1.057605,
     "end_time": "2023-12-13T21:34:25.438369",
     "exception": false,
     "start_time": "2023-12-13T21:34:24.380764",
     "status": "completed"
    },
    "tags": []
   },
   "outputs": [
    {
     "name": "stdout",
     "output_type": "stream",
     "text": [
      "Knn done -> It's classification report for HS_Religion \n",
      "               precision    recall  f1-score   support\n",
      "\n",
      "           0       0.53      1.00      0.69       240\n",
      "           1       0.96      0.09      0.17       236\n",
      "\n",
      "    accuracy                           0.55       476\n",
      "   macro avg       0.74      0.54      0.43       476\n",
      "weighted avg       0.74      0.55      0.43       476\n",
      " \n",
      "\n",
      "----------------------------------------------------------------------\n",
      "\n",
      "Lr done -> It's classification report for HS_Religion \n",
      "               precision    recall  f1-score   support\n",
      "\n",
      "           0       0.85      0.90      0.88       240\n",
      "           1       0.90      0.83      0.86       236\n",
      "\n",
      "    accuracy                           0.87       476\n",
      "   macro avg       0.87      0.87      0.87       476\n",
      "weighted avg       0.87      0.87      0.87       476\n",
      " \n",
      "\n",
      "----------------------------------------------------------------------\n",
      "\n",
      "\n",
      "svm done -> It's classification report for HS_Religion \n",
      "               precision    recall  f1-score   support\n",
      "\n",
      "           0       0.82      0.91      0.86       240\n",
      "           1       0.90      0.80      0.85       236\n",
      "\n",
      "    accuracy                           0.86       476\n",
      "   macro avg       0.86      0.85      0.85       476\n",
      "weighted avg       0.86      0.86      0.85       476\n",
      " \n",
      "\n",
      "----------------------------------------------------------------------\n",
      "\n",
      "\n",
      "cnb done -> It's classification report for HS_Religion \n",
      "               precision    recall  f1-score   support\n",
      "\n",
      "           0       0.88      0.76      0.81       240\n",
      "           1       0.78      0.89      0.83       236\n",
      "\n",
      "    accuracy                           0.82       476\n",
      "   macro avg       0.83      0.82      0.82       476\n",
      "weighted avg       0.83      0.82      0.82       476\n",
      " \n",
      "\n",
      "----------------------------------------------------------------------\n",
      "\n",
      "\n",
      "bnb done -> It's classification report for HS_Religion \n",
      "               precision    recall  f1-score   support\n",
      "\n",
      "           0       0.88      0.84      0.86       240\n",
      "           1       0.85      0.89      0.87       236\n",
      "\n",
      "    accuracy                           0.86       476\n",
      "   macro avg       0.86      0.86      0.86       476\n",
      "weighted avg       0.86      0.86      0.86       476\n",
      " \n",
      "\n",
      "----------------------------------------------------------------------\n",
      "\n",
      "\n",
      "DT done -> It's classification report for HS_Religion \n",
      "               precision    recall  f1-score   support\n",
      "\n",
      "           0       0.87      0.86      0.86       240\n",
      "           1       0.86      0.87      0.86       236\n",
      "\n",
      "    accuracy                           0.86       476\n",
      "   macro avg       0.86      0.86      0.86       476\n",
      "weighted avg       0.86      0.86      0.86       476\n",
      " \n",
      "\n",
      "----------------------------------------------------------------------\n",
      "\n",
      "\n",
      "RF done -> It's classification report for HS_Religion \n",
      "               precision    recall  f1-score   support\n",
      "\n",
      "           0       0.87      0.90      0.89       240\n",
      "           1       0.90      0.86      0.88       236\n",
      "\n",
      "    accuracy                           0.88       476\n",
      "   macro avg       0.89      0.88      0.88       476\n",
      "weighted avg       0.88      0.88      0.88       476\n",
      " \n",
      "\n",
      "----------------------------------------------------------------------\n",
      "\n",
      "F1_scores for HS_Religion Are calculated\n"
     ]
    },
    {
     "data": {
      "text/html": [
       "<div>\n",
       "<style scoped>\n",
       "    .dataframe tbody tr th:only-of-type {\n",
       "        vertical-align: middle;\n",
       "    }\n",
       "\n",
       "    .dataframe tbody tr th {\n",
       "        vertical-align: top;\n",
       "    }\n",
       "\n",
       "    .dataframe thead th {\n",
       "        text-align: right;\n",
       "    }\n",
       "</style>\n",
       "<table border=\"1\" class=\"dataframe\">\n",
       "  <thead>\n",
       "    <tr style=\"text-align: right;\">\n",
       "      <th></th>\n",
       "      <th>F1_Score - HS_Religion</th>\n",
       "    </tr>\n",
       "  </thead>\n",
       "  <tbody>\n",
       "    <tr>\n",
       "      <th>KNN</th>\n",
       "      <td>0.17</td>\n",
       "    </tr>\n",
       "    <tr>\n",
       "      <th>Logistic Regression</th>\n",
       "      <td>0.86</td>\n",
       "    </tr>\n",
       "    <tr>\n",
       "      <th>SVM</th>\n",
       "      <td>0.85</td>\n",
       "    </tr>\n",
       "    <tr>\n",
       "      <th>Complement NB</th>\n",
       "      <td>0.83</td>\n",
       "    </tr>\n",
       "    <tr>\n",
       "      <th>Bernoulli NB</th>\n",
       "      <td>0.87</td>\n",
       "    </tr>\n",
       "    <tr>\n",
       "      <th>Decision Tree</th>\n",
       "      <td>0.86</td>\n",
       "    </tr>\n",
       "    <tr>\n",
       "      <th>Random Forest</th>\n",
       "      <td>0.88</td>\n",
       "    </tr>\n",
       "  </tbody>\n",
       "</table>\n",
       "</div>"
      ],
      "text/plain": [
       "                     F1_Score - HS_Religion\n",
       "KNN                                    0.17\n",
       "Logistic Regression                    0.86\n",
       "SVM                                    0.85\n",
       "Complement NB                          0.83\n",
       "Bernoulli NB                           0.87\n",
       "Decision Tree                          0.86\n",
       "Random Forest                          0.88"
      ]
     },
     "execution_count": 42,
     "metadata": {},
     "output_type": "execute_result"
    }
   ],
   "source": [
    "# Religion\n",
    "data_Religion = pd.read_csv('/kaggle/working/Religion.csv')\n",
    "result_Religion = vector_model(data_Religion, 'HS_Religion', TfidfVectorizer, (1,1))\n",
    "result_Religion"
   ]
  },
  {
   "cell_type": "markdown",
   "id": "5280c566",
   "metadata": {
    "papermill": {
     "duration": 0.042871,
     "end_time": "2023-12-13T21:34:25.526852",
     "exception": false,
     "start_time": "2023-12-13T21:34:25.483981",
     "status": "completed"
    },
    "tags": []
   },
   "source": [
    "### Score for HS_Race"
   ]
  },
  {
   "cell_type": "code",
   "execution_count": 43,
   "id": "779c64b0",
   "metadata": {
    "execution": {
     "iopub.execute_input": "2023-12-13T21:34:25.612974Z",
     "iopub.status.busy": "2023-12-13T21:34:25.612597Z",
     "iopub.status.idle": "2023-12-13T21:34:26.276197Z",
     "shell.execute_reply": "2023-12-13T21:34:26.275125Z"
    },
    "papermill": {
     "duration": 0.709114,
     "end_time": "2023-12-13T21:34:26.278225",
     "exception": false,
     "start_time": "2023-12-13T21:34:25.569111",
     "status": "completed"
    },
    "tags": []
   },
   "outputs": [
    {
     "name": "stdout",
     "output_type": "stream",
     "text": [
      "Knn done -> It's classification report for HS_Race \n",
      "               precision    recall  f1-score   support\n",
      "\n",
      "           0       0.49      1.00      0.66       158\n",
      "           1       1.00      0.09      0.17       182\n",
      "\n",
      "    accuracy                           0.51       340\n",
      "   macro avg       0.74      0.55      0.41       340\n",
      "weighted avg       0.76      0.51      0.40       340\n",
      " \n",
      "\n",
      "----------------------------------------------------------------------\n",
      "\n",
      "Lr done -> It's classification report for HS_Race \n",
      "               precision    recall  f1-score   support\n",
      "\n",
      "           0       0.91      0.92      0.92       158\n",
      "           1       0.93      0.92      0.93       182\n",
      "\n",
      "    accuracy                           0.92       340\n",
      "   macro avg       0.92      0.92      0.92       340\n",
      "weighted avg       0.92      0.92      0.92       340\n",
      " \n",
      "\n",
      "----------------------------------------------------------------------\n",
      "\n",
      "\n",
      "svm done -> It's classification report for HS_Race \n",
      "               precision    recall  f1-score   support\n",
      "\n",
      "           0       0.91      0.94      0.92       158\n",
      "           1       0.94      0.92      0.93       182\n",
      "\n",
      "    accuracy                           0.93       340\n",
      "   macro avg       0.93      0.93      0.93       340\n",
      "weighted avg       0.93      0.93      0.93       340\n",
      " \n",
      "\n",
      "----------------------------------------------------------------------\n",
      "\n",
      "\n",
      "cnb done -> It's classification report for HS_Race \n",
      "               precision    recall  f1-score   support\n",
      "\n",
      "           0       0.93      0.77      0.84       158\n",
      "           1       0.82      0.95      0.88       182\n",
      "\n",
      "    accuracy                           0.86       340\n",
      "   macro avg       0.88      0.86      0.86       340\n",
      "weighted avg       0.87      0.86      0.86       340\n",
      " \n",
      "\n",
      "----------------------------------------------------------------------\n",
      "\n",
      "\n",
      "bnb done -> It's classification report for HS_Race \n",
      "               precision    recall  f1-score   support\n",
      "\n",
      "           0       0.94      0.82      0.88       158\n",
      "           1       0.86      0.95      0.90       182\n",
      "\n",
      "    accuracy                           0.89       340\n",
      "   macro avg       0.90      0.89      0.89       340\n",
      "weighted avg       0.90      0.89      0.89       340\n",
      " \n",
      "\n",
      "----------------------------------------------------------------------\n",
      "\n",
      "\n",
      "DT done -> It's classification report for HS_Race \n",
      "               precision    recall  f1-score   support\n",
      "\n",
      "           0       0.97      0.89      0.93       158\n",
      "           1       0.91      0.98      0.94       182\n",
      "\n",
      "    accuracy                           0.94       340\n",
      "   macro avg       0.94      0.94      0.94       340\n",
      "weighted avg       0.94      0.94      0.94       340\n",
      " \n",
      "\n",
      "----------------------------------------------------------------------\n",
      "\n",
      "\n",
      "RF done -> It's classification report for HS_Race \n",
      "               precision    recall  f1-score   support\n",
      "\n",
      "           0       0.94      0.92      0.93       158\n",
      "           1       0.94      0.95      0.94       182\n",
      "\n",
      "    accuracy                           0.94       340\n",
      "   macro avg       0.94      0.94      0.94       340\n",
      "weighted avg       0.94      0.94      0.94       340\n",
      " \n",
      "\n",
      "----------------------------------------------------------------------\n",
      "\n",
      "F1_scores for HS_Race Are calculated\n"
     ]
    },
    {
     "data": {
      "text/html": [
       "<div>\n",
       "<style scoped>\n",
       "    .dataframe tbody tr th:only-of-type {\n",
       "        vertical-align: middle;\n",
       "    }\n",
       "\n",
       "    .dataframe tbody tr th {\n",
       "        vertical-align: top;\n",
       "    }\n",
       "\n",
       "    .dataframe thead th {\n",
       "        text-align: right;\n",
       "    }\n",
       "</style>\n",
       "<table border=\"1\" class=\"dataframe\">\n",
       "  <thead>\n",
       "    <tr style=\"text-align: right;\">\n",
       "      <th></th>\n",
       "      <th>F1_Score - HS_Race</th>\n",
       "    </tr>\n",
       "  </thead>\n",
       "  <tbody>\n",
       "    <tr>\n",
       "      <th>KNN</th>\n",
       "      <td>0.17</td>\n",
       "    </tr>\n",
       "    <tr>\n",
       "      <th>Logistic Regression</th>\n",
       "      <td>0.93</td>\n",
       "    </tr>\n",
       "    <tr>\n",
       "      <th>SVM</th>\n",
       "      <td>0.93</td>\n",
       "    </tr>\n",
       "    <tr>\n",
       "      <th>Complement NB</th>\n",
       "      <td>0.88</td>\n",
       "    </tr>\n",
       "    <tr>\n",
       "      <th>Bernoulli NB</th>\n",
       "      <td>0.90</td>\n",
       "    </tr>\n",
       "    <tr>\n",
       "      <th>Decision Tree</th>\n",
       "      <td>0.94</td>\n",
       "    </tr>\n",
       "    <tr>\n",
       "      <th>Random Forest</th>\n",
       "      <td>0.94</td>\n",
       "    </tr>\n",
       "  </tbody>\n",
       "</table>\n",
       "</div>"
      ],
      "text/plain": [
       "                     F1_Score - HS_Race\n",
       "KNN                                0.17\n",
       "Logistic Regression                0.93\n",
       "SVM                                0.93\n",
       "Complement NB                      0.88\n",
       "Bernoulli NB                       0.90\n",
       "Decision Tree                      0.94\n",
       "Random Forest                      0.94"
      ]
     },
     "execution_count": 43,
     "metadata": {},
     "output_type": "execute_result"
    }
   ],
   "source": [
    "# Race\n",
    "data_Race = pd.read_csv('/kaggle/working/Race.csv')\n",
    "result_Race = vector_model(data_Race, 'HS_Race', TfidfVectorizer, (1,1))\n",
    "result_Race"
   ]
  },
  {
   "cell_type": "markdown",
   "id": "bb80157a",
   "metadata": {
    "papermill": {
     "duration": 0.042974,
     "end_time": "2023-12-13T21:34:26.364175",
     "exception": false,
     "start_time": "2023-12-13T21:34:26.321201",
     "status": "completed"
    },
    "tags": []
   },
   "source": [
    "### Score for HS_Physical"
   ]
  },
  {
   "cell_type": "code",
   "execution_count": 44,
   "id": "ec79b425",
   "metadata": {
    "execution": {
     "iopub.execute_input": "2023-12-13T21:34:26.451656Z",
     "iopub.status.busy": "2023-12-13T21:34:26.451011Z",
     "iopub.status.idle": "2023-12-13T21:34:26.957576Z",
     "shell.execute_reply": "2023-12-13T21:34:26.956629Z"
    },
    "papermill": {
     "duration": 0.552943,
     "end_time": "2023-12-13T21:34:26.959738",
     "exception": false,
     "start_time": "2023-12-13T21:34:26.406795",
     "status": "completed"
    },
    "tags": []
   },
   "outputs": [
    {
     "name": "stdout",
     "output_type": "stream",
     "text": [
      "Knn done -> It's classification report for HS_Physical \n",
      "               precision    recall  f1-score   support\n",
      "\n",
      "           0       0.49      1.00      0.66        88\n",
      "           1       1.00      0.13      0.23       106\n",
      "\n",
      "    accuracy                           0.53       194\n",
      "   macro avg       0.74      0.57      0.45       194\n",
      "weighted avg       0.77      0.53      0.43       194\n",
      " \n",
      "\n",
      "----------------------------------------------------------------------\n",
      "\n",
      "Lr done -> It's classification report for HS_Physical \n",
      "               precision    recall  f1-score   support\n",
      "\n",
      "           0       0.71      0.83      0.76        88\n",
      "           1       0.84      0.72      0.77       106\n",
      "\n",
      "    accuracy                           0.77       194\n",
      "   macro avg       0.77      0.77      0.77       194\n",
      "weighted avg       0.78      0.77      0.77       194\n",
      " \n",
      "\n",
      "----------------------------------------------------------------------\n",
      "\n",
      "\n",
      "svm done -> It's classification report for HS_Physical \n",
      "               precision    recall  f1-score   support\n",
      "\n",
      "           0       0.71      0.83      0.76        88\n",
      "           1       0.84      0.72      0.77       106\n",
      "\n",
      "    accuracy                           0.77       194\n",
      "   macro avg       0.77      0.77      0.77       194\n",
      "weighted avg       0.78      0.77      0.77       194\n",
      " \n",
      "\n",
      "----------------------------------------------------------------------\n",
      "\n",
      "\n",
      "cnb done -> It's classification report for HS_Physical \n",
      "               precision    recall  f1-score   support\n",
      "\n",
      "           0       0.89      0.65      0.75        88\n",
      "           1       0.76      0.93      0.84       106\n",
      "\n",
      "    accuracy                           0.80       194\n",
      "   macro avg       0.83      0.79      0.79       194\n",
      "weighted avg       0.82      0.80      0.80       194\n",
      " \n",
      "\n",
      "----------------------------------------------------------------------\n",
      "\n",
      "\n",
      "bnb done -> It's classification report for HS_Physical \n",
      "               precision    recall  f1-score   support\n",
      "\n",
      "           0       0.89      0.55      0.68        88\n",
      "           1       0.71      0.94      0.81       106\n",
      "\n",
      "    accuracy                           0.76       194\n",
      "   macro avg       0.80      0.74      0.74       194\n",
      "weighted avg       0.79      0.76      0.75       194\n",
      " \n",
      "\n",
      "----------------------------------------------------------------------\n",
      "\n",
      "\n",
      "DT done -> It's classification report for HS_Physical \n",
      "               precision    recall  f1-score   support\n",
      "\n",
      "           0       0.83      0.91      0.87        88\n",
      "           1       0.92      0.85      0.88       106\n",
      "\n",
      "    accuracy                           0.88       194\n",
      "   macro avg       0.88      0.88      0.88       194\n",
      "weighted avg       0.88      0.88      0.88       194\n",
      " \n",
      "\n",
      "----------------------------------------------------------------------\n",
      "\n",
      "\n",
      "RF done -> It's classification report for HS_Physical \n",
      "               precision    recall  f1-score   support\n",
      "\n",
      "           0       0.79      0.90      0.84        88\n",
      "           1       0.90      0.80      0.85       106\n",
      "\n",
      "    accuracy                           0.85       194\n",
      "   macro avg       0.85      0.85      0.85       194\n",
      "weighted avg       0.85      0.85      0.85       194\n",
      " \n",
      "\n",
      "----------------------------------------------------------------------\n",
      "\n",
      "F1_scores for HS_Physical Are calculated\n"
     ]
    },
    {
     "data": {
      "text/html": [
       "<div>\n",
       "<style scoped>\n",
       "    .dataframe tbody tr th:only-of-type {\n",
       "        vertical-align: middle;\n",
       "    }\n",
       "\n",
       "    .dataframe tbody tr th {\n",
       "        vertical-align: top;\n",
       "    }\n",
       "\n",
       "    .dataframe thead th {\n",
       "        text-align: right;\n",
       "    }\n",
       "</style>\n",
       "<table border=\"1\" class=\"dataframe\">\n",
       "  <thead>\n",
       "    <tr style=\"text-align: right;\">\n",
       "      <th></th>\n",
       "      <th>F1_Score - HS_Physical</th>\n",
       "    </tr>\n",
       "  </thead>\n",
       "  <tbody>\n",
       "    <tr>\n",
       "      <th>KNN</th>\n",
       "      <td>0.23</td>\n",
       "    </tr>\n",
       "    <tr>\n",
       "      <th>Logistic Regression</th>\n",
       "      <td>0.77</td>\n",
       "    </tr>\n",
       "    <tr>\n",
       "      <th>SVM</th>\n",
       "      <td>0.77</td>\n",
       "    </tr>\n",
       "    <tr>\n",
       "      <th>Complement NB</th>\n",
       "      <td>0.84</td>\n",
       "    </tr>\n",
       "    <tr>\n",
       "      <th>Bernoulli NB</th>\n",
       "      <td>0.81</td>\n",
       "    </tr>\n",
       "    <tr>\n",
       "      <th>Decision Tree</th>\n",
       "      <td>0.88</td>\n",
       "    </tr>\n",
       "    <tr>\n",
       "      <th>Random Forest</th>\n",
       "      <td>0.85</td>\n",
       "    </tr>\n",
       "  </tbody>\n",
       "</table>\n",
       "</div>"
      ],
      "text/plain": [
       "                     F1_Score - HS_Physical\n",
       "KNN                                    0.23\n",
       "Logistic Regression                    0.77\n",
       "SVM                                    0.77\n",
       "Complement NB                          0.84\n",
       "Bernoulli NB                           0.81\n",
       "Decision Tree                          0.88\n",
       "Random Forest                          0.85"
      ]
     },
     "execution_count": 44,
     "metadata": {},
     "output_type": "execute_result"
    }
   ],
   "source": [
    "# Physical\n",
    "data_Physical = pd.read_csv('/kaggle/working/Physical.csv')\n",
    "result_Physical = vector_model(data_Physical, 'HS_Physical', TfidfVectorizer, (1,1))\n",
    "result_Physical"
   ]
  },
  {
   "cell_type": "markdown",
   "id": "9886db97",
   "metadata": {
    "papermill": {
     "duration": 0.043342,
     "end_time": "2023-12-13T21:34:27.046745",
     "exception": false,
     "start_time": "2023-12-13T21:34:27.003403",
     "status": "completed"
    },
    "tags": []
   },
   "source": [
    "### Score for HS_Gender"
   ]
  },
  {
   "cell_type": "code",
   "execution_count": 45,
   "id": "2ed39c49",
   "metadata": {
    "execution": {
     "iopub.execute_input": "2023-12-13T21:34:27.136470Z",
     "iopub.status.busy": "2023-12-13T21:34:27.135554Z",
     "iopub.status.idle": "2023-12-13T21:34:27.604206Z",
     "shell.execute_reply": "2023-12-13T21:34:27.603266Z"
    },
    "papermill": {
     "duration": 0.516424,
     "end_time": "2023-12-13T21:34:27.606230",
     "exception": false,
     "start_time": "2023-12-13T21:34:27.089806",
     "status": "completed"
    },
    "tags": []
   },
   "outputs": [
    {
     "name": "stdout",
     "output_type": "stream",
     "text": [
      "Knn done -> It's classification report for HS_Gender \n",
      "               precision    recall  f1-score   support\n",
      "\n",
      "           0       0.46      1.00      0.63        80\n",
      "           1       1.00      0.09      0.16       104\n",
      "\n",
      "    accuracy                           0.48       184\n",
      "   macro avg       0.73      0.54      0.39       184\n",
      "weighted avg       0.76      0.48      0.36       184\n",
      " \n",
      "\n",
      "----------------------------------------------------------------------\n",
      "\n",
      "Lr done -> It's classification report for HS_Gender \n",
      "               precision    recall  f1-score   support\n",
      "\n",
      "           0       0.77      0.79      0.78        80\n",
      "           1       0.83      0.82      0.83       104\n",
      "\n",
      "    accuracy                           0.80       184\n",
      "   macro avg       0.80      0.80      0.80       184\n",
      "weighted avg       0.81      0.80      0.80       184\n",
      " \n",
      "\n",
      "----------------------------------------------------------------------\n",
      "\n",
      "\n",
      "svm done -> It's classification report for HS_Gender \n",
      "               precision    recall  f1-score   support\n",
      "\n",
      "           0       0.73      0.78      0.75        80\n",
      "           1       0.82      0.78      0.80       104\n",
      "\n",
      "    accuracy                           0.78       184\n",
      "   macro avg       0.77      0.78      0.77       184\n",
      "weighted avg       0.78      0.78      0.78       184\n",
      " \n",
      "\n",
      "----------------------------------------------------------------------\n",
      "\n",
      "\n",
      "cnb done -> It's classification report for HS_Gender \n",
      "               precision    recall  f1-score   support\n",
      "\n",
      "           0       0.91      0.60      0.72        80\n",
      "           1       0.76      0.95      0.84       104\n",
      "\n",
      "    accuracy                           0.80       184\n",
      "   macro avg       0.83      0.78      0.78       184\n",
      "weighted avg       0.82      0.80      0.79       184\n",
      " \n",
      "\n",
      "----------------------------------------------------------------------\n",
      "\n",
      "\n",
      "bnb done -> It's classification report for HS_Gender \n",
      "               precision    recall  f1-score   support\n",
      "\n",
      "           0       0.92      0.61      0.74        80\n",
      "           1       0.76      0.96      0.85       104\n",
      "\n",
      "    accuracy                           0.81       184\n",
      "   macro avg       0.84      0.79      0.79       184\n",
      "weighted avg       0.83      0.81      0.80       184\n",
      " \n",
      "\n",
      "----------------------------------------------------------------------\n",
      "\n",
      "\n",
      "DT done -> It's classification report for HS_Gender \n",
      "               precision    recall  f1-score   support\n",
      "\n",
      "           0       0.83      0.86      0.85        80\n",
      "           1       0.89      0.87      0.88       104\n",
      "\n",
      "    accuracy                           0.86       184\n",
      "   macro avg       0.86      0.86      0.86       184\n",
      "weighted avg       0.87      0.86      0.86       184\n",
      " \n",
      "\n",
      "----------------------------------------------------------------------\n",
      "\n",
      "\n",
      "RF done -> It's classification report for HS_Gender \n",
      "               precision    recall  f1-score   support\n",
      "\n",
      "           0       0.76      0.90      0.82        80\n",
      "           1       0.91      0.78      0.84       104\n",
      "\n",
      "    accuracy                           0.83       184\n",
      "   macro avg       0.83      0.84      0.83       184\n",
      "weighted avg       0.84      0.83      0.83       184\n",
      " \n",
      "\n",
      "----------------------------------------------------------------------\n",
      "\n",
      "F1_scores for HS_Gender Are calculated\n"
     ]
    },
    {
     "data": {
      "text/html": [
       "<div>\n",
       "<style scoped>\n",
       "    .dataframe tbody tr th:only-of-type {\n",
       "        vertical-align: middle;\n",
       "    }\n",
       "\n",
       "    .dataframe tbody tr th {\n",
       "        vertical-align: top;\n",
       "    }\n",
       "\n",
       "    .dataframe thead th {\n",
       "        text-align: right;\n",
       "    }\n",
       "</style>\n",
       "<table border=\"1\" class=\"dataframe\">\n",
       "  <thead>\n",
       "    <tr style=\"text-align: right;\">\n",
       "      <th></th>\n",
       "      <th>F1_Score - HS_Gender</th>\n",
       "    </tr>\n",
       "  </thead>\n",
       "  <tbody>\n",
       "    <tr>\n",
       "      <th>KNN</th>\n",
       "      <td>0.16</td>\n",
       "    </tr>\n",
       "    <tr>\n",
       "      <th>Logistic Regression</th>\n",
       "      <td>0.83</td>\n",
       "    </tr>\n",
       "    <tr>\n",
       "      <th>SVM</th>\n",
       "      <td>0.80</td>\n",
       "    </tr>\n",
       "    <tr>\n",
       "      <th>Complement NB</th>\n",
       "      <td>0.84</td>\n",
       "    </tr>\n",
       "    <tr>\n",
       "      <th>Bernoulli NB</th>\n",
       "      <td>0.85</td>\n",
       "    </tr>\n",
       "    <tr>\n",
       "      <th>Decision Tree</th>\n",
       "      <td>0.88</td>\n",
       "    </tr>\n",
       "    <tr>\n",
       "      <th>Random Forest</th>\n",
       "      <td>0.84</td>\n",
       "    </tr>\n",
       "  </tbody>\n",
       "</table>\n",
       "</div>"
      ],
      "text/plain": [
       "                     F1_Score - HS_Gender\n",
       "KNN                                  0.16\n",
       "Logistic Regression                  0.83\n",
       "SVM                                  0.80\n",
       "Complement NB                        0.84\n",
       "Bernoulli NB                         0.85\n",
       "Decision Tree                        0.88\n",
       "Random Forest                        0.84"
      ]
     },
     "execution_count": 45,
     "metadata": {},
     "output_type": "execute_result"
    }
   ],
   "source": [
    "# Gender\n",
    "data_Gender = pd.read_csv('/kaggle/working/Gender.csv')\n",
    "result_Gender = vector_model(data_Gender, 'HS_Gender', TfidfVectorizer, (1,1))\n",
    "result_Gender"
   ]
  },
  {
   "cell_type": "markdown",
   "id": "a27ea858",
   "metadata": {
    "papermill": {
     "duration": 0.043193,
     "end_time": "2023-12-13T21:34:27.693490",
     "exception": false,
     "start_time": "2023-12-13T21:34:27.650297",
     "status": "completed"
    },
    "tags": []
   },
   "source": [
    "### Score for HS_Other"
   ]
  },
  {
   "cell_type": "code",
   "execution_count": 46,
   "id": "a3d7d155",
   "metadata": {
    "execution": {
     "iopub.execute_input": "2023-12-13T21:34:27.783301Z",
     "iopub.status.busy": "2023-12-13T21:34:27.782359Z",
     "iopub.status.idle": "2023-12-13T21:34:38.561663Z",
     "shell.execute_reply": "2023-12-13T21:34:38.560650Z"
    },
    "papermill": {
     "duration": 10.826699,
     "end_time": "2023-12-13T21:34:38.564169",
     "exception": false,
     "start_time": "2023-12-13T21:34:27.737470",
     "status": "completed"
    },
    "tags": []
   },
   "outputs": [
    {
     "name": "stdout",
     "output_type": "stream",
     "text": [
      "Knn done -> It's classification report for HS_Other \n",
      "               precision    recall  f1-score   support\n",
      "\n",
      "           0       0.79      0.20      0.32      1118\n",
      "           1       0.54      0.95      0.69      1126\n",
      "\n",
      "    accuracy                           0.58      2244\n",
      "   macro avg       0.67      0.57      0.51      2244\n",
      "weighted avg       0.67      0.58      0.51      2244\n",
      " \n",
      "\n",
      "----------------------------------------------------------------------\n",
      "\n",
      "Lr done -> It's classification report for HS_Other \n",
      "               precision    recall  f1-score   support\n",
      "\n",
      "           0       0.84      0.84      0.84      1118\n",
      "           1       0.84      0.85      0.84      1126\n",
      "\n",
      "    accuracy                           0.84      2244\n",
      "   macro avg       0.84      0.84      0.84      2244\n",
      "weighted avg       0.84      0.84      0.84      2244\n",
      " \n",
      "\n",
      "----------------------------------------------------------------------\n",
      "\n",
      "\n",
      "svm done -> It's classification report for HS_Other \n",
      "               precision    recall  f1-score   support\n",
      "\n",
      "           0       0.84      0.83      0.84      1118\n",
      "           1       0.84      0.85      0.84      1126\n",
      "\n",
      "    accuracy                           0.84      2244\n",
      "   macro avg       0.84      0.84      0.84      2244\n",
      "weighted avg       0.84      0.84      0.84      2244\n",
      " \n",
      "\n",
      "----------------------------------------------------------------------\n",
      "\n",
      "\n",
      "cnb done -> It's classification report for HS_Other \n",
      "               precision    recall  f1-score   support\n",
      "\n",
      "           0       0.88      0.75      0.81      1118\n",
      "           1       0.78      0.90      0.84      1126\n",
      "\n",
      "    accuracy                           0.82      2244\n",
      "   macro avg       0.83      0.82      0.82      2244\n",
      "weighted avg       0.83      0.82      0.82      2244\n",
      " \n",
      "\n",
      "----------------------------------------------------------------------\n",
      "\n",
      "\n",
      "bnb done -> It's classification report for HS_Other \n",
      "               precision    recall  f1-score   support\n",
      "\n",
      "           0       0.90      0.67      0.77      1118\n",
      "           1       0.74      0.92      0.82      1126\n",
      "\n",
      "    accuracy                           0.80      2244\n",
      "   macro avg       0.82      0.80      0.79      2244\n",
      "weighted avg       0.82      0.80      0.79      2244\n",
      " \n",
      "\n",
      "----------------------------------------------------------------------\n",
      "\n",
      "\n",
      "DT done -> It's classification report for HS_Other \n",
      "               precision    recall  f1-score   support\n",
      "\n",
      "           0       0.78      0.74      0.76      1118\n",
      "           1       0.75      0.80      0.77      1126\n",
      "\n",
      "    accuracy                           0.77      2244\n",
      "   macro avg       0.77      0.77      0.77      2244\n",
      "weighted avg       0.77      0.77      0.77      2244\n",
      " \n",
      "\n",
      "----------------------------------------------------------------------\n",
      "\n",
      "\n",
      "RF done -> It's classification report for HS_Other \n",
      "               precision    recall  f1-score   support\n",
      "\n",
      "           0       0.84      0.80      0.82      1118\n",
      "           1       0.81      0.85      0.83      1126\n",
      "\n",
      "    accuracy                           0.82      2244\n",
      "   macro avg       0.83      0.82      0.82      2244\n",
      "weighted avg       0.82      0.82      0.82      2244\n",
      " \n",
      "\n",
      "----------------------------------------------------------------------\n",
      "\n",
      "F1_scores for HS_Other Are calculated\n"
     ]
    },
    {
     "data": {
      "text/html": [
       "<div>\n",
       "<style scoped>\n",
       "    .dataframe tbody tr th:only-of-type {\n",
       "        vertical-align: middle;\n",
       "    }\n",
       "\n",
       "    .dataframe tbody tr th {\n",
       "        vertical-align: top;\n",
       "    }\n",
       "\n",
       "    .dataframe thead th {\n",
       "        text-align: right;\n",
       "    }\n",
       "</style>\n",
       "<table border=\"1\" class=\"dataframe\">\n",
       "  <thead>\n",
       "    <tr style=\"text-align: right;\">\n",
       "      <th></th>\n",
       "      <th>F1_Score - HS_Other</th>\n",
       "    </tr>\n",
       "  </thead>\n",
       "  <tbody>\n",
       "    <tr>\n",
       "      <th>KNN</th>\n",
       "      <td>0.69</td>\n",
       "    </tr>\n",
       "    <tr>\n",
       "      <th>Logistic Regression</th>\n",
       "      <td>0.84</td>\n",
       "    </tr>\n",
       "    <tr>\n",
       "      <th>SVM</th>\n",
       "      <td>0.84</td>\n",
       "    </tr>\n",
       "    <tr>\n",
       "      <th>Complement NB</th>\n",
       "      <td>0.84</td>\n",
       "    </tr>\n",
       "    <tr>\n",
       "      <th>Bernoulli NB</th>\n",
       "      <td>0.82</td>\n",
       "    </tr>\n",
       "    <tr>\n",
       "      <th>Decision Tree</th>\n",
       "      <td>0.77</td>\n",
       "    </tr>\n",
       "    <tr>\n",
       "      <th>Random Forest</th>\n",
       "      <td>0.83</td>\n",
       "    </tr>\n",
       "  </tbody>\n",
       "</table>\n",
       "</div>"
      ],
      "text/plain": [
       "                     F1_Score - HS_Other\n",
       "KNN                                 0.69\n",
       "Logistic Regression                 0.84\n",
       "SVM                                 0.84\n",
       "Complement NB                       0.84\n",
       "Bernoulli NB                        0.82\n",
       "Decision Tree                       0.77\n",
       "Random Forest                       0.83"
      ]
     },
     "execution_count": 46,
     "metadata": {},
     "output_type": "execute_result"
    }
   ],
   "source": [
    "# Other\n",
    "data_Other = pd.read_csv('/kaggle/working/Other.csv')\n",
    "result_Other = vector_model(data_Other, 'HS_Other', TfidfVectorizer, (1,1))\n",
    "result_Other"
   ]
  },
  {
   "cell_type": "markdown",
   "id": "d4a6af1e",
   "metadata": {
    "papermill": {
     "duration": 0.043321,
     "end_time": "2023-12-13T21:34:38.652725",
     "exception": false,
     "start_time": "2023-12-13T21:34:38.609404",
     "status": "completed"
    },
    "tags": []
   },
   "source": [
    "### Score for HS_Weak"
   ]
  },
  {
   "cell_type": "code",
   "execution_count": 47,
   "id": "9307a97b",
   "metadata": {
    "execution": {
     "iopub.execute_input": "2023-12-13T21:34:38.741825Z",
     "iopub.status.busy": "2023-12-13T21:34:38.741071Z",
     "iopub.status.idle": "2023-12-13T21:34:48.529304Z",
     "shell.execute_reply": "2023-12-13T21:34:48.528243Z"
    },
    "papermill": {
     "duration": 9.835377,
     "end_time": "2023-12-13T21:34:48.531462",
     "exception": false,
     "start_time": "2023-12-13T21:34:38.696085",
     "status": "completed"
    },
    "tags": []
   },
   "outputs": [
    {
     "name": "stdout",
     "output_type": "stream",
     "text": [
      "Knn done -> It's classification report for HS_Weak \n",
      "               precision    recall  f1-score   support\n",
      "\n",
      "           0       0.55      0.92      0.69       995\n",
      "           1       0.78      0.27      0.40      1035\n",
      "\n",
      "    accuracy                           0.59      2030\n",
      "   macro avg       0.66      0.60      0.54      2030\n",
      "weighted avg       0.67      0.59      0.54      2030\n",
      " \n",
      "\n",
      "----------------------------------------------------------------------\n",
      "\n",
      "Lr done -> It's classification report for HS_Weak \n",
      "               precision    recall  f1-score   support\n",
      "\n",
      "           0       0.77      0.78      0.77       995\n",
      "           1       0.78      0.77      0.78      1035\n",
      "\n",
      "    accuracy                           0.78      2030\n",
      "   macro avg       0.78      0.78      0.78      2030\n",
      "weighted avg       0.78      0.78      0.78      2030\n",
      " \n",
      "\n",
      "----------------------------------------------------------------------\n",
      "\n",
      "\n",
      "svm done -> It's classification report for HS_Weak \n",
      "               precision    recall  f1-score   support\n",
      "\n",
      "           0       0.77      0.78      0.77       995\n",
      "           1       0.78      0.77      0.78      1035\n",
      "\n",
      "    accuracy                           0.78      2030\n",
      "   macro avg       0.78      0.78      0.78      2030\n",
      "weighted avg       0.78      0.78      0.78      2030\n",
      " \n",
      "\n",
      "----------------------------------------------------------------------\n",
      "\n",
      "\n",
      "cnb done -> It's classification report for HS_Weak \n",
      "               precision    recall  f1-score   support\n",
      "\n",
      "           0       0.80      0.68      0.73       995\n",
      "           1       0.73      0.84      0.78      1035\n",
      "\n",
      "    accuracy                           0.76      2030\n",
      "   macro avg       0.77      0.76      0.76      2030\n",
      "weighted avg       0.77      0.76      0.76      2030\n",
      " \n",
      "\n",
      "----------------------------------------------------------------------\n",
      "\n",
      "\n",
      "bnb done -> It's classification report for HS_Weak \n",
      "               precision    recall  f1-score   support\n",
      "\n",
      "           0       0.82      0.57      0.67       995\n",
      "           1       0.68      0.88      0.77      1035\n",
      "\n",
      "    accuracy                           0.73      2030\n",
      "   macro avg       0.75      0.73      0.72      2030\n",
      "weighted avg       0.75      0.73      0.72      2030\n",
      " \n",
      "\n",
      "----------------------------------------------------------------------\n",
      "\n",
      "\n",
      "DT done -> It's classification report for HS_Weak \n",
      "               precision    recall  f1-score   support\n",
      "\n",
      "           0       0.73      0.70      0.71       995\n",
      "           1       0.72      0.75      0.74      1035\n",
      "\n",
      "    accuracy                           0.73      2030\n",
      "   macro avg       0.73      0.73      0.73      2030\n",
      "weighted avg       0.73      0.73      0.73      2030\n",
      " \n",
      "\n",
      "----------------------------------------------------------------------\n",
      "\n",
      "\n",
      "RF done -> It's classification report for HS_Weak \n",
      "               precision    recall  f1-score   support\n",
      "\n",
      "           0       0.77      0.76      0.76       995\n",
      "           1       0.77      0.78      0.78      1035\n",
      "\n",
      "    accuracy                           0.77      2030\n",
      "   macro avg       0.77      0.77      0.77      2030\n",
      "weighted avg       0.77      0.77      0.77      2030\n",
      " \n",
      "\n",
      "----------------------------------------------------------------------\n",
      "\n",
      "F1_scores for HS_Weak Are calculated\n"
     ]
    },
    {
     "data": {
      "text/html": [
       "<div>\n",
       "<style scoped>\n",
       "    .dataframe tbody tr th:only-of-type {\n",
       "        vertical-align: middle;\n",
       "    }\n",
       "\n",
       "    .dataframe tbody tr th {\n",
       "        vertical-align: top;\n",
       "    }\n",
       "\n",
       "    .dataframe thead th {\n",
       "        text-align: right;\n",
       "    }\n",
       "</style>\n",
       "<table border=\"1\" class=\"dataframe\">\n",
       "  <thead>\n",
       "    <tr style=\"text-align: right;\">\n",
       "      <th></th>\n",
       "      <th>F1_Score - HS_Weak</th>\n",
       "    </tr>\n",
       "  </thead>\n",
       "  <tbody>\n",
       "    <tr>\n",
       "      <th>KNN</th>\n",
       "      <td>0.40</td>\n",
       "    </tr>\n",
       "    <tr>\n",
       "      <th>Logistic Regression</th>\n",
       "      <td>0.78</td>\n",
       "    </tr>\n",
       "    <tr>\n",
       "      <th>SVM</th>\n",
       "      <td>0.78</td>\n",
       "    </tr>\n",
       "    <tr>\n",
       "      <th>Complement NB</th>\n",
       "      <td>0.78</td>\n",
       "    </tr>\n",
       "    <tr>\n",
       "      <th>Bernoulli NB</th>\n",
       "      <td>0.77</td>\n",
       "    </tr>\n",
       "    <tr>\n",
       "      <th>Decision Tree</th>\n",
       "      <td>0.74</td>\n",
       "    </tr>\n",
       "    <tr>\n",
       "      <th>Random Forest</th>\n",
       "      <td>0.78</td>\n",
       "    </tr>\n",
       "  </tbody>\n",
       "</table>\n",
       "</div>"
      ],
      "text/plain": [
       "                     F1_Score - HS_Weak\n",
       "KNN                                0.40\n",
       "Logistic Regression                0.78\n",
       "SVM                                0.78\n",
       "Complement NB                      0.78\n",
       "Bernoulli NB                       0.77\n",
       "Decision Tree                      0.74\n",
       "Random Forest                      0.78"
      ]
     },
     "execution_count": 47,
     "metadata": {},
     "output_type": "execute_result"
    }
   ],
   "source": [
    "# Weak\n",
    "data_Weak = pd.read_csv('/kaggle/working/Weak.csv')\n",
    "result_Weak = vector_model(data_Weak, 'HS_Weak', TfidfVectorizer, (1,1))\n",
    "result_Weak"
   ]
  },
  {
   "cell_type": "markdown",
   "id": "8e26a736",
   "metadata": {
    "papermill": {
     "duration": 0.045081,
     "end_time": "2023-12-13T21:34:48.622422",
     "exception": false,
     "start_time": "2023-12-13T21:34:48.577341",
     "status": "completed"
    },
    "tags": []
   },
   "source": [
    "### Score for HS_Moderate"
   ]
  },
  {
   "cell_type": "code",
   "execution_count": 48,
   "id": "31f60937",
   "metadata": {
    "execution": {
     "iopub.execute_input": "2023-12-13T21:34:48.716396Z",
     "iopub.status.busy": "2023-12-13T21:34:48.715634Z",
     "iopub.status.idle": "2023-12-13T21:34:52.021025Z",
     "shell.execute_reply": "2023-12-13T21:34:52.019959Z"
    },
    "papermill": {
     "duration": 3.355915,
     "end_time": "2023-12-13T21:34:52.023092",
     "exception": false,
     "start_time": "2023-12-13T21:34:48.667177",
     "status": "completed"
    },
    "tags": []
   },
   "outputs": [
    {
     "name": "stdout",
     "output_type": "stream",
     "text": [
      "Knn done -> It's classification report for HS_Moderate \n",
      "               precision    recall  f1-score   support\n",
      "\n",
      "           0       0.51      0.95      0.66       502\n",
      "           1       0.71      0.12      0.20       521\n",
      "\n",
      "    accuracy                           0.52      1023\n",
      "   macro avg       0.61      0.53      0.43      1023\n",
      "weighted avg       0.61      0.52      0.43      1023\n",
      " \n",
      "\n",
      "----------------------------------------------------------------------\n",
      "\n",
      "Lr done -> It's classification report for HS_Moderate \n",
      "               precision    recall  f1-score   support\n",
      "\n",
      "           0       0.73      0.80      0.76       502\n",
      "           1       0.78      0.71      0.75       521\n",
      "\n",
      "    accuracy                           0.75      1023\n",
      "   macro avg       0.76      0.75      0.75      1023\n",
      "weighted avg       0.76      0.75      0.75      1023\n",
      " \n",
      "\n",
      "----------------------------------------------------------------------\n",
      "\n",
      "\n",
      "svm done -> It's classification report for HS_Moderate \n",
      "               precision    recall  f1-score   support\n",
      "\n",
      "           0       0.72      0.79      0.76       502\n",
      "           1       0.78      0.71      0.74       521\n",
      "\n",
      "    accuracy                           0.75      1023\n",
      "   macro avg       0.75      0.75      0.75      1023\n",
      "weighted avg       0.75      0.75      0.75      1023\n",
      " \n",
      "\n",
      "----------------------------------------------------------------------\n",
      "\n",
      "\n",
      "cnb done -> It's classification report for HS_Moderate \n",
      "               precision    recall  f1-score   support\n",
      "\n",
      "           0       0.79      0.65      0.71       502\n",
      "           1       0.71      0.84      0.77       521\n",
      "\n",
      "    accuracy                           0.74      1023\n",
      "   macro avg       0.75      0.74      0.74      1023\n",
      "weighted avg       0.75      0.74      0.74      1023\n",
      " \n",
      "\n",
      "----------------------------------------------------------------------\n",
      "\n",
      "\n",
      "bnb done -> It's classification report for HS_Moderate \n",
      "               precision    recall  f1-score   support\n",
      "\n",
      "           0       0.78      0.72      0.75       502\n",
      "           1       0.75      0.81      0.78       521\n",
      "\n",
      "    accuracy                           0.76      1023\n",
      "   macro avg       0.77      0.76      0.76      1023\n",
      "weighted avg       0.77      0.76      0.76      1023\n",
      " \n",
      "\n",
      "----------------------------------------------------------------------\n",
      "\n",
      "\n",
      "DT done -> It's classification report for HS_Moderate \n",
      "               precision    recall  f1-score   support\n",
      "\n",
      "           0       0.68      0.71      0.70       502\n",
      "           1       0.71      0.68      0.70       521\n",
      "\n",
      "    accuracy                           0.70      1023\n",
      "   macro avg       0.70      0.70      0.70      1023\n",
      "weighted avg       0.70      0.70      0.70      1023\n",
      " \n",
      "\n",
      "----------------------------------------------------------------------\n",
      "\n",
      "\n",
      "RF done -> It's classification report for HS_Moderate \n",
      "               precision    recall  f1-score   support\n",
      "\n",
      "           0       0.73      0.78      0.75       502\n",
      "           1       0.77      0.72      0.75       521\n",
      "\n",
      "    accuracy                           0.75      1023\n",
      "   macro avg       0.75      0.75      0.75      1023\n",
      "weighted avg       0.75      0.75      0.75      1023\n",
      " \n",
      "\n",
      "----------------------------------------------------------------------\n",
      "\n",
      "F1_scores for HS_Moderate Are calculated\n"
     ]
    },
    {
     "data": {
      "text/html": [
       "<div>\n",
       "<style scoped>\n",
       "    .dataframe tbody tr th:only-of-type {\n",
       "        vertical-align: middle;\n",
       "    }\n",
       "\n",
       "    .dataframe tbody tr th {\n",
       "        vertical-align: top;\n",
       "    }\n",
       "\n",
       "    .dataframe thead th {\n",
       "        text-align: right;\n",
       "    }\n",
       "</style>\n",
       "<table border=\"1\" class=\"dataframe\">\n",
       "  <thead>\n",
       "    <tr style=\"text-align: right;\">\n",
       "      <th></th>\n",
       "      <th>F1_Score - HS_Moderate</th>\n",
       "    </tr>\n",
       "  </thead>\n",
       "  <tbody>\n",
       "    <tr>\n",
       "      <th>KNN</th>\n",
       "      <td>0.20</td>\n",
       "    </tr>\n",
       "    <tr>\n",
       "      <th>Logistic Regression</th>\n",
       "      <td>0.75</td>\n",
       "    </tr>\n",
       "    <tr>\n",
       "      <th>SVM</th>\n",
       "      <td>0.74</td>\n",
       "    </tr>\n",
       "    <tr>\n",
       "      <th>Complement NB</th>\n",
       "      <td>0.77</td>\n",
       "    </tr>\n",
       "    <tr>\n",
       "      <th>Bernoulli NB</th>\n",
       "      <td>0.78</td>\n",
       "    </tr>\n",
       "    <tr>\n",
       "      <th>Decision Tree</th>\n",
       "      <td>0.70</td>\n",
       "    </tr>\n",
       "    <tr>\n",
       "      <th>Random Forest</th>\n",
       "      <td>0.75</td>\n",
       "    </tr>\n",
       "  </tbody>\n",
       "</table>\n",
       "</div>"
      ],
      "text/plain": [
       "                     F1_Score - HS_Moderate\n",
       "KNN                                    0.20\n",
       "Logistic Regression                    0.75\n",
       "SVM                                    0.74\n",
       "Complement NB                          0.77\n",
       "Bernoulli NB                           0.78\n",
       "Decision Tree                          0.70\n",
       "Random Forest                          0.75"
      ]
     },
     "execution_count": 48,
     "metadata": {},
     "output_type": "execute_result"
    }
   ],
   "source": [
    "# Moderate\n",
    "data_Moderate = pd.read_csv('/kaggle/working/Moderate.csv')\n",
    "result_Moderate = vector_model(data_Moderate, 'HS_Moderate', TfidfVectorizer, (1,1))\n",
    "result_Moderate"
   ]
  },
  {
   "cell_type": "markdown",
   "id": "3b10a727",
   "metadata": {
    "papermill": {
     "duration": 0.045541,
     "end_time": "2023-12-13T21:34:52.115254",
     "exception": false,
     "start_time": "2023-12-13T21:34:52.069713",
     "status": "completed"
    },
    "tags": []
   },
   "source": [
    "### Score for HS_Strong"
   ]
  },
  {
   "cell_type": "code",
   "execution_count": 49,
   "id": "91518546",
   "metadata": {
    "execution": {
     "iopub.execute_input": "2023-12-13T21:34:52.209318Z",
     "iopub.status.busy": "2023-12-13T21:34:52.208499Z",
     "iopub.status.idle": "2023-12-13T21:34:52.794656Z",
     "shell.execute_reply": "2023-12-13T21:34:52.793651Z"
    },
    "papermill": {
     "duration": 0.635653,
     "end_time": "2023-12-13T21:34:52.796919",
     "exception": false,
     "start_time": "2023-12-13T21:34:52.161266",
     "status": "completed"
    },
    "tags": []
   },
   "outputs": [
    {
     "name": "stdout",
     "output_type": "stream",
     "text": [
      "Knn done -> It's classification report for HS_Strong \n",
      "               precision    recall  f1-score   support\n",
      "\n",
      "           0       0.59      0.99      0.74       144\n",
      "           1       0.98      0.29      0.44       140\n",
      "\n",
      "    accuracy                           0.64       284\n",
      "   macro avg       0.78      0.64      0.59       284\n",
      "weighted avg       0.78      0.64      0.59       284\n",
      " \n",
      "\n",
      "----------------------------------------------------------------------\n",
      "\n",
      "Lr done -> It's classification report for HS_Strong \n",
      "               precision    recall  f1-score   support\n",
      "\n",
      "           0       0.88      0.93      0.90       144\n",
      "           1       0.92      0.86      0.89       140\n",
      "\n",
      "    accuracy                           0.90       284\n",
      "   macro avg       0.90      0.90      0.90       284\n",
      "weighted avg       0.90      0.90      0.90       284\n",
      " \n",
      "\n",
      "----------------------------------------------------------------------\n",
      "\n",
      "\n",
      "svm done -> It's classification report for HS_Strong \n",
      "               precision    recall  f1-score   support\n",
      "\n",
      "           0       0.88      0.95      0.91       144\n",
      "           1       0.95      0.86      0.90       140\n",
      "\n",
      "    accuracy                           0.91       284\n",
      "   macro avg       0.91      0.91      0.91       284\n",
      "weighted avg       0.91      0.91      0.91       284\n",
      " \n",
      "\n",
      "----------------------------------------------------------------------\n",
      "\n",
      "\n",
      "cnb done -> It's classification report for HS_Strong \n",
      "               precision    recall  f1-score   support\n",
      "\n",
      "           0       0.92      0.72      0.81       144\n",
      "           1       0.77      0.94      0.84       140\n",
      "\n",
      "    accuracy                           0.83       284\n",
      "   macro avg       0.84      0.83      0.83       284\n",
      "weighted avg       0.84      0.83      0.83       284\n",
      " \n",
      "\n",
      "----------------------------------------------------------------------\n",
      "\n",
      "\n",
      "bnb done -> It's classification report for HS_Strong \n",
      "               precision    recall  f1-score   support\n",
      "\n",
      "           0       0.93      0.76      0.84       144\n",
      "           1       0.79      0.94      0.86       140\n",
      "\n",
      "    accuracy                           0.85       284\n",
      "   macro avg       0.86      0.85      0.85       284\n",
      "weighted avg       0.86      0.85      0.85       284\n",
      " \n",
      "\n",
      "----------------------------------------------------------------------\n",
      "\n",
      "\n",
      "DT done -> It's classification report for HS_Strong \n",
      "               precision    recall  f1-score   support\n",
      "\n",
      "           0       0.88      0.88      0.88       144\n",
      "           1       0.87      0.88      0.88       140\n",
      "\n",
      "    accuracy                           0.88       284\n",
      "   macro avg       0.88      0.88      0.88       284\n",
      "weighted avg       0.88      0.88      0.88       284\n",
      " \n",
      "\n",
      "----------------------------------------------------------------------\n",
      "\n",
      "\n",
      "RF done -> It's classification report for HS_Strong \n",
      "               precision    recall  f1-score   support\n",
      "\n",
      "           0       0.93      0.88      0.90       144\n",
      "           1       0.88      0.93      0.90       140\n",
      "\n",
      "    accuracy                           0.90       284\n",
      "   macro avg       0.90      0.90      0.90       284\n",
      "weighted avg       0.90      0.90      0.90       284\n",
      " \n",
      "\n",
      "----------------------------------------------------------------------\n",
      "\n",
      "F1_scores for HS_Strong Are calculated\n"
     ]
    },
    {
     "data": {
      "text/html": [
       "<div>\n",
       "<style scoped>\n",
       "    .dataframe tbody tr th:only-of-type {\n",
       "        vertical-align: middle;\n",
       "    }\n",
       "\n",
       "    .dataframe tbody tr th {\n",
       "        vertical-align: top;\n",
       "    }\n",
       "\n",
       "    .dataframe thead th {\n",
       "        text-align: right;\n",
       "    }\n",
       "</style>\n",
       "<table border=\"1\" class=\"dataframe\">\n",
       "  <thead>\n",
       "    <tr style=\"text-align: right;\">\n",
       "      <th></th>\n",
       "      <th>F1_Score - HS_Strong</th>\n",
       "    </tr>\n",
       "  </thead>\n",
       "  <tbody>\n",
       "    <tr>\n",
       "      <th>KNN</th>\n",
       "      <td>0.44</td>\n",
       "    </tr>\n",
       "    <tr>\n",
       "      <th>Logistic Regression</th>\n",
       "      <td>0.89</td>\n",
       "    </tr>\n",
       "    <tr>\n",
       "      <th>SVM</th>\n",
       "      <td>0.90</td>\n",
       "    </tr>\n",
       "    <tr>\n",
       "      <th>Complement NB</th>\n",
       "      <td>0.84</td>\n",
       "    </tr>\n",
       "    <tr>\n",
       "      <th>Bernoulli NB</th>\n",
       "      <td>0.86</td>\n",
       "    </tr>\n",
       "    <tr>\n",
       "      <th>Decision Tree</th>\n",
       "      <td>0.88</td>\n",
       "    </tr>\n",
       "    <tr>\n",
       "      <th>Random Forest</th>\n",
       "      <td>0.90</td>\n",
       "    </tr>\n",
       "  </tbody>\n",
       "</table>\n",
       "</div>"
      ],
      "text/plain": [
       "                     F1_Score - HS_Strong\n",
       "KNN                                  0.44\n",
       "Logistic Regression                  0.89\n",
       "SVM                                  0.90\n",
       "Complement NB                        0.84\n",
       "Bernoulli NB                         0.86\n",
       "Decision Tree                        0.88\n",
       "Random Forest                        0.90"
      ]
     },
     "execution_count": 49,
     "metadata": {},
     "output_type": "execute_result"
    }
   ],
   "source": [
    "# Strong\n",
    "data_Strong = pd.read_csv('/kaggle/working/Strong.csv')\n",
    "result_Strong = vector_model(data_Strong, 'HS_Strong', TfidfVectorizer, (1,1))\n",
    "result_Strong"
   ]
  },
  {
   "cell_type": "markdown",
   "id": "4ab15aaf",
   "metadata": {
    "papermill": {
     "duration": 0.045909,
     "end_time": "2023-12-13T21:34:52.890807",
     "exception": false,
     "start_time": "2023-12-13T21:34:52.844898",
     "status": "completed"
    },
    "tags": []
   },
   "source": [
    "### F1-score for All Labels"
   ]
  },
  {
   "cell_type": "code",
   "execution_count": 50,
   "id": "5e375fda",
   "metadata": {
    "execution": {
     "iopub.execute_input": "2023-12-13T21:34:52.984366Z",
     "iopub.status.busy": "2023-12-13T21:34:52.983503Z",
     "iopub.status.idle": "2023-12-13T21:34:53.004561Z",
     "shell.execute_reply": "2023-12-13T21:34:53.003720Z"
    },
    "papermill": {
     "duration": 0.069823,
     "end_time": "2023-12-13T21:34:53.006485",
     "exception": false,
     "start_time": "2023-12-13T21:34:52.936662",
     "status": "completed"
    },
    "tags": []
   },
   "outputs": [
    {
     "data": {
      "text/html": [
       "<div>\n",
       "<style scoped>\n",
       "    .dataframe tbody tr th:only-of-type {\n",
       "        vertical-align: middle;\n",
       "    }\n",
       "\n",
       "    .dataframe tbody tr th {\n",
       "        vertical-align: top;\n",
       "    }\n",
       "\n",
       "    .dataframe thead th {\n",
       "        text-align: right;\n",
       "    }\n",
       "</style>\n",
       "<table border=\"1\" class=\"dataframe\">\n",
       "  <thead>\n",
       "    <tr style=\"text-align: right;\">\n",
       "      <th></th>\n",
       "      <th>KNN</th>\n",
       "      <th>Logistic Regression</th>\n",
       "      <th>SVM</th>\n",
       "      <th>Complement NB</th>\n",
       "      <th>Bernoulli NB</th>\n",
       "      <th>Decision Tree</th>\n",
       "      <th>Random Forest</th>\n",
       "    </tr>\n",
       "  </thead>\n",
       "  <tbody>\n",
       "    <tr>\n",
       "      <th>F1_Score - HS</th>\n",
       "      <td>0.35</td>\n",
       "      <td>0.81</td>\n",
       "      <td>0.82</td>\n",
       "      <td>0.82</td>\n",
       "      <td>0.81</td>\n",
       "      <td>0.78</td>\n",
       "      <td>0.82</td>\n",
       "    </tr>\n",
       "    <tr>\n",
       "      <th>F1_Score - Abusive</th>\n",
       "      <td>0.47</td>\n",
       "      <td>0.90</td>\n",
       "      <td>0.91</td>\n",
       "      <td>0.88</td>\n",
       "      <td>0.85</td>\n",
       "      <td>0.87</td>\n",
       "      <td>0.89</td>\n",
       "    </tr>\n",
       "    <tr>\n",
       "      <th>F1_Score - HS_Individual</th>\n",
       "      <td>0.38</td>\n",
       "      <td>0.79</td>\n",
       "      <td>0.80</td>\n",
       "      <td>0.80</td>\n",
       "      <td>0.78</td>\n",
       "      <td>0.74</td>\n",
       "      <td>0.79</td>\n",
       "    </tr>\n",
       "    <tr>\n",
       "      <th>F1_Score - HS_Group</th>\n",
       "      <td>0.26</td>\n",
       "      <td>0.78</td>\n",
       "      <td>0.79</td>\n",
       "      <td>0.79</td>\n",
       "      <td>0.80</td>\n",
       "      <td>0.75</td>\n",
       "      <td>0.79</td>\n",
       "    </tr>\n",
       "    <tr>\n",
       "      <th>F1_Score - HS_Religion</th>\n",
       "      <td>0.17</td>\n",
       "      <td>0.86</td>\n",
       "      <td>0.85</td>\n",
       "      <td>0.83</td>\n",
       "      <td>0.87</td>\n",
       "      <td>0.86</td>\n",
       "      <td>0.88</td>\n",
       "    </tr>\n",
       "    <tr>\n",
       "      <th>F1_Score - HS_Race</th>\n",
       "      <td>0.17</td>\n",
       "      <td>0.93</td>\n",
       "      <td>0.93</td>\n",
       "      <td>0.88</td>\n",
       "      <td>0.90</td>\n",
       "      <td>0.94</td>\n",
       "      <td>0.94</td>\n",
       "    </tr>\n",
       "    <tr>\n",
       "      <th>F1_Score - HS_Physical</th>\n",
       "      <td>0.23</td>\n",
       "      <td>0.77</td>\n",
       "      <td>0.77</td>\n",
       "      <td>0.84</td>\n",
       "      <td>0.81</td>\n",
       "      <td>0.88</td>\n",
       "      <td>0.85</td>\n",
       "    </tr>\n",
       "    <tr>\n",
       "      <th>F1_Score - HS_Gender</th>\n",
       "      <td>0.16</td>\n",
       "      <td>0.83</td>\n",
       "      <td>0.80</td>\n",
       "      <td>0.84</td>\n",
       "      <td>0.85</td>\n",
       "      <td>0.88</td>\n",
       "      <td>0.84</td>\n",
       "    </tr>\n",
       "    <tr>\n",
       "      <th>F1_Score - HS_Other</th>\n",
       "      <td>0.69</td>\n",
       "      <td>0.84</td>\n",
       "      <td>0.84</td>\n",
       "      <td>0.84</td>\n",
       "      <td>0.82</td>\n",
       "      <td>0.77</td>\n",
       "      <td>0.83</td>\n",
       "    </tr>\n",
       "    <tr>\n",
       "      <th>F1_Score - HS_Weak</th>\n",
       "      <td>0.40</td>\n",
       "      <td>0.78</td>\n",
       "      <td>0.78</td>\n",
       "      <td>0.78</td>\n",
       "      <td>0.77</td>\n",
       "      <td>0.74</td>\n",
       "      <td>0.78</td>\n",
       "    </tr>\n",
       "    <tr>\n",
       "      <th>F1_Score - HS_Moderate</th>\n",
       "      <td>0.20</td>\n",
       "      <td>0.75</td>\n",
       "      <td>0.74</td>\n",
       "      <td>0.77</td>\n",
       "      <td>0.78</td>\n",
       "      <td>0.70</td>\n",
       "      <td>0.75</td>\n",
       "    </tr>\n",
       "    <tr>\n",
       "      <th>F1_Score - HS_Strong</th>\n",
       "      <td>0.44</td>\n",
       "      <td>0.89</td>\n",
       "      <td>0.90</td>\n",
       "      <td>0.84</td>\n",
       "      <td>0.86</td>\n",
       "      <td>0.88</td>\n",
       "      <td>0.90</td>\n",
       "    </tr>\n",
       "  </tbody>\n",
       "</table>\n",
       "</div>"
      ],
      "text/plain": [
       "                           KNN  Logistic Regression   SVM  Complement NB  \\\n",
       "F1_Score - HS             0.35                 0.81  0.82           0.82   \n",
       "F1_Score - Abusive        0.47                 0.90  0.91           0.88   \n",
       "F1_Score - HS_Individual  0.38                 0.79  0.80           0.80   \n",
       "F1_Score - HS_Group       0.26                 0.78  0.79           0.79   \n",
       "F1_Score - HS_Religion    0.17                 0.86  0.85           0.83   \n",
       "F1_Score - HS_Race        0.17                 0.93  0.93           0.88   \n",
       "F1_Score - HS_Physical    0.23                 0.77  0.77           0.84   \n",
       "F1_Score - HS_Gender      0.16                 0.83  0.80           0.84   \n",
       "F1_Score - HS_Other       0.69                 0.84  0.84           0.84   \n",
       "F1_Score - HS_Weak        0.40                 0.78  0.78           0.78   \n",
       "F1_Score - HS_Moderate    0.20                 0.75  0.74           0.77   \n",
       "F1_Score - HS_Strong      0.44                 0.89  0.90           0.84   \n",
       "\n",
       "                          Bernoulli NB  Decision Tree  Random Forest  \n",
       "F1_Score - HS                     0.81           0.78           0.82  \n",
       "F1_Score - Abusive                0.85           0.87           0.89  \n",
       "F1_Score - HS_Individual          0.78           0.74           0.79  \n",
       "F1_Score - HS_Group               0.80           0.75           0.79  \n",
       "F1_Score - HS_Religion            0.87           0.86           0.88  \n",
       "F1_Score - HS_Race                0.90           0.94           0.94  \n",
       "F1_Score - HS_Physical            0.81           0.88           0.85  \n",
       "F1_Score - HS_Gender              0.85           0.88           0.84  \n",
       "F1_Score - HS_Other               0.82           0.77           0.83  \n",
       "F1_Score - HS_Weak                0.77           0.74           0.78  \n",
       "F1_Score - HS_Moderate            0.78           0.70           0.75  \n",
       "F1_Score - HS_Strong              0.86           0.88           0.90  "
      ]
     },
     "execution_count": 50,
     "metadata": {},
     "output_type": "execute_result"
    }
   ],
   "source": [
    "# Visualization of F1-Score of all categories\n",
    "result = pd.concat([result_HS, result_Abusive, result_Individual, result_Group, result_Religion, result_Race, result_Physical, result_Gender, result_Other, result_Weak, result_Moderate, result_Strong], axis=1)\n",
    "result = result.transpose()\n",
    "result.head(12)"
   ]
  },
  {
   "cell_type": "code",
   "execution_count": 51,
   "id": "67d4d50a",
   "metadata": {
    "execution": {
     "iopub.execute_input": "2023-12-13T21:34:53.102417Z",
     "iopub.status.busy": "2023-12-13T21:34:53.101575Z",
     "iopub.status.idle": "2023-12-13T21:34:53.783837Z",
     "shell.execute_reply": "2023-12-13T21:34:53.782896Z"
    },
    "papermill": {
     "duration": 0.734861,
     "end_time": "2023-12-13T21:34:53.788076",
     "exception": false,
     "start_time": "2023-12-13T21:34:53.053215",
     "status": "completed"
    },
    "tags": []
   },
   "outputs": [
    {
     "data": {
      "text/plain": [
       "<matplotlib.legend.Legend at 0x797694360a30>"
      ]
     },
     "execution_count": 51,
     "metadata": {},
     "output_type": "execute_result"
    },
    {
     "data": {
      "image/png": "[encoded data removed]",
      "text/plain": [
       "<Figure size 2500x1500 with 1 Axes>"
      ]
     },
     "metadata": {},
     "output_type": "display_data"
    }
   ],
   "source": [
    "plt.figure(figsize=(25,15))\n",
    "sns.lineplot(data=result, markers=True)\n",
    "plt.legend(loc='best')"
   ]
  },
  {
   "cell_type": "markdown",
   "id": "81abca05",
   "metadata": {
    "papermill": {
     "duration": 0.050032,
     "end_time": "2023-12-13T21:34:53.888626",
     "exception": false,
     "start_time": "2023-12-13T21:34:53.838594",
     "status": "completed"
    },
    "tags": []
   },
   "source": [
    "## Prediction - picking logistic regression model from above graph"
   ]
  },
  {
   "cell_type": "code",
   "execution_count": 52,
   "id": "c7569b75",
   "metadata": {
    "execution": {
     "iopub.execute_input": "2023-12-13T21:34:53.989966Z",
     "iopub.status.busy": "2023-12-13T21:34:53.989042Z",
     "iopub.status.idle": "2023-12-13T21:34:53.993505Z",
     "shell.execute_reply": "2023-12-13T21:34:53.992671Z"
    },
    "papermill": {
     "duration": 0.057287,
     "end_time": "2023-12-13T21:34:53.995503",
     "exception": false,
     "start_time": "2023-12-13T21:34:53.938216",
     "status": "completed"
    },
    "tags": []
   },
   "outputs": [],
   "source": [
    "example1 = ['Wahyu goblok gabisa mimpin negara gimana indonesia mau maju tolol anjing']"
   ]
  },
  {
   "cell_type": "markdown",
   "id": "a971a556",
   "metadata": {
    "papermill": {
     "duration": 0.049352,
     "end_time": "2023-12-13T21:34:54.094585",
     "exception": false,
     "start_time": "2023-12-13T21:34:54.045233",
     "status": "completed"
    },
    "tags": []
   },
   "source": [
    "### HS"
   ]
  },
  {
   "cell_type": "code",
   "execution_count": 53,
   "id": "8d6bed35",
   "metadata": {
    "execution": {
     "iopub.execute_input": "2023-12-13T21:34:54.195486Z",
     "iopub.status.busy": "2023-12-13T21:34:54.195062Z",
     "iopub.status.idle": "2023-12-13T21:34:54.653028Z",
     "shell.execute_reply": "2023-12-13T21:34:54.651873Z"
    },
    "papermill": {
     "duration": 0.512787,
     "end_time": "2023-12-13T21:34:54.656965",
     "exception": false,
     "start_time": "2023-12-13T21:34:54.144178",
     "status": "completed"
    },
    "tags": []
   },
   "outputs": [
    {
     "data": {
      "text/plain": [
       "array([1, 0, 0, 0, 0, 0, 0, 0, 1, 1, 0, 0, 1, 0, 1, 0, 0, 0, 0, 0, 0, 1,\n",
       "       0, 0, 1, 0, 0, 0, 1, 1, 1, 0, 1, 0, 1, 0, 0, 0, 0, 1, 1, 0, 1, 0,\n",
       "       1, 1, 1, 0, 1, 0, 0, 0, 1, 0, 1, 0, 0, 0, 1, 0, 0, 0, 0, 1, 1, 0,\n",
       "       0, 1, 1, 0, 0, 0, 1, 0, 0, 1, 1, 1, 1, 0, 1, 1, 0, 0, 1, 1, 0, 1,\n",
       "       1, 0, 0, 0, 1, 0, 1, 0, 0, 0, 0, 0])"
      ]
     },
     "execution_count": 53,
     "metadata": {},
     "output_type": "execute_result"
    }
   ],
   "source": [
    "x = df_HS.Tweet.fillna(' ')\n",
    "y = df_HS['HS']\n",
    "x_train, x_test, y_train, y_test = train_test_split(x, y, test_size=0.3, random_state=42)\n",
    "tfvHS = TfidfVectorizer(ngram_range=(1,1), stop_words=id_stopword_dict['stopword'].tolist())\n",
    "x_train_scal = tfvHS.fit_transform(x_train)\n",
    "x_test_scal = tfvHS.transform(x_test)\n",
    "lrHS = LogisticRegression()\n",
    "lrHS.fit(x_train_scal, y_train)\n",
    "lrHS.predict(x_test_scal)[:100]"
   ]
  },
  {
   "cell_type": "code",
   "execution_count": 54,
   "id": "8aacb572",
   "metadata": {
    "execution": {
     "iopub.execute_input": "2023-12-13T21:34:54.846554Z",
     "iopub.status.busy": "2023-12-13T21:34:54.845867Z",
     "iopub.status.idle": "2023-12-13T21:34:54.855818Z",
     "shell.execute_reply": "2023-12-13T21:34:54.854738Z"
    },
    "papermill": {
     "duration": 0.063766,
     "end_time": "2023-12-13T21:34:54.857874",
     "exception": false,
     "start_time": "2023-12-13T21:34:54.794108",
     "status": "completed"
    },
    "tags": []
   },
   "outputs": [
    {
     "name": "stdout",
     "output_type": "stream",
     "text": [
      "HS\n"
     ]
    }
   ],
   "source": [
    "example1_preprocessed = [preprocess(text) for text in example1]\n",
    "example1_transform = tfvHS.transform(example1_preprocessed)\n",
    "zero=lrHS.predict_proba(example1_transform)[:,0][0]\n",
    "one=lrHS.predict_proba(example1_transform)[:,1][0]\n",
    "if (zero>=0.42 and one<=0.58) and (zero<=0.58 and one>=0.42):\n",
    "    print('Neutral')\n",
    "elif one>0.58:\n",
    "    print('HS')\n",
    "else: \n",
    "    print('Not HS')"
   ]
  },
  {
   "cell_type": "markdown",
   "id": "1b1f837e",
   "metadata": {
    "papermill": {
     "duration": 0.049818,
     "end_time": "2023-12-13T21:34:54.957833",
     "exception": false,
     "start_time": "2023-12-13T21:34:54.908015",
     "status": "completed"
    },
    "tags": []
   },
   "source": [
    "### Abusive"
   ]
  },
  {
   "cell_type": "code",
   "execution_count": 55,
   "id": "1b2abe57",
   "metadata": {
    "execution": {
     "iopub.execute_input": "2023-12-13T21:34:55.059506Z",
     "iopub.status.busy": "2023-12-13T21:34:55.059149Z",
     "iopub.status.idle": "2023-12-13T21:34:55.601928Z",
     "shell.execute_reply": "2023-12-13T21:34:55.600686Z"
    },
    "papermill": {
     "duration": 0.597729,
     "end_time": "2023-12-13T21:34:55.605484",
     "exception": false,
     "start_time": "2023-12-13T21:34:55.007755",
     "status": "completed"
    },
    "tags": []
   },
   "outputs": [
    {
     "data": {
      "text/plain": [
       "array([0, 0, 0, 1, 0, 0, 1, 0, 0, 0, 1, 0, 0, 0, 1, 0, 0, 1, 0, 0, 0, 1,\n",
       "       0, 0, 0, 0, 0, 0, 1, 1, 0, 1, 0, 1, 1, 0, 1, 0, 0, 1, 1, 1, 0, 0,\n",
       "       0, 0, 0, 1, 0, 0, 0, 1, 0, 0, 1, 1, 0, 0, 1, 1, 0, 0, 0, 0, 0, 0,\n",
       "       0, 0, 1, 1, 1, 0, 0, 0, 1, 1, 0, 1, 1, 0, 0, 1, 1, 0, 1, 0, 0, 1,\n",
       "       1, 1, 1, 1, 1, 0, 1, 0, 1, 1, 0, 0])"
      ]
     },
     "execution_count": 55,
     "metadata": {},
     "output_type": "execute_result"
    }
   ],
   "source": [
    "x = df_Abusive.Tweet.fillna(' ')\n",
    "y = df_Abusive['Abusive']\n",
    "x_train, x_test, y_train, y_test = train_test_split(x, y, test_size=0.3, random_state=42)\n",
    "tfvAbusive = TfidfVectorizer(ngram_range=(1,1), stop_words=id_stopword_dict['stopword'].tolist())\n",
    "x_train_scal = tfvAbusive.fit_transform(x_train)\n",
    "x_test_scal = tfvAbusive.transform(x_test)\n",
    "lrAbusive = LogisticRegression()\n",
    "lrAbusive.fit(x_train_scal, y_train)\n",
    "lrAbusive.predict(x_test_scal)[:100]"
   ]
  },
  {
   "cell_type": "code",
   "execution_count": 56,
   "id": "265b1135",
   "metadata": {
    "execution": {
     "iopub.execute_input": "2023-12-13T21:34:55.791610Z",
     "iopub.status.busy": "2023-12-13T21:34:55.790913Z",
     "iopub.status.idle": "2023-12-13T21:34:55.801456Z",
     "shell.execute_reply": "2023-12-13T21:34:55.800385Z"
    },
    "papermill": {
     "duration": 0.063587,
     "end_time": "2023-12-13T21:34:55.803307",
     "exception": false,
     "start_time": "2023-12-13T21:34:55.739720",
     "status": "completed"
    },
    "tags": []
   },
   "outputs": [
    {
     "name": "stdout",
     "output_type": "stream",
     "text": [
      "Abusive\n"
     ]
    }
   ],
   "source": [
    "example1_preprocessed = [preprocess(text) for text in example1]\n",
    "example1_transform = tfvAbusive.transform(example1_preprocessed)\n",
    "zero=lrAbusive.predict_proba(example1_transform)[:,0][0]\n",
    "one=lrAbusive.predict_proba(example1_transform)[:,1][0]\n",
    "if (zero>=0.42 and one<=0.58) and (zero<=0.58 and one>=0.42):\n",
    "    print('Neutral')\n",
    "elif one>0.58:\n",
    "    print('Abusive')\n",
    "else: \n",
    "    print('Not Abusive')"
   ]
  },
  {
   "cell_type": "markdown",
   "id": "fd3d77aa",
   "metadata": {
    "papermill": {
     "duration": 0.050413,
     "end_time": "2023-12-13T21:34:55.903976",
     "exception": false,
     "start_time": "2023-12-13T21:34:55.853563",
     "status": "completed"
    },
    "tags": []
   },
   "source": [
    "### HS_Individual"
   ]
  },
  {
   "cell_type": "code",
   "execution_count": 57,
   "id": "d42367b3",
   "metadata": {
    "execution": {
     "iopub.execute_input": "2023-12-13T21:34:56.006515Z",
     "iopub.status.busy": "2023-12-13T21:34:56.005630Z",
     "iopub.status.idle": "2023-12-13T21:34:56.695596Z",
     "shell.execute_reply": "2023-12-13T21:34:56.694126Z"
    },
    "papermill": {
     "duration": 0.744536,
     "end_time": "2023-12-13T21:34:56.698724",
     "exception": false,
     "start_time": "2023-12-13T21:34:55.954188",
     "status": "completed"
    },
    "tags": []
   },
   "outputs": [
    {
     "data": {
      "text/plain": [
       "array([0, 0, 0, 0, 0, 0, 0, 0, 0, 0, 0, 0, 0, 0, 0, 0, 0, 0, 0, 0, 0, 0,\n",
       "       0, 0, 0, 0, 0, 0, 0, 1, 0, 0, 0, 0, 1, 0, 0, 0, 0, 1, 0, 0, 1, 0,\n",
       "       1, 1, 0, 0, 1, 0, 0, 0, 1, 0, 1, 0, 0, 0, 0, 0, 0, 0, 0, 0, 0, 0,\n",
       "       0, 1, 0, 0, 0, 0, 0, 0, 0, 0, 0, 0, 0, 0, 1, 0, 0, 0, 0, 0, 0, 0,\n",
       "       0, 0, 0, 0, 1, 0, 1, 0, 0, 0, 0, 0])"
      ]
     },
     "execution_count": 57,
     "metadata": {},
     "output_type": "execute_result"
    }
   ],
   "source": [
    "x = df_Individual.Tweet.fillna(' ')\n",
    "y = df_Individual['HS_Individual']\n",
    "x_train, x_test, y_train, y_test = train_test_split(x, y, test_size=0.3, random_state=42)\n",
    "tfvIndividual = TfidfVectorizer(ngram_range=(1,1), stop_words=id_stopword_dict['stopword'].tolist())\n",
    "x_train_scal = tfvIndividual.fit_transform(x_train)\n",
    "x_test_scal = tfvIndividual.transform(x_test)\n",
    "lrIndividual = LogisticRegression()\n",
    "lrIndividual.fit(x_train_scal, y_train)\n",
    "lrIndividual.predict(x_test_scal)[:100]"
   ]
  },
  {
   "cell_type": "code",
   "execution_count": 58,
   "id": "bded06c8",
   "metadata": {
    "execution": {
     "iopub.execute_input": "2023-12-13T21:34:56.887208Z",
     "iopub.status.busy": "2023-12-13T21:34:56.886548Z",
     "iopub.status.idle": "2023-12-13T21:34:56.896812Z",
     "shell.execute_reply": "2023-12-13T21:34:56.895549Z"
    },
    "papermill": {
     "duration": 0.063721,
     "end_time": "2023-12-13T21:34:56.898664",
     "exception": false,
     "start_time": "2023-12-13T21:34:56.834943",
     "status": "completed"
    },
    "tags": []
   },
   "outputs": [
    {
     "name": "stdout",
     "output_type": "stream",
     "text": [
      "HS_Individual\n"
     ]
    }
   ],
   "source": [
    "example1_preprocessed = [preprocess(text) for text in example1]\n",
    "example1_transform = tfvIndividual.transform(example1_preprocessed)\n",
    "zero=lrIndividual.predict_proba(example1_transform)[:,0][0]\n",
    "one=lrIndividual.predict_proba(example1_transform)[:,1][0]\n",
    "if (zero>=0.42 and one<=0.58) and (zero<=0.58 and one>=0.42):\n",
    "    print('Neutral')\n",
    "elif one>0.58:\n",
    "    print('HS_Individual')\n",
    "else: \n",
    "    print('Not HS_Individual')"
   ]
  },
  {
   "cell_type": "markdown",
   "id": "2a0e49bb",
   "metadata": {
    "papermill": {
     "duration": 0.050434,
     "end_time": "2023-12-13T21:34:56.999577",
     "exception": false,
     "start_time": "2023-12-13T21:34:56.949143",
     "status": "completed"
    },
    "tags": []
   },
   "source": [
    "### HS_Group"
   ]
  },
  {
   "cell_type": "code",
   "execution_count": 59,
   "id": "fcd54294",
   "metadata": {
    "execution": {
     "iopub.execute_input": "2023-12-13T21:34:57.102879Z",
     "iopub.status.busy": "2023-12-13T21:34:57.102023Z",
     "iopub.status.idle": "2023-12-13T21:34:57.740651Z",
     "shell.execute_reply": "2023-12-13T21:34:57.739223Z"
    },
    "papermill": {
     "duration": 0.694396,
     "end_time": "2023-12-13T21:34:57.743878",
     "exception": false,
     "start_time": "2023-12-13T21:34:57.049482",
     "status": "completed"
    },
    "tags": []
   },
   "outputs": [
    {
     "data": {
      "text/plain": [
       "array([1, 0, 0, 0, 0, 0, 0, 0, 0, 1, 0, 0, 0, 0, 0, 0, 0, 0, 0, 0, 0, 0,\n",
       "       0, 0, 0, 0, 0, 0, 1, 0, 0, 0, 0, 0, 1, 0, 0, 0, 0, 0, 1, 0, 0, 0,\n",
       "       0, 0, 0, 0, 0, 0, 0, 0, 0, 0, 0, 0, 0, 0, 0, 0, 0, 0, 0, 0, 1, 0,\n",
       "       0, 0, 0, 0, 0, 0, 1, 0, 0, 1, 0, 0, 0, 0, 0, 0, 0, 0, 0, 0, 0, 0,\n",
       "       1, 0, 0, 0, 0, 0, 0, 0, 0, 0, 0, 0])"
      ]
     },
     "execution_count": 59,
     "metadata": {},
     "output_type": "execute_result"
    }
   ],
   "source": [
    "x = df_Group.Tweet.fillna(' ')\n",
    "y = df_Group['HS_Group']\n",
    "x_train, x_test, y_train, y_test = train_test_split(x, y, test_size=0.3, random_state=42)\n",
    "tfvGroup = TfidfVectorizer(ngram_range=(1,1), stop_words=id_stopword_dict['stopword'].tolist())\n",
    "x_train_scal = tfvGroup.fit_transform(x_train)\n",
    "x_test_scal = tfvGroup.transform(x_test)\n",
    "lrGroup = LogisticRegression()\n",
    "lrGroup.fit(x_train_scal, y_train)\n",
    "lrGroup.predict(x_test_scal)[:100]"
   ]
  },
  {
   "cell_type": "code",
   "execution_count": 60,
   "id": "2699c45a",
   "metadata": {
    "execution": {
     "iopub.execute_input": "2023-12-13T21:34:57.938370Z",
     "iopub.status.busy": "2023-12-13T21:34:57.937528Z",
     "iopub.status.idle": "2023-12-13T21:34:57.947133Z",
     "shell.execute_reply": "2023-12-13T21:34:57.946190Z"
    },
    "papermill": {
     "duration": 0.062956,
     "end_time": "2023-12-13T21:34:57.949040",
     "exception": false,
     "start_time": "2023-12-13T21:34:57.886084",
     "status": "completed"
    },
    "tags": []
   },
   "outputs": [
    {
     "name": "stdout",
     "output_type": "stream",
     "text": [
      "Not HS_Group\n"
     ]
    }
   ],
   "source": [
    "example1_preprocessed = [preprocess(text) for text in example1]\n",
    "example1_transform = tfvGroup.transform(example1_preprocessed)\n",
    "zero=lrGroup.predict_proba(example1_transform)[:,0][0]\n",
    "one=lrGroup.predict_proba(example1_transform)[:,1][0]\n",
    "if (zero>=0.42 and one<=0.58) and (zero<=0.58 and one>=0.42):\n",
    "    print('Neutral')\n",
    "elif one>0.58:\n",
    "    print('HS_Group')\n",
    "else: \n",
    "    print('Not HS_Group')"
   ]
  },
  {
   "cell_type": "markdown",
   "id": "5ff25914",
   "metadata": {
    "papermill": {
     "duration": 0.051379,
     "end_time": "2023-12-13T21:34:58.051746",
     "exception": false,
     "start_time": "2023-12-13T21:34:58.000367",
     "status": "completed"
    },
    "tags": []
   },
   "source": [
    "### HS_Religion"
   ]
  },
  {
   "cell_type": "code",
   "execution_count": 61,
   "id": "cc0ef5bc",
   "metadata": {
    "execution": {
     "iopub.execute_input": "2023-12-13T21:34:58.158142Z",
     "iopub.status.busy": "2023-12-13T21:34:58.157789Z",
     "iopub.status.idle": "2023-12-13T21:34:58.596570Z",
     "shell.execute_reply": "2023-12-13T21:34:58.595483Z"
    },
    "papermill": {
     "duration": 0.496647,
     "end_time": "2023-12-13T21:34:58.600025",
     "exception": false,
     "start_time": "2023-12-13T21:34:58.103378",
     "status": "completed"
    },
    "tags": []
   },
   "outputs": [
    {
     "data": {
      "text/plain": [
       "array([1, 0, 0, 0, 0, 0, 0, 0, 0, 0, 0, 0, 0, 0, 0, 0, 0, 0, 0, 0, 0, 0,\n",
       "       0, 0, 0, 0, 0, 0, 0, 0, 0, 0, 0, 0, 1, 0, 0, 0, 0, 0, 0, 0, 0, 0,\n",
       "       0, 0, 0, 0, 0, 0, 0, 0, 0, 0, 0, 0, 0, 0, 0, 0, 0, 0, 0, 0, 0, 0,\n",
       "       0, 1, 0, 0, 0, 0, 0, 0, 0, 0, 0, 0, 0, 0, 0, 0, 0, 0, 0, 0, 0, 0,\n",
       "       0, 0, 0, 0, 0, 0, 0, 0, 0, 0, 0, 0])"
      ]
     },
     "execution_count": 61,
     "metadata": {},
     "output_type": "execute_result"
    }
   ],
   "source": [
    "x = df_Religion.Tweet.fillna(' ')\n",
    "y = df_Religion['HS_Religion']\n",
    "x_train, x_test, y_train, y_test = train_test_split(x, y, test_size=0.3, random_state=42)\n",
    "tfvReligion = TfidfVectorizer(ngram_range=(1,1), stop_words=id_stopword_dict['stopword'].tolist())\n",
    "x_train_scal = tfvReligion.fit_transform(x_train)\n",
    "x_test_scal = tfvReligion.transform(x_test)\n",
    "lrReligion = LogisticRegression()\n",
    "lrReligion.fit(x_train_scal, y_train)\n",
    "lrReligion.predict(x_test_scal)[:100]"
   ]
  },
  {
   "cell_type": "code",
   "execution_count": 62,
   "id": "efbc9331",
   "metadata": {
    "execution": {
     "iopub.execute_input": "2023-12-13T21:34:58.794262Z",
     "iopub.status.busy": "2023-12-13T21:34:58.793896Z",
     "iopub.status.idle": "2023-12-13T21:34:58.803984Z",
     "shell.execute_reply": "2023-12-13T21:34:58.803048Z"
    },
    "papermill": {
     "duration": 0.063297,
     "end_time": "2023-12-13T21:34:58.806157",
     "exception": false,
     "start_time": "2023-12-13T21:34:58.742860",
     "status": "completed"
    },
    "tags": []
   },
   "outputs": [
    {
     "name": "stdout",
     "output_type": "stream",
     "text": [
      "Not HS_Religion\n"
     ]
    }
   ],
   "source": [
    "example1_preprocessed = [preprocess(text) for text in example1]\n",
    "example1_transform = tfvReligion.transform(example1_preprocessed)\n",
    "zero=lrReligion.predict_proba(example1_transform)[:,0][0]\n",
    "one=lrReligion.predict_proba(example1_transform)[:,1][0]\n",
    "if (zero>=0.42 and one<=0.58) and (zero<=0.58 and one>=0.42):\n",
    "    print('Neutral')\n",
    "elif one>0.58:\n",
    "    print('HS_Religion')\n",
    "else: \n",
    "    print('Not HS_Religion')"
   ]
  },
  {
   "cell_type": "markdown",
   "id": "372cfd2c",
   "metadata": {
    "papermill": {
     "duration": 0.051907,
     "end_time": "2023-12-13T21:34:58.910121",
     "exception": false,
     "start_time": "2023-12-13T21:34:58.858214",
     "status": "completed"
    },
    "tags": []
   },
   "source": [
    "### HS_Race"
   ]
  },
  {
   "cell_type": "code",
   "execution_count": 63,
   "id": "46222086",
   "metadata": {
    "execution": {
     "iopub.execute_input": "2023-12-13T21:34:59.013070Z",
     "iopub.status.busy": "2023-12-13T21:34:59.012223Z",
     "iopub.status.idle": "2023-12-13T21:34:59.617227Z",
     "shell.execute_reply": "2023-12-13T21:34:59.616078Z"
    },
    "papermill": {
     "duration": 0.660553,
     "end_time": "2023-12-13T21:34:59.620716",
     "exception": false,
     "start_time": "2023-12-13T21:34:58.960163",
     "status": "completed"
    },
    "tags": []
   },
   "outputs": [
    {
     "data": {
      "text/plain": [
       "array([0, 0, 0, 0, 0, 0, 0, 0, 0, 0, 0, 0, 0, 0, 0, 0, 0, 0, 0, 0, 0, 0,\n",
       "       0, 0, 0, 0, 0, 0, 0, 0, 0, 0, 0, 0, 0, 0, 0, 0, 0, 0, 0, 0, 0, 0,\n",
       "       0, 0, 0, 0, 0, 0, 0, 0, 0, 0, 0, 0, 0, 0, 0, 0, 0, 0, 0, 0, 0, 0,\n",
       "       0, 0, 0, 0, 0, 0, 0, 0, 0, 0, 0, 0, 0, 0, 0, 0, 0, 0, 0, 0, 0, 0,\n",
       "       1, 0, 0, 0, 0, 0, 0, 0, 0, 0, 0, 0])"
      ]
     },
     "execution_count": 63,
     "metadata": {},
     "output_type": "execute_result"
    }
   ],
   "source": [
    "x = df_Race.Tweet.fillna(' ')\n",
    "y = df_Race['HS_Race']\n",
    "x_train, x_test, y_train, y_test = train_test_split(x, y, test_size=0.3, random_state=42)\n",
    "tfvRace = TfidfVectorizer(ngram_range=(1,1), stop_words=id_stopword_dict['stopword'].tolist())\n",
    "x_train_scal = tfvRace.fit_transform(x_train)\n",
    "x_test_scal = tfvRace.transform(x_test)\n",
    "lrRace = LogisticRegression()\n",
    "lrRace.fit(x_train_scal, y_train)\n",
    "lrRace.predict(x_test_scal)[:100]"
   ]
  },
  {
   "cell_type": "code",
   "execution_count": 64,
   "id": "81d821f6",
   "metadata": {
    "execution": {
     "iopub.execute_input": "2023-12-13T21:34:59.811314Z",
     "iopub.status.busy": "2023-12-13T21:34:59.810939Z",
     "iopub.status.idle": "2023-12-13T21:34:59.821261Z",
     "shell.execute_reply": "2023-12-13T21:34:59.820230Z"
    },
    "papermill": {
     "duration": 0.06537,
     "end_time": "2023-12-13T21:34:59.823194",
     "exception": false,
     "start_time": "2023-12-13T21:34:59.757824",
     "status": "completed"
    },
    "tags": []
   },
   "outputs": [
    {
     "name": "stdout",
     "output_type": "stream",
     "text": [
      "Not HS_Race\n"
     ]
    }
   ],
   "source": [
    "example1_preprocessed = [preprocess(text) for text in example1]\n",
    "example1_transform = tfvRace.transform(example1_preprocessed)\n",
    "zero=lrRace.predict_proba(example1_transform)[:,0][0]\n",
    "one=lrRace.predict_proba(example1_transform)[:,1][0]\n",
    "if (zero>=0.42 and one<=0.58) and (zero<=0.58 and one>=0.42):\n",
    "    print('Neutral')\n",
    "elif one>0.58:\n",
    "    print('HS_Race')\n",
    "else: \n",
    "    print('Not HS_Race')"
   ]
  },
  {
   "cell_type": "markdown",
   "id": "4e49ec46",
   "metadata": {
    "papermill": {
     "duration": 0.050653,
     "end_time": "2023-12-13T21:34:59.924361",
     "exception": false,
     "start_time": "2023-12-13T21:34:59.873708",
     "status": "completed"
    },
    "tags": []
   },
   "source": [
    "### HS_Gender"
   ]
  },
  {
   "cell_type": "code",
   "execution_count": 65,
   "id": "335d75e9",
   "metadata": {
    "execution": {
     "iopub.execute_input": "2023-12-13T21:35:00.029913Z",
     "iopub.status.busy": "2023-12-13T21:35:00.029553Z",
     "iopub.status.idle": "2023-12-13T21:35:00.750982Z",
     "shell.execute_reply": "2023-12-13T21:35:00.744740Z"
    },
    "papermill": {
     "duration": 0.778066,
     "end_time": "2023-12-13T21:35:00.754300",
     "exception": false,
     "start_time": "2023-12-13T21:34:59.976234",
     "status": "completed"
    },
    "tags": []
   },
   "outputs": [
    {
     "data": {
      "text/plain": [
       "array([0, 0, 0, 0, 0, 0, 0, 0, 0, 0, 0, 0, 0, 0, 0, 0, 0, 0, 0, 0, 0, 0,\n",
       "       0, 0, 0, 0, 0, 0, 0, 1, 0, 0, 0, 0, 0, 0, 0, 0, 0, 0, 0, 0, 0, 0,\n",
       "       0, 0, 0, 0, 0, 0, 0, 0, 0, 0, 0, 0, 0, 0, 0, 0, 0, 0, 0, 0, 0, 0,\n",
       "       0, 0, 0, 0, 0, 0, 0, 0, 0, 0, 0, 0, 0, 0, 0, 0, 0, 0, 0, 0, 0, 0,\n",
       "       0, 0, 0, 0, 0, 0, 0, 0, 0, 0, 0, 0])"
      ]
     },
     "execution_count": 65,
     "metadata": {},
     "output_type": "execute_result"
    }
   ],
   "source": [
    "x = df_Gender.Tweet.fillna(' ')\n",
    "y = df_Gender['HS_Gender']\n",
    "x_train, x_test, y_train, y_test = train_test_split(x, y, test_size=0.3, random_state=42)\n",
    "tfvGender = TfidfVectorizer(ngram_range=(1,1), stop_words=id_stopword_dict['stopword'].tolist())\n",
    "x_train_scal = tfvGender.fit_transform(x_train)\n",
    "x_test_scal = tfvGender.transform(x_test)\n",
    "lrGender = LogisticRegression()\n",
    "lrGender.fit(x_train_scal, y_train)\n",
    "lrGender.predict(x_test_scal)[:100]"
   ]
  },
  {
   "cell_type": "code",
   "execution_count": 66,
   "id": "70954724",
   "metadata": {
    "execution": {
     "iopub.execute_input": "2023-12-13T21:35:00.931105Z",
     "iopub.status.busy": "2023-12-13T21:35:00.930612Z",
     "iopub.status.idle": "2023-12-13T21:35:00.943263Z",
     "shell.execute_reply": "2023-12-13T21:35:00.942254Z"
    },
    "papermill": {
     "duration": 0.06806,
     "end_time": "2023-12-13T21:35:00.945396",
     "exception": false,
     "start_time": "2023-12-13T21:35:00.877336",
     "status": "completed"
    },
    "tags": []
   },
   "outputs": [
    {
     "name": "stdout",
     "output_type": "stream",
     "text": [
      "Not HS_Gender\n"
     ]
    }
   ],
   "source": [
    "example1_preprocessed = [preprocess(text) for text in example1]\n",
    "example1_transform = tfvGender.transform(example1_preprocessed)\n",
    "zero=lrGender.predict_proba(example1_transform)[:,0][0]\n",
    "one=lrGender.predict_proba(example1_transform)[:,1][0]\n",
    "if (zero>=0.42 and one<=0.58) and (zero<=0.58 and one>=0.42):\n",
    "    print('Neutral')\n",
    "elif one>0.58:\n",
    "    print('HS_Gender')\n",
    "else: \n",
    "    print('Not HS_Gender')"
   ]
  },
  {
   "cell_type": "markdown",
   "id": "4e71811e",
   "metadata": {
    "papermill": {
     "duration": 0.050912,
     "end_time": "2023-12-13T21:35:01.047859",
     "exception": false,
     "start_time": "2023-12-13T21:35:00.996947",
     "status": "completed"
    },
    "tags": []
   },
   "source": [
    "### HS_Other"
   ]
  },
  {
   "cell_type": "code",
   "execution_count": 67,
   "id": "cec82481",
   "metadata": {
    "execution": {
     "iopub.execute_input": "2023-12-13T21:35:01.154504Z",
     "iopub.status.busy": "2023-12-13T21:35:01.153573Z",
     "iopub.status.idle": "2023-12-13T21:35:01.752554Z",
     "shell.execute_reply": "2023-12-13T21:35:01.748743Z"
    },
    "papermill": {
     "duration": 0.656416,
     "end_time": "2023-12-13T21:35:01.755751",
     "exception": false,
     "start_time": "2023-12-13T21:35:01.099335",
     "status": "completed"
    },
    "tags": []
   },
   "outputs": [
    {
     "data": {
      "text/plain": [
       "array([0, 0, 0, 0, 0, 0, 0, 0, 0, 0, 0, 0, 0, 0, 1, 0, 0, 0, 0, 0, 0, 0,\n",
       "       0, 0, 1, 0, 0, 0, 1, 0, 1, 0, 0, 0, 1, 0, 0, 0, 0, 0, 1, 0, 1, 0,\n",
       "       1, 1, 0, 0, 1, 0, 0, 0, 1, 0, 1, 0, 0, 0, 1, 0, 0, 0, 0, 0, 1, 0,\n",
       "       0, 0, 0, 0, 0, 0, 1, 0, 0, 1, 0, 1, 1, 0, 1, 1, 0, 0, 1, 0, 0, 0,\n",
       "       0, 0, 0, 0, 0, 0, 0, 0, 0, 0, 0, 0])"
      ]
     },
     "execution_count": 67,
     "metadata": {},
     "output_type": "execute_result"
    }
   ],
   "source": [
    "x = df_Other.Tweet.fillna(' ')\n",
    "y = df_Other['HS_Other']\n",
    "x_train, x_test, y_train, y_test = train_test_split(x, y, test_size=0.3, random_state=42)\n",
    "tfvOther = TfidfVectorizer(ngram_range=(1,1), stop_words=id_stopword_dict['stopword'].tolist())\n",
    "x_train_scal = tfvOther.fit_transform(x_train)\n",
    "x_test_scal = tfvOther.transform(x_test)\n",
    "lrOther = LogisticRegression()\n",
    "lrOther.fit(x_train_scal, y_train)\n",
    "lrOther.predict(x_test_scal)[:100]"
   ]
  },
  {
   "cell_type": "code",
   "execution_count": 68,
   "id": "bd091b53",
   "metadata": {
    "execution": {
     "iopub.execute_input": "2023-12-13T21:35:01.929910Z",
     "iopub.status.busy": "2023-12-13T21:35:01.929322Z",
     "iopub.status.idle": "2023-12-13T21:35:01.939795Z",
     "shell.execute_reply": "2023-12-13T21:35:01.938867Z"
    },
    "papermill": {
     "duration": 0.083838,
     "end_time": "2023-12-13T21:35:01.941751",
     "exception": false,
     "start_time": "2023-12-13T21:35:01.857913",
     "status": "completed"
    },
    "tags": []
   },
   "outputs": [
    {
     "name": "stdout",
     "output_type": "stream",
     "text": [
      "HS_Other\n"
     ]
    }
   ],
   "source": [
    "example1_preprocessed = [preprocess(text) for text in example1]\n",
    "example1_transform = tfvOther.transform(example1_preprocessed)\n",
    "zero=lrOther.predict_proba(example1_transform)[:,0][0]\n",
    "one=lrOther.predict_proba(example1_transform)[:,1][0]\n",
    "if (zero>=0.42 and one<=0.58) and (zero<=0.58 and one>=0.42):\n",
    "    print('Neutral')\n",
    "elif one>0.58:\n",
    "    print('HS_Other')\n",
    "else: \n",
    "    print('Not HS_Other')"
   ]
  },
  {
   "cell_type": "markdown",
   "id": "778e33d3",
   "metadata": {
    "papermill": {
     "duration": 0.051342,
     "end_time": "2023-12-13T21:35:02.044836",
     "exception": false,
     "start_time": "2023-12-13T21:35:01.993494",
     "status": "completed"
    },
    "tags": []
   },
   "source": [
    "### HS_Weak"
   ]
  },
  {
   "cell_type": "code",
   "execution_count": 69,
   "id": "4851285a",
   "metadata": {
    "execution": {
     "iopub.execute_input": "2023-12-13T21:35:02.148087Z",
     "iopub.status.busy": "2023-12-13T21:35:02.147724Z",
     "iopub.status.idle": "2023-12-13T21:35:02.883290Z",
     "shell.execute_reply": "2023-12-13T21:35:02.881909Z"
    },
    "papermill": {
     "duration": 0.790962,
     "end_time": "2023-12-13T21:35:02.886447",
     "exception": false,
     "start_time": "2023-12-13T21:35:02.095485",
     "status": "completed"
    },
    "tags": []
   },
   "outputs": [
    {
     "data": {
      "text/plain": [
       "array([0, 0, 0, 0, 0, 0, 0, 0, 0, 0, 0, 0, 0, 0, 0, 0, 0, 0, 0, 0, 0, 0,\n",
       "       0, 0, 0, 0, 0, 0, 0, 1, 0, 0, 0, 0, 1, 0, 0, 0, 0, 1, 0, 0, 1, 0,\n",
       "       1, 1, 0, 0, 1, 0, 0, 0, 0, 0, 1, 0, 0, 0, 0, 0, 0, 0, 0, 0, 0, 0,\n",
       "       0, 0, 0, 0, 0, 0, 0, 0, 0, 0, 0, 0, 0, 0, 1, 0, 0, 0, 0, 0, 0, 0,\n",
       "       0, 0, 0, 0, 0, 0, 1, 0, 0, 0, 0, 0])"
      ]
     },
     "execution_count": 69,
     "metadata": {},
     "output_type": "execute_result"
    }
   ],
   "source": [
    "x = df_Weak.Tweet.fillna(' ')\n",
    "y = df_Weak['HS_Weak']\n",
    "x_train, x_test, y_train, y_test = train_test_split(x, y, test_size=0.3, random_state=42)\n",
    "tfvWeak = TfidfVectorizer(ngram_range=(1,1), stop_words=id_stopword_dict['stopword'].tolist())\n",
    "x_train_scal = tfvWeak.fit_transform(x_train)\n",
    "x_test_scal = tfvWeak.transform(x_test)\n",
    "lrWeak = LogisticRegression()\n",
    "lrWeak.fit(x_train_scal, y_train)\n",
    "lrWeak.predict(x_test_scal)[:100]"
   ]
  },
  {
   "cell_type": "code",
   "execution_count": 70,
   "id": "aca61355",
   "metadata": {
    "execution": {
     "iopub.execute_input": "2023-12-13T21:35:03.074003Z",
     "iopub.status.busy": "2023-12-13T21:35:03.073288Z",
     "iopub.status.idle": "2023-12-13T21:35:03.083167Z",
     "shell.execute_reply": "2023-12-13T21:35:03.082144Z"
    },
    "papermill": {
     "duration": 0.063608,
     "end_time": "2023-12-13T21:35:03.084992",
     "exception": false,
     "start_time": "2023-12-13T21:35:03.021384",
     "status": "completed"
    },
    "tags": []
   },
   "outputs": [
    {
     "name": "stdout",
     "output_type": "stream",
     "text": [
      "HS_Weak\n"
     ]
    }
   ],
   "source": [
    "example1_preprocessed = [preprocess(text) for text in example1]\n",
    "example1_transform = tfvWeak.transform(example1_preprocessed)\n",
    "zero=lrWeak.predict_proba(example1_transform)[:,0][0]\n",
    "one=lrWeak.predict_proba(example1_transform)[:,1][0]\n",
    "if (zero>=0.42 and one<=0.58) and (zero<=0.58 and one>=0.42):\n",
    "    print('Neutral')\n",
    "elif one>0.58:\n",
    "    print('HS_Weak')\n",
    "else: \n",
    "    print('Not HS_Weak')"
   ]
  },
  {
   "cell_type": "markdown",
   "id": "0add6576",
   "metadata": {
    "papermill": {
     "duration": 0.05098,
     "end_time": "2023-12-13T21:35:03.187024",
     "exception": false,
     "start_time": "2023-12-13T21:35:03.136044",
     "status": "completed"
    },
    "tags": []
   },
   "source": [
    "### HS_Moderate"
   ]
  },
  {
   "cell_type": "code",
   "execution_count": 71,
   "id": "adc78032",
   "metadata": {
    "execution": {
     "iopub.execute_input": "2023-12-13T21:35:03.294200Z",
     "iopub.status.busy": "2023-12-13T21:35:03.293347Z",
     "iopub.status.idle": "2023-12-13T21:35:03.852670Z",
     "shell.execute_reply": "2023-12-13T21:35:03.851425Z"
    },
    "papermill": {
     "duration": 0.616605,
     "end_time": "2023-12-13T21:35:03.855898",
     "exception": false,
     "start_time": "2023-12-13T21:35:03.239293",
     "status": "completed"
    },
    "tags": []
   },
   "outputs": [
    {
     "data": {
      "text/plain": [
       "array([0, 0, 0, 0, 0, 0, 0, 0, 0, 0, 0, 0, 0, 0, 0, 0, 0, 0, 0, 0, 0, 0,\n",
       "       0, 0, 0, 0, 0, 0, 1, 0, 0, 0, 0, 0, 1, 0, 0, 0, 0, 0, 1, 0, 0, 0,\n",
       "       0, 0, 0, 0, 0, 0, 0, 0, 0, 0, 0, 0, 0, 0, 0, 0, 0, 0, 0, 0, 0, 0,\n",
       "       0, 0, 0, 0, 0, 0, 0, 0, 0, 1, 0, 0, 0, 0, 0, 0, 0, 0, 0, 0, 0, 0,\n",
       "       1, 0, 0, 0, 0, 0, 0, 0, 0, 0, 0, 0])"
      ]
     },
     "execution_count": 71,
     "metadata": {},
     "output_type": "execute_result"
    }
   ],
   "source": [
    "x = df_Moderate.Tweet.fillna(' ')\n",
    "y = df_Moderate['HS_Moderate']\n",
    "x_train, x_test, y_train, y_test = train_test_split(x, y, test_size=0.3, random_state=42)\n",
    "tfvModerate = TfidfVectorizer(ngram_range=(1,1), stop_words=id_stopword_dict['stopword'].tolist())\n",
    "x_train_scal = tfvModerate.fit_transform(x_train)\n",
    "x_test_scal = tfvModerate.transform(x_test)\n",
    "lrModerate = LogisticRegression()\n",
    "lrModerate.fit(x_train_scal, y_train)\n",
    "lrModerate.predict(x_test_scal)[:100]"
   ]
  },
  {
   "cell_type": "code",
   "execution_count": 72,
   "id": "8d5775f4",
   "metadata": {
    "execution": {
     "iopub.execute_input": "2023-12-13T21:35:04.056704Z",
     "iopub.status.busy": "2023-12-13T21:35:04.056310Z",
     "iopub.status.idle": "2023-12-13T21:35:04.066496Z",
     "shell.execute_reply": "2023-12-13T21:35:04.065630Z"
    },
    "papermill": {
     "duration": 0.068593,
     "end_time": "2023-12-13T21:35:04.068498",
     "exception": false,
     "start_time": "2023-12-13T21:35:03.999905",
     "status": "completed"
    },
    "tags": []
   },
   "outputs": [
    {
     "name": "stdout",
     "output_type": "stream",
     "text": [
      "Not HS_Moderate\n"
     ]
    }
   ],
   "source": [
    "example1_preprocessed = [preprocess(text) for text in example1]\n",
    "example1_transform = tfvModerate.transform(example1_preprocessed)\n",
    "zero=lrModerate.predict_proba(example1_transform)[:,0][0]\n",
    "one=lrModerate.predict_proba(example1_transform)[:,1][0]\n",
    "if (zero>=0.42 and one<=0.58) and (zero<=0.58 and one>=0.42):\n",
    "    print('Neutral')\n",
    "elif one>0.58:\n",
    "    print('HS_Moderate')\n",
    "else: \n",
    "    print('Not HS_Moderate')"
   ]
  },
  {
   "cell_type": "markdown",
   "id": "ddb80040",
   "metadata": {
    "papermill": {
     "duration": 0.052746,
     "end_time": "2023-12-13T21:35:04.173635",
     "exception": false,
     "start_time": "2023-12-13T21:35:04.120889",
     "status": "completed"
    },
    "tags": []
   },
   "source": [
    "### HS_Strong"
   ]
  },
  {
   "cell_type": "code",
   "execution_count": 73,
   "id": "509fe7ad",
   "metadata": {
    "execution": {
     "iopub.execute_input": "2023-12-13T21:35:04.279168Z",
     "iopub.status.busy": "2023-12-13T21:35:04.278807Z",
     "iopub.status.idle": "2023-12-13T21:35:04.757632Z",
     "shell.execute_reply": "2023-12-13T21:35:04.756377Z"
    },
    "papermill": {
     "duration": 0.537679,
     "end_time": "2023-12-13T21:35:04.762899",
     "exception": false,
     "start_time": "2023-12-13T21:35:04.225220",
     "status": "completed"
    },
    "tags": []
   },
   "outputs": [
    {
     "data": {
      "text/plain": [
       "array([0, 0, 0, 0, 0, 0, 0, 0, 0, 1, 0, 0, 0, 0, 0, 0, 0, 0, 0, 0, 0, 0,\n",
       "       0, 0, 0, 0, 0, 0, 0, 0, 0, 0, 0, 0, 0, 0, 0, 0, 0, 0, 0, 0, 0, 0,\n",
       "       0, 0, 0, 0, 0, 0, 0, 0, 0, 0, 0, 0, 0, 0, 0, 0, 0, 0, 0, 0, 0, 0,\n",
       "       0, 0, 0, 0, 0, 0, 1, 0, 0, 0, 0, 0, 0, 0, 0, 0, 0, 0, 0, 0, 0, 0,\n",
       "       0, 0, 0, 0, 0, 0, 0, 0, 0, 0, 0, 0])"
      ]
     },
     "execution_count": 73,
     "metadata": {},
     "output_type": "execute_result"
    }
   ],
   "source": [
    "x = df_Strong.Tweet.fillna(' ')\n",
    "y = df_Strong['HS_Strong']\n",
    "x_train, x_test, y_train, y_test = train_test_split(x, y, test_size=0.3, random_state=42)\n",
    "tfvStrong = TfidfVectorizer(ngram_range=(1,1), stop_words=id_stopword_dict['stopword'].tolist())\n",
    "x_train_scal = tfvStrong.fit_transform(x_train)\n",
    "x_test_scal = tfvStrong.transform(x_test)\n",
    "lrStrong = LogisticRegression()\n",
    "lrStrong.fit(x_train_scal, y_train)\n",
    "lrStrong.predict(x_test_scal)[:100]"
   ]
  },
  {
   "cell_type": "code",
   "execution_count": 74,
   "id": "08aeaef7",
   "metadata": {
    "execution": {
     "iopub.execute_input": "2023-12-13T21:35:04.950464Z",
     "iopub.status.busy": "2023-12-13T21:35:04.950092Z",
     "iopub.status.idle": "2023-12-13T21:35:04.959791Z",
     "shell.execute_reply": "2023-12-13T21:35:04.958894Z"
    },
    "papermill": {
     "duration": 0.064513,
     "end_time": "2023-12-13T21:35:04.962237",
     "exception": false,
     "start_time": "2023-12-13T21:35:04.897724",
     "status": "completed"
    },
    "tags": []
   },
   "outputs": [
    {
     "name": "stdout",
     "output_type": "stream",
     "text": [
      "Not HS_Strong\n"
     ]
    }
   ],
   "source": [
    "example1_preprocessed = [preprocess(text) for text in example1]\n",
    "example1_transform = tfvStrong.transform(example1_preprocessed)\n",
    "zero=lrStrong.predict_proba(example1_transform)[:,0][0]\n",
    "one=lrStrong.predict_proba(example1_transform)[:,1][0]\n",
    "if (zero>=0.42 and one<=0.58) and (zero<=0.58 and one>=0.42):\n",
    "    print('Neutral')\n",
    "elif one>0.58:\n",
    "    print('HS_Strong')\n",
    "else: \n",
    "    print('Not HS_Strong')"
   ]
  }
 ],
 "metadata": {
  "kaggle": {
   "accelerator": "gpu",
   "dataSources": [
    {
     "datasetId": 275,
     "sourceId": 593,
     "sourceType": "datasetVersion"
    },
    {
     "datasetId": 603866,
     "sourceId": 1083592,
     "sourceType": "datasetVersion"
    }
   ],
   "dockerImageVersionId": 30627,
   "isGpuEnabled": true,
   "isInternetEnabled": true,
   "language": "python",
   "sourceType": "notebook"
  },
  "kernelspec": {
   "display_name": "Python (base-Anaconda)",
   "language": "python",
   "name": "base"
  },
  "language_info": {
   "codemirror_mode": {
    "name": "ipython",
    "version": 3
   },
   "file_extension": ".py",
   "mimetype": "text/x-python",
   "name": "python",
   "nbconvert_exporter": "python",
   "pygments_lexer": "ipython3",
   "version": "3.11.13"
  },
  "papermill": {
   "default_parameters": {},
   "duration": 141.121006,
   "end_time": "2023-12-13T21:35:05.535022",
   "environment_variables": {},
   "exception": null,
   "input_path": "__notebook__.ipynb",
   "output_path": "__notebook__.ipynb",
   "parameters": {},
   "start_time": "2023-12-13T21:32:44.414016",
   "version": "2.4.0"
  }
 },
 "nbformat": 4,
 "nbformat_minor": 5
}
